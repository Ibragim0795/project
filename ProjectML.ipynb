{
 "cells": [
  {
   "cell_type": "markdown",
   "metadata": {
    "toc": true
   },
   "source": [
    "<h1>Содержание<span class=\"tocSkip\"></span></h1>\n",
    "<div class=\"toc\"><ul class=\"toc-item\"><li><span><a href=\"#Подготовка-данных\" data-toc-modified-id=\"Подготовка-данных-1\"><span class=\"toc-item-num\">1&nbsp;&nbsp;</span>Подготовка данных</a></span></li><li><span><a href=\"#Исследование-задачи\" data-toc-modified-id=\"Исследование-задачи-2\"><span class=\"toc-item-num\">2&nbsp;&nbsp;</span>Исследование задачи</a></span></li><li><span><a href=\"#Борьба-с-дисбалансом\" data-toc-modified-id=\"Борьба-с-дисбалансом-3\"><span class=\"toc-item-num\">3&nbsp;&nbsp;</span>Борьба с дисбалансом</a></span></li><li><span><a href=\"#Тестирование-модели\" data-toc-modified-id=\"Тестирование-модели-4\"><span class=\"toc-item-num\">4&nbsp;&nbsp;</span>Тестирование модели</a></span></li><li><span><a href=\"#Чек-лист-готовности-проекта\" data-toc-modified-id=\"Чек-лист-готовности-проекта-5\"><span class=\"toc-item-num\">5&nbsp;&nbsp;</span>Чек-лист готовности проекта</a></span></li><li><span><a href=\"#Общий-вывод-по-проекту\" data-toc-modified-id=\"Общий-вывод-по-проекту-6\"><span class=\"toc-item-num\">6&nbsp;&nbsp;</span>Общий вывод по проекту<a>"
   ]
  },
  {
   "cell_type": "markdown",
   "metadata": {},
   "source": [
    "# Отток клиентов"
   ]
  },
  {
   "cell_type": "markdown",
   "metadata": {},
   "source": [
    "Из «Бета-Банка» стали уходить клиенты. Каждый месяц. Немного, но заметно. Банковские маркетологи посчитали: сохранять текущих клиентов дешевле, чем привлекать новых.\n",
    "\n",
    "Нужно спрогнозировать, уйдёт клиент из банка в ближайшее время или нет. Вам предоставлены исторические данные о поведении клиентов и расторжении договоров с банком. \n",
    "\n",
    "Постройте модель с предельно большим значением *F1*-меры. Чтобы сдать проект успешно, нужно довести метрику до 0.59. Проверьте *F1*-меру на тестовой выборке самостоятельно.\n",
    "\n",
    "Дополнительно измеряйте *AUC-ROC*, сравнивайте её значение с *F1*-мерой."
   ]
  },
  {
   "cell_type": "markdown",
   "metadata": {},
   "source": [
    "#ссылка на Github\n",
    "https://github.com/Ibragim0795/project.git"
   ]
  },
  {
   "cell_type": "markdown",
   "metadata": {},
   "source": [
    "## Подготовка данных"
   ]
  },
  {
   "cell_type": "code",
   "execution_count": 1,
   "metadata": {},
   "outputs": [],
   "source": [
    "import pandas as pd\n",
    "import matplotlib.pyplot as plt\n",
    "\n",
    "from sklearn.preprocessing import MinMaxScaler\n",
    "from sklearn.utils import shuffle\n",
    "from sklearn.model_selection import train_test_split, GridSearchCV\n",
    "from sklearn.metrics import accuracy_score, f1_score, recall_score, precision_score, roc_auc_score, roc_curve, confusion_matrix\n",
    "\n",
    "\n",
    "from sklearn.linear_model import LogisticRegression\n",
    "from sklearn.ensemble import RandomForestClassifier\n",
    "from sklearn.preprocessing import StandardScaler\n",
    "from sklearn.tree import DecisionTreeClassifier\n",
    "from sklearn.dummy import DummyClassifier\n",
    "\n",
    "\n",
    "import warnings\n",
    "warnings.filterwarnings(\"ignore\")"
   ]
  },
  {
   "cell_type": "code",
   "execution_count": 2,
   "metadata": {},
   "outputs": [],
   "source": [
    "data = pd.read_csv('/datasets/Churn.csv')"
   ]
  },
  {
   "cell_type": "code",
   "execution_count": 3,
   "metadata": {},
   "outputs": [
    {
     "data": {
      "text/html": [
       "<div>\n",
       "<style scoped>\n",
       "    .dataframe tbody tr th:only-of-type {\n",
       "        vertical-align: middle;\n",
       "    }\n",
       "\n",
       "    .dataframe tbody tr th {\n",
       "        vertical-align: top;\n",
       "    }\n",
       "\n",
       "    .dataframe thead th {\n",
       "        text-align: right;\n",
       "    }\n",
       "</style>\n",
       "<table border=\"1\" class=\"dataframe\">\n",
       "  <thead>\n",
       "    <tr style=\"text-align: right;\">\n",
       "      <th></th>\n",
       "      <th>RowNumber</th>\n",
       "      <th>CustomerId</th>\n",
       "      <th>Surname</th>\n",
       "      <th>CreditScore</th>\n",
       "      <th>Geography</th>\n",
       "      <th>Gender</th>\n",
       "      <th>Age</th>\n",
       "      <th>Tenure</th>\n",
       "      <th>Balance</th>\n",
       "      <th>NumOfProducts</th>\n",
       "      <th>HasCrCard</th>\n",
       "      <th>IsActiveMember</th>\n",
       "      <th>EstimatedSalary</th>\n",
       "      <th>Exited</th>\n",
       "    </tr>\n",
       "  </thead>\n",
       "  <tbody>\n",
       "    <tr>\n",
       "      <th>0</th>\n",
       "      <td>1</td>\n",
       "      <td>15634602</td>\n",
       "      <td>Hargrave</td>\n",
       "      <td>619</td>\n",
       "      <td>France</td>\n",
       "      <td>Female</td>\n",
       "      <td>42</td>\n",
       "      <td>2.0</td>\n",
       "      <td>0.00</td>\n",
       "      <td>1</td>\n",
       "      <td>1</td>\n",
       "      <td>1</td>\n",
       "      <td>101348.88</td>\n",
       "      <td>1</td>\n",
       "    </tr>\n",
       "    <tr>\n",
       "      <th>1</th>\n",
       "      <td>2</td>\n",
       "      <td>15647311</td>\n",
       "      <td>Hill</td>\n",
       "      <td>608</td>\n",
       "      <td>Spain</td>\n",
       "      <td>Female</td>\n",
       "      <td>41</td>\n",
       "      <td>1.0</td>\n",
       "      <td>83807.86</td>\n",
       "      <td>1</td>\n",
       "      <td>0</td>\n",
       "      <td>1</td>\n",
       "      <td>112542.58</td>\n",
       "      <td>0</td>\n",
       "    </tr>\n",
       "    <tr>\n",
       "      <th>2</th>\n",
       "      <td>3</td>\n",
       "      <td>15619304</td>\n",
       "      <td>Onio</td>\n",
       "      <td>502</td>\n",
       "      <td>France</td>\n",
       "      <td>Female</td>\n",
       "      <td>42</td>\n",
       "      <td>8.0</td>\n",
       "      <td>159660.80</td>\n",
       "      <td>3</td>\n",
       "      <td>1</td>\n",
       "      <td>0</td>\n",
       "      <td>113931.57</td>\n",
       "      <td>1</td>\n",
       "    </tr>\n",
       "    <tr>\n",
       "      <th>3</th>\n",
       "      <td>4</td>\n",
       "      <td>15701354</td>\n",
       "      <td>Boni</td>\n",
       "      <td>699</td>\n",
       "      <td>France</td>\n",
       "      <td>Female</td>\n",
       "      <td>39</td>\n",
       "      <td>1.0</td>\n",
       "      <td>0.00</td>\n",
       "      <td>2</td>\n",
       "      <td>0</td>\n",
       "      <td>0</td>\n",
       "      <td>93826.63</td>\n",
       "      <td>0</td>\n",
       "    </tr>\n",
       "    <tr>\n",
       "      <th>4</th>\n",
       "      <td>5</td>\n",
       "      <td>15737888</td>\n",
       "      <td>Mitchell</td>\n",
       "      <td>850</td>\n",
       "      <td>Spain</td>\n",
       "      <td>Female</td>\n",
       "      <td>43</td>\n",
       "      <td>2.0</td>\n",
       "      <td>125510.82</td>\n",
       "      <td>1</td>\n",
       "      <td>1</td>\n",
       "      <td>1</td>\n",
       "      <td>79084.10</td>\n",
       "      <td>0</td>\n",
       "    </tr>\n",
       "  </tbody>\n",
       "</table>\n",
       "</div>"
      ],
      "text/plain": [
       "   RowNumber  CustomerId   Surname  CreditScore Geography  Gender  Age  \\\n",
       "0          1    15634602  Hargrave          619    France  Female   42   \n",
       "1          2    15647311      Hill          608     Spain  Female   41   \n",
       "2          3    15619304      Onio          502    France  Female   42   \n",
       "3          4    15701354      Boni          699    France  Female   39   \n",
       "4          5    15737888  Mitchell          850     Spain  Female   43   \n",
       "\n",
       "   Tenure    Balance  NumOfProducts  HasCrCard  IsActiveMember  \\\n",
       "0     2.0       0.00              1          1               1   \n",
       "1     1.0   83807.86              1          0               1   \n",
       "2     8.0  159660.80              3          1               0   \n",
       "3     1.0       0.00              2          0               0   \n",
       "4     2.0  125510.82              1          1               1   \n",
       "\n",
       "   EstimatedSalary  Exited  \n",
       "0        101348.88       1  \n",
       "1        112542.58       0  \n",
       "2        113931.57       1  \n",
       "3         93826.63       0  \n",
       "4         79084.10       0  "
      ]
     },
     "execution_count": 3,
     "metadata": {},
     "output_type": "execute_result"
    }
   ],
   "source": [
    "data.head()"
   ]
  },
  {
   "cell_type": "code",
   "execution_count": 4,
   "metadata": {},
   "outputs": [
    {
     "name": "stdout",
     "output_type": "stream",
     "text": [
      "<class 'pandas.core.frame.DataFrame'>\n",
      "RangeIndex: 10000 entries, 0 to 9999\n",
      "Data columns (total 14 columns):\n",
      " #   Column           Non-Null Count  Dtype  \n",
      "---  ------           --------------  -----  \n",
      " 0   RowNumber        10000 non-null  int64  \n",
      " 1   CustomerId       10000 non-null  int64  \n",
      " 2   Surname          10000 non-null  object \n",
      " 3   CreditScore      10000 non-null  int64  \n",
      " 4   Geography        10000 non-null  object \n",
      " 5   Gender           10000 non-null  object \n",
      " 6   Age              10000 non-null  int64  \n",
      " 7   Tenure           9091 non-null   float64\n",
      " 8   Balance          10000 non-null  float64\n",
      " 9   NumOfProducts    10000 non-null  int64  \n",
      " 10  HasCrCard        10000 non-null  int64  \n",
      " 11  IsActiveMember   10000 non-null  int64  \n",
      " 12  EstimatedSalary  10000 non-null  float64\n",
      " 13  Exited           10000 non-null  int64  \n",
      "dtypes: float64(3), int64(8), object(3)\n",
      "memory usage: 1.1+ MB\n"
     ]
    }
   ],
   "source": [
    "data.info()"
   ]
  },
  {
   "cell_type": "code",
   "execution_count": 5,
   "metadata": {},
   "outputs": [
    {
     "data": {
      "text/html": [
       "<div>\n",
       "<style scoped>\n",
       "    .dataframe tbody tr th:only-of-type {\n",
       "        vertical-align: middle;\n",
       "    }\n",
       "\n",
       "    .dataframe tbody tr th {\n",
       "        vertical-align: top;\n",
       "    }\n",
       "\n",
       "    .dataframe thead th {\n",
       "        text-align: right;\n",
       "    }\n",
       "</style>\n",
       "<table border=\"1\" class=\"dataframe\">\n",
       "  <thead>\n",
       "    <tr style=\"text-align: right;\">\n",
       "      <th></th>\n",
       "      <th>RowNumber</th>\n",
       "      <th>CustomerId</th>\n",
       "      <th>CreditScore</th>\n",
       "      <th>Age</th>\n",
       "      <th>Tenure</th>\n",
       "      <th>Balance</th>\n",
       "      <th>NumOfProducts</th>\n",
       "      <th>HasCrCard</th>\n",
       "      <th>IsActiveMember</th>\n",
       "      <th>EstimatedSalary</th>\n",
       "      <th>Exited</th>\n",
       "    </tr>\n",
       "  </thead>\n",
       "  <tbody>\n",
       "    <tr>\n",
       "      <th>count</th>\n",
       "      <td>10000.00000</td>\n",
       "      <td>1.000000e+04</td>\n",
       "      <td>10000.000000</td>\n",
       "      <td>10000.000000</td>\n",
       "      <td>9091.000000</td>\n",
       "      <td>10000.000000</td>\n",
       "      <td>10000.000000</td>\n",
       "      <td>10000.00000</td>\n",
       "      <td>10000.000000</td>\n",
       "      <td>10000.000000</td>\n",
       "      <td>10000.000000</td>\n",
       "    </tr>\n",
       "    <tr>\n",
       "      <th>mean</th>\n",
       "      <td>5000.50000</td>\n",
       "      <td>1.569094e+07</td>\n",
       "      <td>650.528800</td>\n",
       "      <td>38.921800</td>\n",
       "      <td>4.997690</td>\n",
       "      <td>76485.889288</td>\n",
       "      <td>1.530200</td>\n",
       "      <td>0.70550</td>\n",
       "      <td>0.515100</td>\n",
       "      <td>100090.239881</td>\n",
       "      <td>0.203700</td>\n",
       "    </tr>\n",
       "    <tr>\n",
       "      <th>std</th>\n",
       "      <td>2886.89568</td>\n",
       "      <td>7.193619e+04</td>\n",
       "      <td>96.653299</td>\n",
       "      <td>10.487806</td>\n",
       "      <td>2.894723</td>\n",
       "      <td>62397.405202</td>\n",
       "      <td>0.581654</td>\n",
       "      <td>0.45584</td>\n",
       "      <td>0.499797</td>\n",
       "      <td>57510.492818</td>\n",
       "      <td>0.402769</td>\n",
       "    </tr>\n",
       "    <tr>\n",
       "      <th>min</th>\n",
       "      <td>1.00000</td>\n",
       "      <td>1.556570e+07</td>\n",
       "      <td>350.000000</td>\n",
       "      <td>18.000000</td>\n",
       "      <td>0.000000</td>\n",
       "      <td>0.000000</td>\n",
       "      <td>1.000000</td>\n",
       "      <td>0.00000</td>\n",
       "      <td>0.000000</td>\n",
       "      <td>11.580000</td>\n",
       "      <td>0.000000</td>\n",
       "    </tr>\n",
       "    <tr>\n",
       "      <th>25%</th>\n",
       "      <td>2500.75000</td>\n",
       "      <td>1.562853e+07</td>\n",
       "      <td>584.000000</td>\n",
       "      <td>32.000000</td>\n",
       "      <td>2.000000</td>\n",
       "      <td>0.000000</td>\n",
       "      <td>1.000000</td>\n",
       "      <td>0.00000</td>\n",
       "      <td>0.000000</td>\n",
       "      <td>51002.110000</td>\n",
       "      <td>0.000000</td>\n",
       "    </tr>\n",
       "    <tr>\n",
       "      <th>50%</th>\n",
       "      <td>5000.50000</td>\n",
       "      <td>1.569074e+07</td>\n",
       "      <td>652.000000</td>\n",
       "      <td>37.000000</td>\n",
       "      <td>5.000000</td>\n",
       "      <td>97198.540000</td>\n",
       "      <td>1.000000</td>\n",
       "      <td>1.00000</td>\n",
       "      <td>1.000000</td>\n",
       "      <td>100193.915000</td>\n",
       "      <td>0.000000</td>\n",
       "    </tr>\n",
       "    <tr>\n",
       "      <th>75%</th>\n",
       "      <td>7500.25000</td>\n",
       "      <td>1.575323e+07</td>\n",
       "      <td>718.000000</td>\n",
       "      <td>44.000000</td>\n",
       "      <td>7.000000</td>\n",
       "      <td>127644.240000</td>\n",
       "      <td>2.000000</td>\n",
       "      <td>1.00000</td>\n",
       "      <td>1.000000</td>\n",
       "      <td>149388.247500</td>\n",
       "      <td>0.000000</td>\n",
       "    </tr>\n",
       "    <tr>\n",
       "      <th>max</th>\n",
       "      <td>10000.00000</td>\n",
       "      <td>1.581569e+07</td>\n",
       "      <td>850.000000</td>\n",
       "      <td>92.000000</td>\n",
       "      <td>10.000000</td>\n",
       "      <td>250898.090000</td>\n",
       "      <td>4.000000</td>\n",
       "      <td>1.00000</td>\n",
       "      <td>1.000000</td>\n",
       "      <td>199992.480000</td>\n",
       "      <td>1.000000</td>\n",
       "    </tr>\n",
       "  </tbody>\n",
       "</table>\n",
       "</div>"
      ],
      "text/plain": [
       "         RowNumber    CustomerId   CreditScore           Age       Tenure  \\\n",
       "count  10000.00000  1.000000e+04  10000.000000  10000.000000  9091.000000   \n",
       "mean    5000.50000  1.569094e+07    650.528800     38.921800     4.997690   \n",
       "std     2886.89568  7.193619e+04     96.653299     10.487806     2.894723   \n",
       "min        1.00000  1.556570e+07    350.000000     18.000000     0.000000   \n",
       "25%     2500.75000  1.562853e+07    584.000000     32.000000     2.000000   \n",
       "50%     5000.50000  1.569074e+07    652.000000     37.000000     5.000000   \n",
       "75%     7500.25000  1.575323e+07    718.000000     44.000000     7.000000   \n",
       "max    10000.00000  1.581569e+07    850.000000     92.000000    10.000000   \n",
       "\n",
       "             Balance  NumOfProducts    HasCrCard  IsActiveMember  \\\n",
       "count   10000.000000   10000.000000  10000.00000    10000.000000   \n",
       "mean    76485.889288       1.530200      0.70550        0.515100   \n",
       "std     62397.405202       0.581654      0.45584        0.499797   \n",
       "min         0.000000       1.000000      0.00000        0.000000   \n",
       "25%         0.000000       1.000000      0.00000        0.000000   \n",
       "50%     97198.540000       1.000000      1.00000        1.000000   \n",
       "75%    127644.240000       2.000000      1.00000        1.000000   \n",
       "max    250898.090000       4.000000      1.00000        1.000000   \n",
       "\n",
       "       EstimatedSalary        Exited  \n",
       "count     10000.000000  10000.000000  \n",
       "mean     100090.239881      0.203700  \n",
       "std       57510.492818      0.402769  \n",
       "min          11.580000      0.000000  \n",
       "25%       51002.110000      0.000000  \n",
       "50%      100193.915000      0.000000  \n",
       "75%      149388.247500      0.000000  \n",
       "max      199992.480000      1.000000  "
      ]
     },
     "execution_count": 5,
     "metadata": {},
     "output_type": "execute_result"
    }
   ],
   "source": [
    "data.describe()"
   ]
  },
  {
   "cell_type": "markdown",
   "metadata": {},
   "source": [
    "**Признаки**\n",
    "- RowNumber — индекс строки в данных\n",
    "- CustomerId — уникальный идентификатор клиента\n",
    "- Surname — фамилия\n",
    "- CreditScore — кредитный рейтинг\n",
    "- Geography — страна проживания\n",
    "- Gender — пол\n",
    "- Age — возраст\n",
    "- Tenure — сколько лет человек является клиентом банка\n",
    "- Balance — баланс на счёте\n",
    "- NumOfProducts — количество продуктов банка, используемых клиентом\n",
    "- HasCrCard — наличие кредитной карты\n",
    "- IsActiveMember — активность клиента\n",
    "- EstimatedSalary — предполагаемая зарплата\n",
    "- Целевой признак\n",
    "\n",
    "**Exited — факт ухода клиента**"
   ]
  },
  {
   "cell_type": "code",
   "execution_count": 6,
   "metadata": {},
   "outputs": [
    {
     "data": {
      "text/plain": [
       "0"
      ]
     },
     "execution_count": 6,
     "metadata": {},
     "output_type": "execute_result"
    }
   ],
   "source": [
    "#Проверим на дубликаты\n",
    "data.duplicated().sum()"
   ]
  },
  {
   "cell_type": "markdown",
   "metadata": {},
   "source": [
    "**В одном из столбцов есть пропуски, заполним минимальными значениями**"
   ]
  },
  {
   "cell_type": "code",
   "execution_count": 7,
   "metadata": {},
   "outputs": [],
   "source": [
    "data['Tenure'] = data['Tenure'].fillna(0)"
   ]
  },
  {
   "cell_type": "code",
   "execution_count": 8,
   "metadata": {},
   "outputs": [
    {
     "data": {
      "text/plain": [
       "array(['France', 'Spain', 'Germany'], dtype=object)"
      ]
     },
     "execution_count": 8,
     "metadata": {},
     "output_type": "execute_result"
    }
   ],
   "source": [
    "data['Geography'].unique()"
   ]
  },
  {
   "cell_type": "markdown",
   "metadata": {},
   "source": [
    "**Вывод**\n",
    "\n",
    "- RowNumber — можно удалить не несет ценности для обучения.\n",
    "- CustomerId — если отсутсвуют дубликаты, столбец также можно удалить.\n",
    "= Surname —  столбец можно удалить.\n",
    "- CreditScore — следует проверить распределение и сохранить данный столбец.\n",
    "- Geography — всего 3 уникальных значения France', 'Spain', 'Germany' — выполнить преобразование OHE / ordinal encoding\n",
    "- Gender — значение преобразовать — OHE / ordinal encoding"
   ]
  },
  {
   "cell_type": "markdown",
   "metadata": {},
   "source": [
    "## Исследование задачи"
   ]
  },
  {
   "cell_type": "code",
   "execution_count": 9,
   "metadata": {},
   "outputs": [
    {
     "data": {
      "text/html": [
       "<div>\n",
       "<style scoped>\n",
       "    .dataframe tbody tr th:only-of-type {\n",
       "        vertical-align: middle;\n",
       "    }\n",
       "\n",
       "    .dataframe tbody tr th {\n",
       "        vertical-align: top;\n",
       "    }\n",
       "\n",
       "    .dataframe thead th {\n",
       "        text-align: right;\n",
       "    }\n",
       "</style>\n",
       "<table border=\"1\" class=\"dataframe\">\n",
       "  <thead>\n",
       "    <tr style=\"text-align: right;\">\n",
       "      <th></th>\n",
       "      <th>CreditScore</th>\n",
       "      <th>Geography</th>\n",
       "      <th>Gender</th>\n",
       "      <th>Age</th>\n",
       "      <th>Tenure</th>\n",
       "      <th>Balance</th>\n",
       "      <th>NumOfProducts</th>\n",
       "      <th>HasCrCard</th>\n",
       "      <th>IsActiveMember</th>\n",
       "      <th>EstimatedSalary</th>\n",
       "      <th>Exited</th>\n",
       "    </tr>\n",
       "  </thead>\n",
       "  <tbody>\n",
       "    <tr>\n",
       "      <th>0</th>\n",
       "      <td>619</td>\n",
       "      <td>France</td>\n",
       "      <td>Female</td>\n",
       "      <td>42</td>\n",
       "      <td>2.0</td>\n",
       "      <td>0.00</td>\n",
       "      <td>1</td>\n",
       "      <td>1</td>\n",
       "      <td>1</td>\n",
       "      <td>101348.88</td>\n",
       "      <td>1</td>\n",
       "    </tr>\n",
       "    <tr>\n",
       "      <th>1</th>\n",
       "      <td>608</td>\n",
       "      <td>Spain</td>\n",
       "      <td>Female</td>\n",
       "      <td>41</td>\n",
       "      <td>1.0</td>\n",
       "      <td>83807.86</td>\n",
       "      <td>1</td>\n",
       "      <td>0</td>\n",
       "      <td>1</td>\n",
       "      <td>112542.58</td>\n",
       "      <td>0</td>\n",
       "    </tr>\n",
       "    <tr>\n",
       "      <th>2</th>\n",
       "      <td>502</td>\n",
       "      <td>France</td>\n",
       "      <td>Female</td>\n",
       "      <td>42</td>\n",
       "      <td>8.0</td>\n",
       "      <td>159660.80</td>\n",
       "      <td>3</td>\n",
       "      <td>1</td>\n",
       "      <td>0</td>\n",
       "      <td>113931.57</td>\n",
       "      <td>1</td>\n",
       "    </tr>\n",
       "    <tr>\n",
       "      <th>3</th>\n",
       "      <td>699</td>\n",
       "      <td>France</td>\n",
       "      <td>Female</td>\n",
       "      <td>39</td>\n",
       "      <td>1.0</td>\n",
       "      <td>0.00</td>\n",
       "      <td>2</td>\n",
       "      <td>0</td>\n",
       "      <td>0</td>\n",
       "      <td>93826.63</td>\n",
       "      <td>0</td>\n",
       "    </tr>\n",
       "    <tr>\n",
       "      <th>4</th>\n",
       "      <td>850</td>\n",
       "      <td>Spain</td>\n",
       "      <td>Female</td>\n",
       "      <td>43</td>\n",
       "      <td>2.0</td>\n",
       "      <td>125510.82</td>\n",
       "      <td>1</td>\n",
       "      <td>1</td>\n",
       "      <td>1</td>\n",
       "      <td>79084.10</td>\n",
       "      <td>0</td>\n",
       "    </tr>\n",
       "  </tbody>\n",
       "</table>\n",
       "</div>"
      ],
      "text/plain": [
       "   CreditScore Geography  Gender  Age  Tenure    Balance  NumOfProducts  \\\n",
       "0          619    France  Female   42     2.0       0.00              1   \n",
       "1          608     Spain  Female   41     1.0   83807.86              1   \n",
       "2          502    France  Female   42     8.0  159660.80              3   \n",
       "3          699    France  Female   39     1.0       0.00              2   \n",
       "4          850     Spain  Female   43     2.0  125510.82              1   \n",
       "\n",
       "   HasCrCard  IsActiveMember  EstimatedSalary  Exited  \n",
       "0          1               1        101348.88       1  \n",
       "1          0               1        112542.58       0  \n",
       "2          1               0        113931.57       1  \n",
       "3          0               0         93826.63       0  \n",
       "4          1               1         79084.10       0  "
      ]
     },
     "execution_count": 9,
     "metadata": {},
     "output_type": "execute_result"
    }
   ],
   "source": [
    "#Создал новый датафрейм \"data_ML\" — переменная для данных для машинного обучения\n",
    "#Удалим столбцы, не нужные нам для алгоритма\n",
    "for_del = ['RowNumber','CustomerId', 'Surname']\n",
    "data_ML = data.drop(for_del, axis=1)\n",
    "data_ML.head()"
   ]
  },
  {
   "cell_type": "code",
   "execution_count": 10,
   "metadata": {},
   "outputs": [
    {
     "data": {
      "text/plain": [
       "(10000, 11)"
      ]
     },
     "execution_count": 10,
     "metadata": {},
     "output_type": "execute_result"
    }
   ],
   "source": [
    "data_ML.shape"
   ]
  },
  {
   "cell_type": "code",
   "execution_count": 11,
   "metadata": {},
   "outputs": [
    {
     "data": {
      "text/html": [
       "<div>\n",
       "<style scoped>\n",
       "    .dataframe tbody tr th:only-of-type {\n",
       "        vertical-align: middle;\n",
       "    }\n",
       "\n",
       "    .dataframe tbody tr th {\n",
       "        vertical-align: top;\n",
       "    }\n",
       "\n",
       "    .dataframe thead th {\n",
       "        text-align: right;\n",
       "    }\n",
       "</style>\n",
       "<table border=\"1\" class=\"dataframe\">\n",
       "  <thead>\n",
       "    <tr style=\"text-align: right;\">\n",
       "      <th></th>\n",
       "      <th>CreditScore</th>\n",
       "      <th>Age</th>\n",
       "      <th>Tenure</th>\n",
       "      <th>Balance</th>\n",
       "      <th>NumOfProducts</th>\n",
       "      <th>HasCrCard</th>\n",
       "      <th>IsActiveMember</th>\n",
       "      <th>EstimatedSalary</th>\n",
       "      <th>Exited</th>\n",
       "      <th>Geography_Germany</th>\n",
       "      <th>Geography_Spain</th>\n",
       "      <th>Gender_Male</th>\n",
       "    </tr>\n",
       "  </thead>\n",
       "  <tbody>\n",
       "    <tr>\n",
       "      <th>0</th>\n",
       "      <td>619</td>\n",
       "      <td>42</td>\n",
       "      <td>2.0</td>\n",
       "      <td>0.00</td>\n",
       "      <td>1</td>\n",
       "      <td>1</td>\n",
       "      <td>1</td>\n",
       "      <td>101348.88</td>\n",
       "      <td>1</td>\n",
       "      <td>0</td>\n",
       "      <td>0</td>\n",
       "      <td>0</td>\n",
       "    </tr>\n",
       "    <tr>\n",
       "      <th>1</th>\n",
       "      <td>608</td>\n",
       "      <td>41</td>\n",
       "      <td>1.0</td>\n",
       "      <td>83807.86</td>\n",
       "      <td>1</td>\n",
       "      <td>0</td>\n",
       "      <td>1</td>\n",
       "      <td>112542.58</td>\n",
       "      <td>0</td>\n",
       "      <td>0</td>\n",
       "      <td>1</td>\n",
       "      <td>0</td>\n",
       "    </tr>\n",
       "    <tr>\n",
       "      <th>2</th>\n",
       "      <td>502</td>\n",
       "      <td>42</td>\n",
       "      <td>8.0</td>\n",
       "      <td>159660.80</td>\n",
       "      <td>3</td>\n",
       "      <td>1</td>\n",
       "      <td>0</td>\n",
       "      <td>113931.57</td>\n",
       "      <td>1</td>\n",
       "      <td>0</td>\n",
       "      <td>0</td>\n",
       "      <td>0</td>\n",
       "    </tr>\n",
       "    <tr>\n",
       "      <th>3</th>\n",
       "      <td>699</td>\n",
       "      <td>39</td>\n",
       "      <td>1.0</td>\n",
       "      <td>0.00</td>\n",
       "      <td>2</td>\n",
       "      <td>0</td>\n",
       "      <td>0</td>\n",
       "      <td>93826.63</td>\n",
       "      <td>0</td>\n",
       "      <td>0</td>\n",
       "      <td>0</td>\n",
       "      <td>0</td>\n",
       "    </tr>\n",
       "    <tr>\n",
       "      <th>4</th>\n",
       "      <td>850</td>\n",
       "      <td>43</td>\n",
       "      <td>2.0</td>\n",
       "      <td>125510.82</td>\n",
       "      <td>1</td>\n",
       "      <td>1</td>\n",
       "      <td>1</td>\n",
       "      <td>79084.10</td>\n",
       "      <td>0</td>\n",
       "      <td>0</td>\n",
       "      <td>1</td>\n",
       "      <td>0</td>\n",
       "    </tr>\n",
       "  </tbody>\n",
       "</table>\n",
       "</div>"
      ],
      "text/plain": [
       "   CreditScore  Age  Tenure    Balance  NumOfProducts  HasCrCard  \\\n",
       "0          619   42     2.0       0.00              1          1   \n",
       "1          608   41     1.0   83807.86              1          0   \n",
       "2          502   42     8.0  159660.80              3          1   \n",
       "3          699   39     1.0       0.00              2          0   \n",
       "4          850   43     2.0  125510.82              1          1   \n",
       "\n",
       "   IsActiveMember  EstimatedSalary  Exited  Geography_Germany  \\\n",
       "0               1        101348.88       1                  0   \n",
       "1               1        112542.58       0                  0   \n",
       "2               0        113931.57       1                  0   \n",
       "3               0         93826.63       0                  0   \n",
       "4               1         79084.10       0                  0   \n",
       "\n",
       "   Geography_Spain  Gender_Male  \n",
       "0                0            0  \n",
       "1                1            0  \n",
       "2                0            0  \n",
       "3                0            0  \n",
       "4                1            0  "
      ]
     },
     "execution_count": 11,
     "metadata": {},
     "output_type": "execute_result"
    }
   ],
   "source": [
    "# Данные подготовим методом OHE, что позволит нам использовать разные модели и не словить дамми ловушку\n",
    "data_ML = pd.get_dummies(data_ML, drop_first=True)\n",
    "data_ML.head()"
   ]
  },
  {
   "cell_type": "code",
   "execution_count": 12,
   "metadata": {},
   "outputs": [
    {
     "data": {
      "text/plain": [
       "(10000, 12)"
      ]
     },
     "execution_count": 12,
     "metadata": {},
     "output_type": "execute_result"
    }
   ],
   "source": [
    "data_ML.shape"
   ]
  },
  {
   "cell_type": "markdown",
   "metadata": {},
   "source": [
    "**Вывод**\n",
    "\n",
    "В новом датафрейме добавился столбец. Столбец Geography содержал 3 класса, Gender_Male 2 класса — в результате мы получили только 2 и 1 столбцов соответственно, что позволяет избежать дами-ловушки.\n",
    "\n",
    "**Сформируем выборки**"
   ]
  },
  {
   "cell_type": "code",
   "execution_count": 13,
   "metadata": {},
   "outputs": [],
   "source": [
    "#Разделим на признаки и целевой признак\n",
    "features = data_ML.drop('Exited', axis=1)\n",
    "target = data_ML['Exited']"
   ]
  },
  {
   "cell_type": "code",
   "execution_count": 14,
   "metadata": {},
   "outputs": [],
   "source": [
    "#Валид 60%\n",
    "features_train, features_validtest, target_train, target_validtest = train_test_split(features,target,train_size=0.6,random_state=12345)"
   ]
  },
  {
   "cell_type": "code",
   "execution_count": 15,
   "metadata": {},
   "outputs": [],
   "source": [
    "#Валид и тест соответственно поровну по 20% от общей\n",
    "features_valid, features_test, target_valid, target_test = train_test_split(features_validtest,\n",
    "                                                    target_validtest,\n",
    "                                                    train_size=0.5,\n",
    "                                                    random_state=12345)"
   ]
  },
  {
   "cell_type": "markdown",
   "metadata": {},
   "source": [
    "**Вывод Были создана выборки:**\n",
    "- Обучающая - features_train target_train\n",
    "\n",
    "- Валидационная - features_valid target_valid\n",
    "\n",
    "- Тестовая - features_test target_test"
   ]
  },
  {
   "cell_type": "code",
   "execution_count": 16,
   "metadata": {},
   "outputs": [
    {
     "data": {
      "text/html": [
       "<div>\n",
       "<style scoped>\n",
       "    .dataframe tbody tr th:only-of-type {\n",
       "        vertical-align: middle;\n",
       "    }\n",
       "\n",
       "    .dataframe tbody tr th {\n",
       "        vertical-align: top;\n",
       "    }\n",
       "\n",
       "    .dataframe thead th {\n",
       "        text-align: right;\n",
       "    }\n",
       "</style>\n",
       "<table border=\"1\" class=\"dataframe\">\n",
       "  <thead>\n",
       "    <tr style=\"text-align: right;\">\n",
       "      <th></th>\n",
       "      <th>CreditScore</th>\n",
       "      <th>Age</th>\n",
       "      <th>Tenure</th>\n",
       "      <th>Balance</th>\n",
       "      <th>NumOfProducts</th>\n",
       "      <th>HasCrCard</th>\n",
       "      <th>IsActiveMember</th>\n",
       "      <th>EstimatedSalary</th>\n",
       "      <th>Geography_Germany</th>\n",
       "      <th>Geography_Spain</th>\n",
       "      <th>Gender_Male</th>\n",
       "    </tr>\n",
       "  </thead>\n",
       "  <tbody>\n",
       "    <tr>\n",
       "      <th>7479</th>\n",
       "      <td>567</td>\n",
       "      <td>35</td>\n",
       "      <td>8.0</td>\n",
       "      <td>153137.74</td>\n",
       "      <td>1</td>\n",
       "      <td>1</td>\n",
       "      <td>0</td>\n",
       "      <td>88659.07</td>\n",
       "      <td>0</td>\n",
       "      <td>1</td>\n",
       "      <td>1</td>\n",
       "    </tr>\n",
       "    <tr>\n",
       "      <th>3411</th>\n",
       "      <td>711</td>\n",
       "      <td>37</td>\n",
       "      <td>8.0</td>\n",
       "      <td>113899.92</td>\n",
       "      <td>1</td>\n",
       "      <td>0</td>\n",
       "      <td>0</td>\n",
       "      <td>80215.20</td>\n",
       "      <td>0</td>\n",
       "      <td>0</td>\n",
       "      <td>0</td>\n",
       "    </tr>\n",
       "    <tr>\n",
       "      <th>6027</th>\n",
       "      <td>850</td>\n",
       "      <td>44</td>\n",
       "      <td>3.0</td>\n",
       "      <td>140393.65</td>\n",
       "      <td>2</td>\n",
       "      <td>0</td>\n",
       "      <td>1</td>\n",
       "      <td>186285.52</td>\n",
       "      <td>1</td>\n",
       "      <td>0</td>\n",
       "      <td>1</td>\n",
       "    </tr>\n",
       "    <tr>\n",
       "      <th>1247</th>\n",
       "      <td>512</td>\n",
       "      <td>24</td>\n",
       "      <td>6.0</td>\n",
       "      <td>0.00</td>\n",
       "      <td>2</td>\n",
       "      <td>1</td>\n",
       "      <td>0</td>\n",
       "      <td>37654.31</td>\n",
       "      <td>0</td>\n",
       "      <td>0</td>\n",
       "      <td>1</td>\n",
       "    </tr>\n",
       "    <tr>\n",
       "      <th>3716</th>\n",
       "      <td>665</td>\n",
       "      <td>27</td>\n",
       "      <td>2.0</td>\n",
       "      <td>147435.96</td>\n",
       "      <td>1</td>\n",
       "      <td>0</td>\n",
       "      <td>0</td>\n",
       "      <td>187508.06</td>\n",
       "      <td>1</td>\n",
       "      <td>0</td>\n",
       "      <td>0</td>\n",
       "    </tr>\n",
       "  </tbody>\n",
       "</table>\n",
       "</div>"
      ],
      "text/plain": [
       "      CreditScore  Age  Tenure    Balance  NumOfProducts  HasCrCard  \\\n",
       "7479          567   35     8.0  153137.74              1          1   \n",
       "3411          711   37     8.0  113899.92              1          0   \n",
       "6027          850   44     3.0  140393.65              2          0   \n",
       "1247          512   24     6.0       0.00              2          1   \n",
       "3716          665   27     2.0  147435.96              1          0   \n",
       "\n",
       "      IsActiveMember  EstimatedSalary  Geography_Germany  Geography_Spain  \\\n",
       "7479               0         88659.07                  0                1   \n",
       "3411               0         80215.20                  0                0   \n",
       "6027               1        186285.52                  1                0   \n",
       "1247               0         37654.31                  0                0   \n",
       "3716               0        187508.06                  1                0   \n",
       "\n",
       "      Gender_Male  \n",
       "7479            1  \n",
       "3411            0  \n",
       "6027            1  \n",
       "1247            1  \n",
       "3716            0  "
      ]
     },
     "execution_count": 16,
     "metadata": {},
     "output_type": "execute_result"
    }
   ],
   "source": [
    "features_train.head()"
   ]
  },
  {
   "cell_type": "code",
   "execution_count": 17,
   "metadata": {},
   "outputs": [],
   "source": [
    "#Для масштабирования методом scaler зафиксируем численные признаки\n",
    "numeric = ['CreditScore', 'Age', 'Tenure', 'Balance', 'NumOfProducts', 'EstimatedSalary']"
   ]
  },
  {
   "cell_type": "code",
   "execution_count": 18,
   "metadata": {},
   "outputs": [
    {
     "data": {
      "text/plain": [
       "StandardScaler()"
      ]
     },
     "execution_count": 18,
     "metadata": {},
     "output_type": "execute_result"
    }
   ],
   "source": [
    "scaler = StandardScaler()\n",
    "scaler.fit(features_train[numeric])"
   ]
  },
  {
   "cell_type": "code",
   "execution_count": 19,
   "metadata": {},
   "outputs": [
    {
     "data": {
      "text/html": [
       "<div>\n",
       "<style scoped>\n",
       "    .dataframe tbody tr th:only-of-type {\n",
       "        vertical-align: middle;\n",
       "    }\n",
       "\n",
       "    .dataframe tbody tr th {\n",
       "        vertical-align: top;\n",
       "    }\n",
       "\n",
       "    .dataframe thead th {\n",
       "        text-align: right;\n",
       "    }\n",
       "</style>\n",
       "<table border=\"1\" class=\"dataframe\">\n",
       "  <thead>\n",
       "    <tr style=\"text-align: right;\">\n",
       "      <th></th>\n",
       "      <th>CreditScore</th>\n",
       "      <th>Age</th>\n",
       "      <th>Tenure</th>\n",
       "      <th>Balance</th>\n",
       "      <th>NumOfProducts</th>\n",
       "      <th>HasCrCard</th>\n",
       "      <th>IsActiveMember</th>\n",
       "      <th>EstimatedSalary</th>\n",
       "      <th>Geography_Germany</th>\n",
       "      <th>Geography_Spain</th>\n",
       "      <th>Gender_Male</th>\n",
       "    </tr>\n",
       "  </thead>\n",
       "  <tbody>\n",
       "    <tr>\n",
       "      <th>7479</th>\n",
       "      <td>-0.886751</td>\n",
       "      <td>-0.373192</td>\n",
       "      <td>1.104696</td>\n",
       "      <td>1.232271</td>\n",
       "      <td>-0.891560</td>\n",
       "      <td>1</td>\n",
       "      <td>0</td>\n",
       "      <td>-0.187705</td>\n",
       "      <td>0</td>\n",
       "      <td>1</td>\n",
       "      <td>1</td>\n",
       "    </tr>\n",
       "    <tr>\n",
       "      <th>3411</th>\n",
       "      <td>0.608663</td>\n",
       "      <td>-0.183385</td>\n",
       "      <td>1.104696</td>\n",
       "      <td>0.600563</td>\n",
       "      <td>-0.891560</td>\n",
       "      <td>0</td>\n",
       "      <td>0</td>\n",
       "      <td>-0.333945</td>\n",
       "      <td>0</td>\n",
       "      <td>0</td>\n",
       "      <td>0</td>\n",
       "    </tr>\n",
       "    <tr>\n",
       "      <th>6027</th>\n",
       "      <td>2.052152</td>\n",
       "      <td>0.480939</td>\n",
       "      <td>-0.503694</td>\n",
       "      <td>1.027098</td>\n",
       "      <td>0.830152</td>\n",
       "      <td>0</td>\n",
       "      <td>1</td>\n",
       "      <td>1.503095</td>\n",
       "      <td>1</td>\n",
       "      <td>0</td>\n",
       "      <td>1</td>\n",
       "    </tr>\n",
       "    <tr>\n",
       "      <th>1247</th>\n",
       "      <td>-1.457915</td>\n",
       "      <td>-1.417129</td>\n",
       "      <td>0.461340</td>\n",
       "      <td>-1.233163</td>\n",
       "      <td>0.830152</td>\n",
       "      <td>1</td>\n",
       "      <td>0</td>\n",
       "      <td>-1.071061</td>\n",
       "      <td>0</td>\n",
       "      <td>0</td>\n",
       "      <td>1</td>\n",
       "    </tr>\n",
       "    <tr>\n",
       "      <th>3716</th>\n",
       "      <td>0.130961</td>\n",
       "      <td>-1.132419</td>\n",
       "      <td>-0.825373</td>\n",
       "      <td>1.140475</td>\n",
       "      <td>-0.891560</td>\n",
       "      <td>0</td>\n",
       "      <td>0</td>\n",
       "      <td>1.524268</td>\n",
       "      <td>1</td>\n",
       "      <td>0</td>\n",
       "      <td>0</td>\n",
       "    </tr>\n",
       "  </tbody>\n",
       "</table>\n",
       "</div>"
      ],
      "text/plain": [
       "      CreditScore       Age    Tenure   Balance  NumOfProducts  HasCrCard  \\\n",
       "7479    -0.886751 -0.373192  1.104696  1.232271      -0.891560          1   \n",
       "3411     0.608663 -0.183385  1.104696  0.600563      -0.891560          0   \n",
       "6027     2.052152  0.480939 -0.503694  1.027098       0.830152          0   \n",
       "1247    -1.457915 -1.417129  0.461340 -1.233163       0.830152          1   \n",
       "3716     0.130961 -1.132419 -0.825373  1.140475      -0.891560          0   \n",
       "\n",
       "      IsActiveMember  EstimatedSalary  Geography_Germany  Geography_Spain  \\\n",
       "7479               0        -0.187705                  0                1   \n",
       "3411               0        -0.333945                  0                0   \n",
       "6027               1         1.503095                  1                0   \n",
       "1247               0        -1.071061                  0                0   \n",
       "3716               0         1.524268                  1                0   \n",
       "\n",
       "      Gender_Male  \n",
       "7479            1  \n",
       "3411            0  \n",
       "6027            1  \n",
       "1247            1  \n",
       "3716            0  "
      ]
     },
     "execution_count": 19,
     "metadata": {},
     "output_type": "execute_result"
    }
   ],
   "source": [
    "#Масштабируем числ признаки обучающей выборки\n",
    "features_train[numeric] = scaler.transform(features_train[numeric])\n",
    "features_train.head()"
   ]
  },
  {
   "cell_type": "code",
   "execution_count": 20,
   "metadata": {},
   "outputs": [
    {
     "data": {
      "text/html": [
       "<div>\n",
       "<style scoped>\n",
       "    .dataframe tbody tr th:only-of-type {\n",
       "        vertical-align: middle;\n",
       "    }\n",
       "\n",
       "    .dataframe tbody tr th {\n",
       "        vertical-align: top;\n",
       "    }\n",
       "\n",
       "    .dataframe thead th {\n",
       "        text-align: right;\n",
       "    }\n",
       "</style>\n",
       "<table border=\"1\" class=\"dataframe\">\n",
       "  <thead>\n",
       "    <tr style=\"text-align: right;\">\n",
       "      <th></th>\n",
       "      <th>CreditScore</th>\n",
       "      <th>Age</th>\n",
       "      <th>Tenure</th>\n",
       "      <th>Balance</th>\n",
       "      <th>NumOfProducts</th>\n",
       "      <th>HasCrCard</th>\n",
       "      <th>IsActiveMember</th>\n",
       "      <th>EstimatedSalary</th>\n",
       "      <th>Geography_Germany</th>\n",
       "      <th>Geography_Spain</th>\n",
       "      <th>Gender_Male</th>\n",
       "    </tr>\n",
       "  </thead>\n",
       "  <tbody>\n",
       "    <tr>\n",
       "      <th>8532</th>\n",
       "      <td>-0.699824</td>\n",
       "      <td>-0.373192</td>\n",
       "      <td>-0.825373</td>\n",
       "      <td>-1.233163</td>\n",
       "      <td>0.830152</td>\n",
       "      <td>1</td>\n",
       "      <td>0</td>\n",
       "      <td>-0.015173</td>\n",
       "      <td>0</td>\n",
       "      <td>0</td>\n",
       "      <td>0</td>\n",
       "    </tr>\n",
       "    <tr>\n",
       "      <th>5799</th>\n",
       "      <td>-0.284431</td>\n",
       "      <td>0.575842</td>\n",
       "      <td>-0.503694</td>\n",
       "      <td>-1.233163</td>\n",
       "      <td>-0.891560</td>\n",
       "      <td>1</td>\n",
       "      <td>1</td>\n",
       "      <td>1.471724</td>\n",
       "      <td>0</td>\n",
       "      <td>0</td>\n",
       "      <td>0</td>\n",
       "    </tr>\n",
       "    <tr>\n",
       "      <th>5511</th>\n",
       "      <td>0.151731</td>\n",
       "      <td>-0.657902</td>\n",
       "      <td>-1.468729</td>\n",
       "      <td>0.438711</td>\n",
       "      <td>-0.891560</td>\n",
       "      <td>1</td>\n",
       "      <td>0</td>\n",
       "      <td>-1.367107</td>\n",
       "      <td>1</td>\n",
       "      <td>0</td>\n",
       "      <td>1</td>\n",
       "    </tr>\n",
       "    <tr>\n",
       "      <th>7365</th>\n",
       "      <td>-0.876366</td>\n",
       "      <td>-0.278288</td>\n",
       "      <td>1.748053</td>\n",
       "      <td>1.239884</td>\n",
       "      <td>-0.891560</td>\n",
       "      <td>1</td>\n",
       "      <td>1</td>\n",
       "      <td>-0.786517</td>\n",
       "      <td>0</td>\n",
       "      <td>1</td>\n",
       "      <td>0</td>\n",
       "    </tr>\n",
       "    <tr>\n",
       "      <th>7367</th>\n",
       "      <td>-0.481743</td>\n",
       "      <td>0.291132</td>\n",
       "      <td>1.748053</td>\n",
       "      <td>-1.233163</td>\n",
       "      <td>0.830152</td>\n",
       "      <td>1</td>\n",
       "      <td>0</td>\n",
       "      <td>1.358533</td>\n",
       "      <td>0</td>\n",
       "      <td>1</td>\n",
       "      <td>1</td>\n",
       "    </tr>\n",
       "  </tbody>\n",
       "</table>\n",
       "</div>"
      ],
      "text/plain": [
       "      CreditScore       Age    Tenure   Balance  NumOfProducts  HasCrCard  \\\n",
       "8532    -0.699824 -0.373192 -0.825373 -1.233163       0.830152          1   \n",
       "5799    -0.284431  0.575842 -0.503694 -1.233163      -0.891560          1   \n",
       "5511     0.151731 -0.657902 -1.468729  0.438711      -0.891560          1   \n",
       "7365    -0.876366 -0.278288  1.748053  1.239884      -0.891560          1   \n",
       "7367    -0.481743  0.291132  1.748053 -1.233163       0.830152          1   \n",
       "\n",
       "      IsActiveMember  EstimatedSalary  Geography_Germany  Geography_Spain  \\\n",
       "8532               0        -0.015173                  0                0   \n",
       "5799               1         1.471724                  0                0   \n",
       "5511               0        -1.367107                  1                0   \n",
       "7365               1        -0.786517                  0                1   \n",
       "7367               0         1.358533                  0                1   \n",
       "\n",
       "      Gender_Male  \n",
       "8532            0  \n",
       "5799            0  \n",
       "5511            1  \n",
       "7365            0  \n",
       "7367            1  "
      ]
     },
     "execution_count": 20,
     "metadata": {},
     "output_type": "execute_result"
    }
   ],
   "source": [
    "#Масштабируем численные признаки валидационной выборки \n",
    "features_valid[numeric] = scaler.transform(features_valid[numeric])\n",
    "features_valid.head()"
   ]
  },
  {
   "cell_type": "code",
   "execution_count": 21,
   "metadata": {},
   "outputs": [
    {
     "data": {
      "text/html": [
       "<div>\n",
       "<style scoped>\n",
       "    .dataframe tbody tr th:only-of-type {\n",
       "        vertical-align: middle;\n",
       "    }\n",
       "\n",
       "    .dataframe tbody tr th {\n",
       "        vertical-align: top;\n",
       "    }\n",
       "\n",
       "    .dataframe thead th {\n",
       "        text-align: right;\n",
       "    }\n",
       "</style>\n",
       "<table border=\"1\" class=\"dataframe\">\n",
       "  <thead>\n",
       "    <tr style=\"text-align: right;\">\n",
       "      <th></th>\n",
       "      <th>CreditScore</th>\n",
       "      <th>Age</th>\n",
       "      <th>Tenure</th>\n",
       "      <th>Balance</th>\n",
       "      <th>NumOfProducts</th>\n",
       "      <th>HasCrCard</th>\n",
       "      <th>IsActiveMember</th>\n",
       "      <th>EstimatedSalary</th>\n",
       "      <th>Geography_Germany</th>\n",
       "      <th>Geography_Spain</th>\n",
       "      <th>Gender_Male</th>\n",
       "    </tr>\n",
       "  </thead>\n",
       "  <tbody>\n",
       "    <tr>\n",
       "      <th>7041</th>\n",
       "      <td>-2.226392</td>\n",
       "      <td>-0.088482</td>\n",
       "      <td>-0.825373</td>\n",
       "      <td>-1.233163</td>\n",
       "      <td>0.830152</td>\n",
       "      <td>1</td>\n",
       "      <td>0</td>\n",
       "      <td>0.647083</td>\n",
       "      <td>0</td>\n",
       "      <td>0</td>\n",
       "      <td>1</td>\n",
       "    </tr>\n",
       "    <tr>\n",
       "      <th>5709</th>\n",
       "      <td>-0.087120</td>\n",
       "      <td>0.006422</td>\n",
       "      <td>1.426375</td>\n",
       "      <td>-1.233163</td>\n",
       "      <td>-0.891560</td>\n",
       "      <td>1</td>\n",
       "      <td>0</td>\n",
       "      <td>-1.658410</td>\n",
       "      <td>0</td>\n",
       "      <td>0</td>\n",
       "      <td>0</td>\n",
       "    </tr>\n",
       "    <tr>\n",
       "      <th>7117</th>\n",
       "      <td>-0.917905</td>\n",
       "      <td>-0.752805</td>\n",
       "      <td>0.139662</td>\n",
       "      <td>0.722307</td>\n",
       "      <td>-0.891560</td>\n",
       "      <td>1</td>\n",
       "      <td>1</td>\n",
       "      <td>-1.369334</td>\n",
       "      <td>0</td>\n",
       "      <td>1</td>\n",
       "      <td>1</td>\n",
       "    </tr>\n",
       "    <tr>\n",
       "      <th>7775</th>\n",
       "      <td>-0.253277</td>\n",
       "      <td>0.101325</td>\n",
       "      <td>1.748053</td>\n",
       "      <td>-1.233163</td>\n",
       "      <td>0.830152</td>\n",
       "      <td>1</td>\n",
       "      <td>0</td>\n",
       "      <td>0.075086</td>\n",
       "      <td>0</td>\n",
       "      <td>1</td>\n",
       "      <td>1</td>\n",
       "    </tr>\n",
       "    <tr>\n",
       "      <th>8735</th>\n",
       "      <td>0.785204</td>\n",
       "      <td>-0.847708</td>\n",
       "      <td>1.748053</td>\n",
       "      <td>0.615625</td>\n",
       "      <td>-0.891560</td>\n",
       "      <td>0</td>\n",
       "      <td>1</td>\n",
       "      <td>-1.070919</td>\n",
       "      <td>0</td>\n",
       "      <td>0</td>\n",
       "      <td>1</td>\n",
       "    </tr>\n",
       "  </tbody>\n",
       "</table>\n",
       "</div>"
      ],
      "text/plain": [
       "      CreditScore       Age    Tenure   Balance  NumOfProducts  HasCrCard  \\\n",
       "7041    -2.226392 -0.088482 -0.825373 -1.233163       0.830152          1   \n",
       "5709    -0.087120  0.006422  1.426375 -1.233163      -0.891560          1   \n",
       "7117    -0.917905 -0.752805  0.139662  0.722307      -0.891560          1   \n",
       "7775    -0.253277  0.101325  1.748053 -1.233163       0.830152          1   \n",
       "8735     0.785204 -0.847708  1.748053  0.615625      -0.891560          0   \n",
       "\n",
       "      IsActiveMember  EstimatedSalary  Geography_Germany  Geography_Spain  \\\n",
       "7041               0         0.647083                  0                0   \n",
       "5709               0        -1.658410                  0                0   \n",
       "7117               1        -1.369334                  0                1   \n",
       "7775               0         0.075086                  0                1   \n",
       "8735               1        -1.070919                  0                0   \n",
       "\n",
       "      Gender_Male  \n",
       "7041            1  \n",
       "5709            0  \n",
       "7117            1  \n",
       "7775            1  \n",
       "8735            1  "
      ]
     },
     "execution_count": 21,
     "metadata": {},
     "output_type": "execute_result"
    }
   ],
   "source": [
    "#Масштабируем численные признаки тестовой выборки \n",
    "features_test[numeric] = scaler.transform(features_test[numeric])\n",
    "features_test.head()"
   ]
  },
  {
   "cell_type": "markdown",
   "metadata": {},
   "source": [
    "В результате мы получили масштабированные признаки для трех выборок. Перейдем к обучению моделей."
   ]
  },
  {
   "cell_type": "code",
   "execution_count": 22,
   "metadata": {},
   "outputs": [],
   "source": [
    "def all_models_accuracy(features_train, target_train, features_valid, target_valid):\n",
    "    model_dt = DecisionTreeClassifier(random_state=1515)\n",
    "    dt_score = model_dt.fit(features_train, target_train).score(features_valid, target_valid)\n",
    "    \n",
    "    model_rf = RandomForestClassifier(max_depth=7, n_estimators=43, min_samples_leaf=3, random_state=1515)\n",
    "    rf_score = model_rf.fit(features_train, target_train).score(features_valid, target_valid)\n",
    "    \n",
    "    model_lg = LogisticRegression(solver = 'liblinear')\n",
    "    lg_score = model_lg.fit(features_train, target_train).score(features_valid, target_valid)\n",
    "    print(\"Точность:\" \"дерево решений\", dt_score, \"случайный лес \", rf_score, \"логистческая регрессия\", lg_score)"
   ]
  },
  {
   "cell_type": "code",
   "execution_count": 23,
   "metadata": {},
   "outputs": [
    {
     "name": "stdout",
     "output_type": "stream",
     "text": [
      "Точность:дерево решений 0.788 случайный лес  0.857 логистческая регрессия 0.8025\n"
     ]
    }
   ],
   "source": [
    "all_models_accuracy(features_train, target_train, features_valid, target_valid)"
   ]
  },
  {
   "cell_type": "markdown",
   "metadata": {},
   "source": [
    "**Исследование баланса классов выборки**"
   ]
  },
  {
   "cell_type": "code",
   "execution_count": 24,
   "metadata": {},
   "outputs": [
    {
     "data": {
      "text/plain": [
       "0    0.800667\n",
       "1    0.199333\n",
       "Name: Exited, dtype: float64"
      ]
     },
     "execution_count": 24,
     "metadata": {},
     "output_type": "execute_result"
    }
   ],
   "source": [
    "target_train.value_counts(normalize = 1)"
   ]
  },
  {
   "cell_type": "code",
   "execution_count": 25,
   "metadata": {},
   "outputs": [
    {
     "data": {
      "text/plain": [
       "<AxesSubplot:ylabel='Frequency'>"
      ]
     },
     "execution_count": 25,
     "metadata": {},
     "output_type": "execute_result"
    },
    {
     "data": {
      "image/png": "[encoded data removed]",
      "text/plain": [
       "<Figure size 360x360 with 1 Axes>"
      ]
     },
     "metadata": {
      "needs_background": "light"
     },
     "output_type": "display_data"
    }
   ],
   "source": [
    "# Построим диаграмму баланса классов\n",
    "target_train.plot(kind ='hist',color=\"black\", bins=2, figsize=(5,5))"
   ]
  },
  {
   "cell_type": "markdown",
   "metadata": {},
   "source": [
    "Как мы выяснили в нашей выборке отрицательны ответов ≈80% , положитительных ≈ 20%. С уверенностью можем сказать что имеется дисбаланс."
   ]
  },
  {
   "cell_type": "markdown",
   "metadata": {},
   "source": [
    "**Проверка адекватности**\n",
    "\n",
    "Проверим качество моделей до борьбы с дисбалансом"
   ]
  },
  {
   "cell_type": "code",
   "execution_count": 26,
   "metadata": {},
   "outputs": [],
   "source": [
    "#Заранее напишем функцию для изучия полноты, точности и F1-меры\n",
    "def rec_prec_f1(target_valid, prediction):\n",
    "    print(\"Полнота\" , recall_score(target_valid, prediction))\n",
    "    print(\"Точность\", precision_score(target_valid, prediction))\n",
    "    print(\"F1-мера\", f1_score(target_valid, prediction))"
   ]
  },
  {
   "cell_type": "code",
   "execution_count": 27,
   "metadata": {},
   "outputs": [],
   "source": [
    "# Функция для отображения соотношения ответов моделей (сколько 0, сколько 1)\n",
    "def all_models_share(features_train, target_train, features_valid, target_valid):\n",
    "    model_dt = DecisionTreeClassifier(random_state=1515)\n",
    "    model_dt.fit(features_train, target_train)\n",
    "    dt_share = pd.Series(model_dt.predict(features_valid)).value_counts(normalize = 1)\n",
    "    \n",
    "    \n",
    "    \n",
    "    model_rf = RandomForestClassifier(random_state=1515, n_estimators = 100)\n",
    "    model_rf.fit(features_train, target_train)\n",
    "    rf_share = pd.Series(model_rf.predict(features_valid)).value_counts(normalize = 1)\n",
    "    \n",
    "    model_lg = LogisticRegression(solver = 'liblinear')\n",
    "    model_lg.fit(features_train, target_train)\n",
    "    lg_share = pd.Series(model_lg.predict(features_valid)).value_counts(normalize = 1)\n",
    "    \n",
    "\n",
    "    \n",
    "    print(\"Доли ответов:\" \"Дерево решений\", dt_share, \"Случайный лес \", rf_share, \"Логистческая регрессия\", lg_share , end='')"
   ]
  },
  {
   "cell_type": "code",
   "execution_count": 28,
   "metadata": {},
   "outputs": [
    {
     "name": "stdout",
     "output_type": "stream",
     "text": [
      "Доли ответов:Дерево решений 0    0.801\n",
      "1    0.199\n",
      "dtype: float64 Случайный лес  0    0.8725\n",
      "1    0.1275\n",
      "dtype: float64 Логистческая регрессия 0    0.9125\n",
      "1    0.0875\n",
      "dtype: float64"
     ]
    }
   ],
   "source": [
    "#Применим функцию отображения соотношения ответов моделей\n",
    "all_models_share(features_train, target_train, features_valid, target_valid)"
   ]
  },
  {
   "cell_type": "markdown",
   "metadata": {},
   "source": [
    "- 1.Логистичесая регрессия - самая высокая точность\n",
    "- 2.Случайный лес\n",
    "- 3.Дерево решений\n",
    "\n",
    "С учетом дисбаланса результата неудивительно что модели с большой вероятностью будут выдавать ответ 0, построим матрицы ошибок для моделей"
   ]
  },
  {
   "cell_type": "markdown",
   "metadata": {},
   "source": [
    "**Cлучайный лес**"
   ]
  },
  {
   "cell_type": "code",
   "execution_count": 29,
   "metadata": {},
   "outputs": [
    {
     "data": {
      "text/plain": [
       "array([[1527,   55],\n",
       "       [ 218,  200]])"
      ]
     },
     "execution_count": 29,
     "metadata": {},
     "output_type": "execute_result"
    }
   ],
   "source": [
    "#Матрица ошибок для 'cлучайный лес'\n",
    "model_rf = RandomForestClassifier(random_state=1515, n_estimators = 100)\n",
    "model_rf.fit(features_train, target_train)\n",
    "rf_prediction = model_rf.predict(features_valid)\n",
    "confusion_matrix(target_valid, rf_prediction)\n"
   ]
  },
  {
   "cell_type": "code",
   "execution_count": 30,
   "metadata": {},
   "outputs": [
    {
     "name": "stdout",
     "output_type": "stream",
     "text": [
      "max_depth: 1 F1: 0.0\n",
      "max_depth: 2 F1: 0.20085470085470084\n",
      "max_depth: 3 F1: 0.23651452282157678\n",
      "max_depth: 4 F1: 0.3591682419659736\n",
      "max_depth: 5 F1: 0.47521367521367525\n",
      "max_depth: 6 F1: 0.5261437908496732\n",
      "max_depth: 7 F1: 0.5285481239804242\n",
      "max_depth: 8 F1: 0.5483870967741936\n",
      "max_depth: 9 F1: 0.5559105431309905\n",
      "max_depth: 10 F1: 0.5633802816901409\n",
      "max_depth: 11 F1: 0.5731895223420647\n",
      "max_depth: 12 F1: 0.5644171779141105\n",
      "max_depth: 13 F1: 0.5835866261398177\n",
      "max_depth: 14 F1: 0.5913818722139673\n",
      "max_depth: 15 F1: 0.5688888888888889\n",
      "max_depth: 16 F1: 0.5769805680119582\n",
      "max_depth: 17 F1: 0.5880597014925373\n",
      "max_depth: 18 F1: 0.5829596412556054\n",
      "max_depth: 19 F1: 0.5731523378582202\n"
     ]
    }
   ],
   "source": [
    "for max_depth in range(1,20,1):\n",
    "    model_rf=RandomForestClassifier(max_depth=max_depth,n_estimators=50,random_state=1234).fit(features_train, target_train)\n",
    "    rf_prediction=model_rf.predict(features_valid)\n",
    "    print('max_depth:',max_depth,'F1:',f1_score(target_valid,rf_prediction))\n",
    "    "
   ]
  },
  {
   "cell_type": "code",
   "execution_count": 31,
   "metadata": {},
   "outputs": [
    {
     "name": "stdout",
     "output_type": "stream",
     "text": [
      "estim 1 F1: 0.45850914205344584\n",
      "estim 3 F1: 0.5339105339105339\n",
      "estim 5 F1: 0.5540740740740742\n",
      "estim 7 F1: 0.56071964017991\n",
      "estim 9 F1: 0.5460122699386503\n",
      "estim 11 F1: 0.543778801843318\n",
      "estim 13 F1: 0.551829268292683\n",
      "estim 15 F1: 0.558641975308642\n",
      "estim 17 F1: 0.5502318392581145\n",
      "estim 19 F1: 0.5701219512195123\n",
      "estim 21 F1: 0.565284178187404\n",
      "estim 23 F1: 0.5608628659476117\n",
      "estim 25 F1: 0.5670261941448382\n",
      "estim 27 F1: 0.5714285714285714\n",
      "estim 29 F1: 0.5661538461538462\n",
      "estim 31 F1: 0.5688073394495413\n",
      "estim 33 F1: 0.563944530046225\n",
      "estim 35 F1: 0.5674418604651162\n",
      "estim 37 F1: 0.5674418604651162\n",
      "estim 39 F1: 0.5598755832037325\n",
      "estim 41 F1: 0.5581395348837209\n",
      "estim 43 F1: 0.5679012345679013\n",
      "estim 45 F1: 0.5745007680491552\n",
      "estim 47 F1: 0.5701078582434514\n",
      "estim 49 F1: 0.5736196319018405\n"
     ]
    }
   ],
   "source": [
    "for estim in range(1,50,2):\n",
    "    model_rf=RandomForestClassifier(max_depth=11,n_estimators=estim,random_state=1234).fit(features_train, target_train)\n",
    "    rf_prediction=model_rf.predict(features_valid)\n",
    "    print('estim',estim,'F1:',f1_score(target_valid,rf_prediction))\n",
    "    "
   ]
  },
  {
   "cell_type": "markdown",
   "metadata": {},
   "source": [
    "**Вывод: лучшее значение max_depth=17, при котором F1=0.5819793205317577 n_estimators=45 при котором F1=0,5745007680491552.**"
   ]
  },
  {
   "cell_type": "code",
   "execution_count": 32,
   "metadata": {},
   "outputs": [
    {
     "name": "stdout",
     "output_type": "stream",
     "text": [
      "Полнота 0.4473684210526316\n",
      "Точность 0.7991452991452992\n",
      "F1-мера 0.5736196319018405\n"
     ]
    }
   ],
   "source": [
    "rec_prec_f1(target_valid, rf_prediction)"
   ]
  },
  {
   "cell_type": "code",
   "execution_count": 33,
   "metadata": {},
   "outputs": [
    {
     "data": {
      "text/plain": [
       "0.8493881526019393"
      ]
     },
     "execution_count": 33,
     "metadata": {},
     "output_type": "execute_result"
    }
   ],
   "source": [
    "#Расчет roc_auc_rf\n",
    "rf_probabilities_one_valid = model_rf.predict_proba(features_valid)[:, 1]\n",
    "\n",
    "auc_roc_rf = roc_auc_score(target_valid, rf_probabilities_one_valid)\n",
    "\n",
    "auc_roc_rf"
   ]
  },
  {
   "cell_type": "markdown",
   "metadata": {},
   "source": [
    "Точность и качество низкое."
   ]
  },
  {
   "cell_type": "markdown",
   "metadata": {},
   "source": [
    "**Дерево решений**"
   ]
  },
  {
   "cell_type": "code",
   "execution_count": 34,
   "metadata": {},
   "outputs": [
    {
     "data": {
      "text/plain": [
       "array([[1380,  202],\n",
       "       [ 222,  196]])"
      ]
     },
     "execution_count": 34,
     "metadata": {},
     "output_type": "execute_result"
    }
   ],
   "source": [
    "#Матрица ошибок для дерево решений\n",
    "model_dt = DecisionTreeClassifier(random_state=1515)\n",
    "model_dt.fit(features_train, target_train)\n",
    "dt_prediction = model_dt.predict(features_valid)\n",
    "confusion_matrix(target_valid, dt_prediction)\n",
    "\n"
   ]
  },
  {
   "cell_type": "code",
   "execution_count": 35,
   "metadata": {},
   "outputs": [
    {
     "name": "stdout",
     "output_type": "stream",
     "text": [
      "max_depth: 1 F1: 0.0\n",
      "max_depth: 2 F1: 0.5217391304347825\n",
      "max_depth: 3 F1: 0.4234875444839857\n",
      "max_depth: 4 F1: 0.5528700906344411\n",
      "max_depth: 5 F1: 0.5406249999999999\n",
      "max_depth: 6 F1: 0.56752655538695\n",
      "max_depth: 7 F1: 0.5485362095531587\n",
      "max_depth: 8 F1: 0.5454545454545454\n",
      "max_depth: 9 F1: 0.57703081232493\n"
     ]
    }
   ],
   "source": [
    "# Циклом ищем лучший гиперпораметр max_depth\n",
    "for depth in range(1,10,1):\n",
    "    model_dt = DecisionTreeClassifier(max_depth=depth,random_state=1234).fit(features_train, target_train)\n",
    "    dt_prediction = model_dt.predict(features_valid)\n",
    "    print('max_depth:',depth,'F1:',f1_score(target_valid, dt_prediction))\n"
   ]
  },
  {
   "cell_type": "markdown",
   "metadata": {},
   "source": [
    "**Вывод: лучшее значение max_depth=9, при котором F1= 0.5770308123249**"
   ]
  },
  {
   "cell_type": "markdown",
   "metadata": {},
   "source": [
    "Матрица показала, что дерево решений склонно выдавать позитивные предсказания, очень высокое количество ложных позитивных предсказания"
   ]
  },
  {
   "cell_type": "code",
   "execution_count": 36,
   "metadata": {},
   "outputs": [
    {
     "name": "stdout",
     "output_type": "stream",
     "text": [
      "Полнота 0.49282296650717705\n",
      "Точность 0.6959459459459459\n",
      "F1-мера 0.57703081232493\n"
     ]
    }
   ],
   "source": [
    "rec_prec_f1(target_valid, dt_prediction)"
   ]
  },
  {
   "cell_type": "code",
   "execution_count": 37,
   "metadata": {},
   "outputs": [
    {
     "data": {
      "text/plain": [
       "0.791020693326236"
      ]
     },
     "execution_count": 37,
     "metadata": {},
     "output_type": "execute_result"
    }
   ],
   "source": [
    "#Расчет roc_auc_dt\n",
    "dt_probabilities_one_valid = model_dt.predict_proba(features_valid)[:, 1]\n",
    "auc_roc_dt = roc_auc_score(target_valid, dt_probabilities_one_valid)\n",
    "auc_roc_dt\n"
   ]
  },
  {
   "cell_type": "markdown",
   "metadata": {},
   "source": [
    "Видим низкое значение F1, следовательно низкое качество модели, проблема в точности."
   ]
  },
  {
   "cell_type": "markdown",
   "metadata": {},
   "source": [
    "**Логистическая регрессия**"
   ]
  },
  {
   "cell_type": "code",
   "execution_count": 38,
   "metadata": {},
   "outputs": [
    {
     "data": {
      "text/plain": [
       "array([[1506,   76],\n",
       "       [ 319,   99]])"
      ]
     },
     "execution_count": 38,
     "metadata": {},
     "output_type": "execute_result"
    }
   ],
   "source": [
    "#Матрица ошибок для логистической регрессии\n",
    "model_lg = LogisticRegression(solver = 'liblinear')\n",
    "model_lg.fit(features_train, target_train)\n",
    "lg_prediction = model_lg.predict(features_valid)\n",
    "confusion_matrix(target_valid, lg_prediction)"
   ]
  },
  {
   "cell_type": "code",
   "execution_count": 39,
   "metadata": {},
   "outputs": [
    {
     "name": "stdout",
     "output_type": "stream",
     "text": [
      "LogisticRegression(C=10, random_state=1234)\n",
      "0.33613445378151263\n"
     ]
    }
   ],
   "source": [
    "best_score = 0\n",
    "best_model_lg = None\n",
    "\n",
    "for C_param in [0.0001, 0.001, 0.01, 0.1, 1, 10]:\n",
    "    for m_iter in range(100,1000,100):\n",
    "        model_lg = LogisticRegression(C=C_param, max_iter = m_iter, random_state = 1234).fit(features_train, target_train)\n",
    "        lg_prediction = model_lg.predict(features_valid)\n",
    "        lg_score = f1_score(target_valid, lg_prediction)\n",
    "\n",
    "        if best_score < lg_score:                     \n",
    "            best_score = lg_score.copy()\n",
    "            best_model_lg = model_lg\n",
    "print(best_model_lg)\n",
    "print(best_score)"
   ]
  },
  {
   "cell_type": "code",
   "execution_count": 40,
   "metadata": {},
   "outputs": [
    {
     "name": "stdout",
     "output_type": "stream",
     "text": [
      "Полнота 0.23923444976076555\n",
      "Точность 0.5649717514124294\n",
      "F1-мера 0.33613445378151263\n"
     ]
    }
   ],
   "source": [
    "rec_prec_f1(target_valid, lg_prediction)"
   ]
  },
  {
   "cell_type": "code",
   "execution_count": 41,
   "metadata": {},
   "outputs": [
    {
     "data": {
      "text/plain": [
       "0.7585561853144527"
      ]
     },
     "execution_count": 41,
     "metadata": {},
     "output_type": "execute_result"
    }
   ],
   "source": [
    "#Для логистической регрессии расчитаем метрику AUC-ROC\n",
    "lg_probabilities_one_valid = model_lg.predict_proba(features_valid)[:, 1]\n",
    "\n",
    "auc_roc_lg = roc_auc_score(target_valid, lg_probabilities_one_valid)\n",
    "\n",
    "auc_roc_lg\n",
    "\n"
   ]
  },
  {
   "cell_type": "code",
   "execution_count": 42,
   "metadata": {},
   "outputs": [],
   "source": [
    "def plot_roc_curve(fper, tper):\n",
    "    plt.plot(fper, tper, color='blue', label='ROC')\n",
    "    plt.plot([0, 1], [0, 1], color='black', linestyle='-')\n",
    "    plt.xlim([0.0, 1.0])\n",
    "    plt.ylim([0.0, 1.0])\n",
    "    plt.xlabel('False Positive Rate')\n",
    "    plt.ylabel('True Positive Rate')\n",
    "    plt.title('ROC-кривая')\n",
    "    plt.legend()\n",
    "    plt.show()\n",
    "    \n"
   ]
  },
  {
   "cell_type": "code",
   "execution_count": 43,
   "metadata": {},
   "outputs": [
    {
     "data": {
      "image/png": "[encoded data removed]",
      "text/plain": [
       "<Figure size 432x288 with 1 Axes>"
      ]
     },
     "metadata": {
      "needs_background": "light"
     },
     "output_type": "display_data"
    }
   ],
   "source": [
    "fper, tper, thresholds = roc_curve(target_valid, lg_probabilities_one_valid)\n",
    "plot_roc_curve(fper, tper)"
   ]
  },
  {
   "cell_type": "code",
   "execution_count": 44,
   "metadata": {},
   "outputs": [
    {
     "data": {
      "image/png": "[encoded data removed]",
      "text/plain": [
       "<Figure size 432x288 with 1 Axes>"
      ]
     },
     "metadata": {
      "needs_background": "light"
     },
     "output_type": "display_data"
    }
   ],
   "source": [
    "#дерево решений\n",
    "fper, tper, thresholds = roc_curve(target_valid, dt_probabilities_one_valid)\n",
    "plot_roc_curve(fper, tper)"
   ]
  },
  {
   "cell_type": "code",
   "execution_count": 45,
   "metadata": {},
   "outputs": [
    {
     "data": {
      "image/png": "[encoded data removed]",
      "text/plain": [
       "<Figure size 432x288 with 1 Axes>"
      ]
     },
     "metadata": {
      "needs_background": "light"
     },
     "output_type": "display_data"
    }
   ],
   "source": [
    "#'cлучайный лес'\n",
    "fper, tper, thresholds = roc_curve(target_valid, rf_probabilities_one_valid)\n",
    "plot_roc_curve(fper, tper)"
   ]
  },
  {
   "cell_type": "markdown",
   "metadata": {},
   "source": [
    "\n",
    "Высокая точность модели объясняется высокой долей негативных ответов в валидационной выборке."
   ]
  },
  {
   "cell_type": "markdown",
   "metadata": {},
   "source": [
    "## Борьба с дисбалансом"
   ]
  },
  {
   "cell_type": "markdown",
   "metadata": {},
   "source": [
    "Как мы выяснили ранее в нашей выборке отрицательны ответов ≈80% , положитительных ≈ 20%. Нам необходмо увеличить количество положительных ответов для достижения баланса. Либо же уменьшить кол-во отрицтаельных ответов.\n",
    "\n",
    "1. Разделим обучающую выборку на отрицательные и положительные объекты\n",
    "2. Скопируем несколько раз положительные объекты\n",
    "3. С учётом полученных данных создадим новую обучающую выборку\n",
    "4. Перемешаем данные: идущие друг за другом одинаковые вопросы не помогут обучению.\n",
    "5. Обучим новые модели"
   ]
  },
  {
   "cell_type": "code",
   "execution_count": 46,
   "metadata": {},
   "outputs": [],
   "source": [
    "#Создадим функцию для увеличения представленной класса в выборке \n",
    "def upsample(features, target, repeat, upsampled_сlass):\n",
    "    \"\"\"Функция принимаем значение признаков (features[]), целевого признака (target[]), repeat(int / float),\n",
    "    класс который будет увеличен (upsampled_сlass (0 or 1))\"\"\"\n",
    "    features_zeros = features[target == 0]\n",
    "    features_ones = features[target == 1]\n",
    "    target_zeros = target[target == 0]\n",
    "    target_ones = target[target == 1]\n",
    "    \n",
    "    if upsampled_сlass == 0:\n",
    "        features_upsampled = pd.concat([features_zeros]* repeat + [features_ones] )\n",
    "        target_upsampled = pd.concat([target_zeros]* repeat + [target_ones] )\n",
    "        features_upsampled, target_upsampled = shuffle(\n",
    "        features_upsampled, target_upsampled, random_state=12345)\n",
    "        \n",
    "    elif upsampled_сlass == 1:\n",
    "        features_upsampled = pd.concat([features_zeros] + [features_ones] * repeat)\n",
    "        target_upsampled = pd.concat([target_zeros] + [target_ones] * repeat)\n",
    "        features_upsampled, target_upsampled = shuffle(\n",
    "        features_upsampled, target_upsampled, random_state=12345)\n",
    "    else:\n",
    "        features_upsampled = 0\n",
    "        target_upsampled = 0  \n",
    "        \n",
    "        \n",
    "       \n",
    "    return features_upsampled, target_upsampled"
   ]
  },
  {
   "cell_type": "code",
   "execution_count": 47,
   "metadata": {},
   "outputs": [],
   "source": [
    "#Создадим функцию для уменьшения представленной класса в выборке \n",
    "def downsample(features, target, fraction):\n",
    "    features_zeros = features[target == 0]\n",
    "    features_ones = features[target == 1]\n",
    "    target_zeros = target[target == 0]\n",
    "    target_ones = target[target == 1]\n",
    "\n",
    "    features_downsampled = pd.concat(\n",
    "        [features_zeros.sample(frac=fraction, random_state=12345)] + [features_ones])\n",
    "    target_downsampled = pd.concat(\n",
    "        [target_zeros.sample(frac=fraction, random_state=12345)] + [target_ones])\n",
    "    \n",
    "    features_downsampled, target_downsampled = shuffle(\n",
    "        features_downsampled, target_downsampled, random_state=12345)\n",
    "    \n",
    "    return features_downsampled, target_downsampled\n",
    "  "
   ]
  },
  {
   "cell_type": "code",
   "execution_count": 48,
   "metadata": {},
   "outputs": [],
   "source": [
    "features_downsampled_train, target_downsampled_train = downsample(features_train, target_train, fraction=0.25)"
   ]
  },
  {
   "cell_type": "code",
   "execution_count": 49,
   "metadata": {},
   "outputs": [
    {
     "name": "stdout",
     "output_type": "stream",
     "text": [
      "0    0.941407\n",
      "1    0.058593\n",
      "Name: Exited, dtype: float64\n",
      "(20412,)\n"
     ]
    }
   ],
   "source": [
    "#Протестируем функцию (верное значение)\n",
    "features_train_upsampled, target_train_upsampled = upsample(features_train, target_train, 4, 0)\n",
    "print(target_train_upsampled.value_counts(normalize = 1))\n",
    "print(target_train_upsampled.shape)"
   ]
  },
  {
   "cell_type": "code",
   "execution_count": 50,
   "metadata": {},
   "outputs": [
    {
     "data": {
      "text/plain": [
       "0"
      ]
     },
     "execution_count": 50,
     "metadata": {},
     "output_type": "execute_result"
    }
   ],
   "source": [
    "#Протестируем функцию (верное значение)\n",
    "features_train_upsampled, target_train_upsampled = upsample(features_train, target_train, 4, 3)\n",
    "features_train_upsampled"
   ]
  },
  {
   "cell_type": "code",
   "execution_count": 51,
   "metadata": {},
   "outputs": [
    {
     "name": "stdout",
     "output_type": "stream",
     "text": [
      "0    0.501043\n",
      "1    0.498957\n",
      "Name: Exited, dtype: float64\n",
      "(9588,)\n"
     ]
    }
   ],
   "source": [
    "#Применим функцию upsample \n",
    "#увеличим количество положительных ответов в 4 раза\n",
    "features_train_upsampled, target_train_upsampled = upsample(features_train, target_train, 4, 1)\n",
    "print(target_train_upsampled.value_counts(normalize = 1))\n",
    "print(target_train_upsampled.shape)"
   ]
  },
  {
   "cell_type": "code",
   "execution_count": 52,
   "metadata": {},
   "outputs": [
    {
     "name": "stdout",
     "output_type": "stream",
     "text": [
      "1    1196\n",
      "0     961\n",
      "Name: Exited, dtype: int64\n",
      "(2157,)\n"
     ]
    }
   ],
   "source": [
    "#Применим функцию downsample\n",
    "#Уменьшим кол-в пооложительных ответов в 4 раза\n",
    "#Протестируем функцию (верное значение)\n",
    "features_downsampled_train, target_downsampled_train = downsample(features_train, target_train, 0.2)\n",
    "print(target_downsampled_train.value_counts(normalize = 0))\n",
    "print(target_downsampled_train.shape)\n"
   ]
  },
  {
   "cell_type": "code",
   "execution_count": 53,
   "metadata": {},
   "outputs": [
    {
     "data": {
      "text/plain": [
       "<AxesSubplot:ylabel='Frequency'>"
      ]
     },
     "execution_count": 53,
     "metadata": {},
     "output_type": "execute_result"
    },
    {
     "data": {
      "image/png": "[encoded data removed]",
      "text/plain": [
       "<Figure size 360x360 with 1 Axes>"
      ]
     },
     "metadata": {
      "needs_background": "light"
     },
     "output_type": "display_data"
    }
   ],
   "source": [
    "#Ну почти идеально и выигрышнее выглядит upsample с ним и будем работать\n",
    "target_train_upsampled.plot(kind ='hist', color = 'black', bins=3, figsize=(5,5))"
   ]
  },
  {
   "cell_type": "markdown",
   "metadata": {},
   "source": [
    "**Обучение моделей на сбалансированной выборке**"
   ]
  },
  {
   "cell_type": "code",
   "execution_count": 54,
   "metadata": {},
   "outputs": [
    {
     "name": "stdout",
     "output_type": "stream",
     "text": [
      "Точность:дерево решений 0.788 случайный лес  0.857 логистческая регрессия 0.8025\n"
     ]
    }
   ],
   "source": [
    "#Точность моделей на выборке с дисбалансом\n"
   ]
  },
  {
   "cell_type": "code",
   "execution_count": 55,
   "metadata": {},
   "outputs": [
    {
     "name": "stdout",
     "output_type": "stream",
     "text": [
      "Точность:дерево решений 0.7805 случайный лес  0.813 логистческая регрессия 0.701\n"
     ]
    }
   ],
   "source": [
    "#Точность моделей на сбалансированной выборке\n",
    "all_models_accuracy(features_train_upsampled, target_train_upsampled, features_valid, target_valid)"
   ]
  },
  {
   "cell_type": "markdown",
   "metadata": {},
   "source": [
    "**Вывод**\n",
    "\n",
    "Точность сильно не изменилась \n",
    "\n",
    "Проверим качество ответов"
   ]
  },
  {
   "cell_type": "code",
   "execution_count": 56,
   "metadata": {},
   "outputs": [
    {
     "name": "stdout",
     "output_type": "stream",
     "text": [
      "Полнота 0.45454545454545453\n",
      "Точность 0.47381546134663344\n",
      "F1-мера 0.46398046398046394\n"
     ]
    }
   ],
   "source": [
    "#Решающее дерево\n",
    "model_dt_upsampled = DecisionTreeClassifier(random_state=1515)\n",
    "model_dt_upsampled.fit(features_train_upsampled, target_train_upsampled)\n",
    "dt_prediction_upsampled = model_dt_upsampled.predict(features_valid)\n",
    "rec_prec_f1(target_valid, dt_prediction_upsampled)"
   ]
  },
  {
   "cell_type": "code",
   "execution_count": 57,
   "metadata": {},
   "outputs": [
    {
     "name": "stdout",
     "output_type": "stream",
     "text": [
      "Полнота 0.7296650717703349\n",
      "Точность 0.3657074340527578\n",
      "F1-мера 0.48722044728434505\n"
     ]
    }
   ],
   "source": [
    "#downsample \n",
    "model_dt_downsample = DecisionTreeClassifier(random_state=1515)\n",
    "model_dt_downsample.fit(features_downsampled_train, target_downsampled_train)\n",
    "dt_prediction_downsample = model_dt_downsample.predict(features_valid)\n",
    "rec_prec_f1(target_valid, dt_prediction_downsample)"
   ]
  },
  {
   "cell_type": "code",
   "execution_count": 58,
   "metadata": {},
   "outputs": [
    {
     "data": {
      "text/plain": [
       "0.6605849902310079"
      ]
     },
     "execution_count": 58,
     "metadata": {},
     "output_type": "execute_result"
    }
   ],
   "source": [
    "#Расчитаем auc_roc для DTC на сбалансированной выборке\n",
    "dt_upsampled_valid = model_dt_upsampled.predict_proba(features_valid)[:, 1]\n",
    "auc_roc_dt = roc_auc_score(target_valid, dt_upsampled_valid)\n",
    "auc_roc_dt"
   ]
  },
  {
   "cell_type": "code",
   "execution_count": 59,
   "metadata": {},
   "outputs": [
    {
     "data": {
      "text/plain": [
       "0.6976391098421838"
      ]
     },
     "execution_count": 59,
     "metadata": {},
     "output_type": "execute_result"
    }
   ],
   "source": [
    "#downsample\n",
    "dt_downsample_valid = model_dt_downsample.predict_proba(features_valid)[:, 1]\n",
    "auc_roc_dt = roc_auc_score(target_valid, dt_downsample_valid)\n",
    "auc_roc_dt"
   ]
  },
  {
   "cell_type": "code",
   "execution_count": 60,
   "metadata": {},
   "outputs": [
    {
     "name": "stdout",
     "output_type": "stream",
     "text": [
      "Полнота 0.722488038277512\n",
      "Точность 0.5392857142857143\n",
      "F1-мера 0.6175869120654396\n"
     ]
    }
   ],
   "source": [
    "#Случайный лес\n",
    "model_rf_upsampled = RandomForestClassifier(max_depth=7, n_estimators=43, min_samples_leaf=3, random_state=1515)\n",
    "model_rf_upsampled.fit(features_train_upsampled, target_train_upsampled)\n",
    "rf_prediction_upsampled = model_rf_upsampled.predict(features_valid)\n",
    "rec_prec_f1(target_valid, rf_prediction_upsampled)"
   ]
  },
  {
   "cell_type": "code",
   "execution_count": 61,
   "metadata": {},
   "outputs": [
    {
     "name": "stdout",
     "output_type": "stream",
     "text": [
      "Полнота 0.8157894736842105\n",
      "Точность 0.4246575342465753\n",
      "F1-мера 0.5585585585585585\n"
     ]
    }
   ],
   "source": [
    "#downsample_vol\n",
    "model_rf_downsample = RandomForestClassifier(max_depth=7, n_estimators=43, min_samples_leaf=3, random_state=1515)\n",
    "model_rf_downsample.fit(features_downsampled_train, target_downsampled_train)\n",
    "rf_prediction_downsample = model_rf_downsample.predict(features_valid)\n",
    "rec_prec_f1(target_valid, rf_prediction_downsample)"
   ]
  },
  {
   "cell_type": "code",
   "execution_count": 62,
   "metadata": {},
   "outputs": [
    {
     "data": {
      "text/plain": [
       "0.8527604207622839"
      ]
     },
     "execution_count": 62,
     "metadata": {},
     "output_type": "execute_result"
    }
   ],
   "source": [
    "#Расчитаем auc_roc для rf на сбалансированной выборке\n",
    "rf_upsampled_valid = model_rf_upsampled.predict_proba(features_valid)[:, 1]\n",
    "auc_roc_rf = roc_auc_score(target_valid, rf_upsampled_valid)\n",
    "auc_roc_rf"
   ]
  },
  {
   "cell_type": "code",
   "execution_count": 63,
   "metadata": {},
   "outputs": [
    {
     "data": {
      "text/plain": [
       "0.8436084176652411"
      ]
     },
     "execution_count": 63,
     "metadata": {},
     "output_type": "execute_result"
    }
   ],
   "source": [
    "#downsample_vol\n",
    "rf_downsample_valid = model_rf_downsample.predict_proba(features_valid)[:, 1]\n",
    "auc_roc_rf = roc_auc_score(target_valid, rf_downsample_valid)\n",
    "auc_roc_rf"
   ]
  },
  {
   "cell_type": "code",
   "execution_count": 64,
   "metadata": {},
   "outputs": [
    {
     "name": "stdout",
     "output_type": "stream",
     "text": [
      "Полнота 0.6842105263157895\n",
      "Точность 0.3803191489361702\n",
      "F1-мера 0.4888888888888888\n"
     ]
    }
   ],
   "source": [
    "#Логистическая регрессия\n",
    "model_lg_upsampled = LogisticRegression(solver = 'liblinear', class_weight='balanced')\n",
    "model_lg_upsampled.fit(features_train_upsampled, target_train_upsampled)\n",
    "lg_prediction_upsampled = model_lg_upsampled.predict(features_valid)\n",
    "rec_prec_f1(target_valid, lg_prediction_upsampled)"
   ]
  },
  {
   "cell_type": "code",
   "execution_count": 65,
   "metadata": {},
   "outputs": [
    {
     "name": "stdout",
     "output_type": "stream",
     "text": [
      "Полнота 0.6842105263157895\n",
      "Точность 0.3803191489361702\n",
      "F1-мера 0.4888888888888888\n"
     ]
    }
   ],
   "source": [
    "#downsample_vol\n",
    "model_lg_downsample = LogisticRegression(solver = 'liblinear', class_weight='balanced')\n",
    "model_lg_downsample.fit(features_downsampled_train, target_downsampled_train)\n",
    "lg_prediction_downsample = model_lg_downsample.predict(features_valid)\n",
    "rec_prec_f1(target_valid, lg_prediction_upsampled)"
   ]
  },
  {
   "cell_type": "code",
   "execution_count": 66,
   "metadata": {},
   "outputs": [
    {
     "data": {
      "text/plain": [
       "0.7634815115020053"
      ]
     },
     "execution_count": 66,
     "metadata": {},
     "output_type": "execute_result"
    }
   ],
   "source": [
    "#Расчитаем auc_roc для lg на сбалансированной выборке\n",
    "lg_upsampled_valid = model_lg_upsampled.predict_proba(features_valid)[:, 1]\n",
    "auc_roc_lg = roc_auc_score(target_valid, lg_upsampled_valid)\n",
    "auc_roc_lg"
   ]
  },
  {
   "cell_type": "code",
   "execution_count": 67,
   "metadata": {},
   "outputs": [
    {
     "data": {
      "text/plain": [
       "0.7626316394364834"
      ]
     },
     "execution_count": 67,
     "metadata": {},
     "output_type": "execute_result"
    }
   ],
   "source": [
    "#downsample_vol\n",
    "lg_downsample_valid = model_lg_downsample.predict_proba(features_valid)[:, 1]\n",
    "auc_roc_lg = roc_auc_score(target_valid, lg_downsample_valid)\n",
    "auc_roc_lg"
   ]
  },
  {
   "cell_type": "markdown",
   "metadata": {},
   "source": [
    "**Вывод**\n",
    "\n",
    "Показаели всех моделей стали лучше\n",
    "\n",
    "Лучшие результаты показывает алгоритм случайный лес. На валидационной выборке RandomForestClassifier уже показывает резульаты F1 меры = 0.61, что выше целевого целевого значения."
   ]
  },
  {
   "cell_type": "markdown",
   "metadata": {},
   "source": [
    "## Тестирование модели"
   ]
  },
  {
   "cell_type": "code",
   "execution_count": 68,
   "metadata": {},
   "outputs": [
    {
     "data": {
      "text/plain": [
       "RandomForestClassifier(max_depth=7, n_estimators=43, random_state=12345)"
      ]
     },
     "execution_count": 68,
     "metadata": {},
     "output_type": "execute_result"
    }
   ],
   "source": [
    "#Обучим финальную модель убрал - bootstrap = True, class_weight = 'balanced', # от 24.02.2023\n",
    "model_rf_final = RandomForestClassifier(n_estimators = 50, max_depth= 8, random_state=12345)\n",
    "model_rf_final.fit(features_train_upsampled, target_train_upsampled)"
   ]
  },
  {
   "cell_type": "code",
   "execution_count": 69,
   "metadata": {},
   "outputs": [
    {
     "name": "stdout",
     "output_type": "stream",
     "text": [
      "Полнота 0.723404255319149\n",
      "Точность 0.5221843003412969\n",
      "F1-мера 0.6065411298315164\n"
     ]
    }
   ],
   "source": [
    "\n",
    "model_rf_final_prediction = model_rf_final.predict(features_test)\n",
    "rec_prec_f1(target_test, model_rf_final_prediction)"
   ]
  },
  {
   "cell_type": "code",
   "execution_count": 70,
   "metadata": {},
   "outputs": [
    {
     "data": {
      "text/plain": [
       "0.8513006861338599"
      ]
     },
     "execution_count": 70,
     "metadata": {},
     "output_type": "execute_result"
    }
   ],
   "source": [
    "#Расчитаем auc_roc для RFC на тестовой выборке\n",
    "model_rf_final_valid = model_rf_final.predict_proba(features_test)[:, 1]\n",
    "\n",
    "auc_roc_rf = roc_auc_score(target_test, model_rf_final_valid)\n",
    "\n",
    "auc_roc_rf"
   ]
  },
  {
   "cell_type": "code",
   "execution_count": 71,
   "metadata": {},
   "outputs": [
    {
     "data": {
      "text/plain": [
       "0    2000\n",
       "dtype: int64"
      ]
     },
     "execution_count": 71,
     "metadata": {},
     "output_type": "execute_result"
    }
   ],
   "source": [
    "#Создаем константную модель\n",
    "target_predict_constant = pd.Series([0]*len(target_test))\n",
    "target_predict_constant.value_counts()"
   ]
  },
  {
   "cell_type": "code",
   "execution_count": 72,
   "metadata": {},
   "outputs": [
    {
     "name": "stdout",
     "output_type": "stream",
     "text": [
      "accuracy_score константой модели: 0.791\n",
      "accuracy_score финальной модели: 0.8015\n",
      "AUC-ROC константой модели: 0.5\n",
      "AUC-ROC финальной модели: 0.8513006861338599\n"
     ]
    }
   ],
   "source": [
    "#Сравним показатель точности (accuracy_score) константной модели и финальной\n",
    "print('accuracy_score константой модели:', accuracy_score(target_valid, target_predict_constant))\n",
    "print('accuracy_score финальной модели:', accuracy_score(target_test, model_rf_final_prediction))\n",
    "#Дополнительно сравним AUC-ROC — единственный параметр подающийся сравнению, потому что константная подель содержит только негативные ответы\n",
    "print('AUC-ROC константой модели:', roc_auc_score(target_valid, target_predict_constant))\n",
    "print('AUC-ROC финальной модели:', roc_auc_score(target_test, model_rf_final_valid))"
   ]
  },
  {
   "cell_type": "markdown",
   "metadata": {},
   "source": [
    "Финальная модель показывает результаты лучше, чем константная модель — модель можно считать адекватной."
   ]
  },
  {
   "cell_type": "markdown",
   "metadata": {},
   "source": [
    "**Итоговые выводы**\n",
    "\n",
    "- В первоначальные данных был дисбаланс. 80% / 20%. Из-за этого обученная на этих данных модель не проходила проверку на адекватность. Все модели на первоначальных данных были с высокой степенью ошибок и низким качеством взвешенной величины (F1). Модели показывали низкую точность и полноту.\n",
    "\n",
    "\n",
    "- Убрал дисбаланс классов в обучающей выборке. Увеличил количество значений позитивного класса в 4 раза. Так был достигнут баланс классов в обучеющей выборке: 0 - 0.501043 1 - 0.498957\n",
    "\n",
    "\n",
    "- Разобрали несколько вариантов борьбы с дисбалансом upsampling и downsampling\n",
    "\n",
    "\n",
    "- На новых данных все модели показали результат выше, чем на несбалансированной выборке. Лучшие показатели были у модели случайного леса.\n",
    "        -Полнота 0.722488038277512\n",
    "        -Точность 0.5392857142857143\n",
    "        -F1-мера 0.6175869120654396\n",
    "        -AUC-ROC 0.8527604207622839\n",
    "\n",
    "- Финальная модель прошла проверку на адекватность в сравнении с контантной моделью: accuracy_score константой модели: 0.796\n",
    "        -aaccuracy_score константой модели: 0.791\n",
    "        -accuracy_score финальной модели: 0.8015\n",
    "        -AUC-ROC константой модели: 0.5\n",
    "        -AUC-ROC финальной модели: 0.8513006861338599"
   ]
  },
  {
   "cell_type": "markdown",
   "metadata": {},
   "source": [
    "## Чек-лист готовности проекта"
   ]
  },
  {
   "cell_type": "markdown",
   "metadata": {},
   "source": [
    "Поставьте 'x' в выполненных пунктах. Далее нажмите Shift+Enter."
   ]
  },
  {
   "cell_type": "markdown",
   "metadata": {},
   "source": [
    "- [x]  Jupyter Notebook открыт\n",
    "- [x]  Весь код выполняется без ошибок\n",
    "- [x]  Ячейки с кодом расположены в порядке исполнения\n",
    "- [x]  Выполнен шаг 1: данные подготовлены\n",
    "- [x]  Выполнен шаг 2: задача исследована\n",
    "    - [x]  Исследован баланс классов\n",
    "    - [x]  Изучены модели без учёта дисбаланса\n",
    "    - [x]  Написаны выводы по результатам исследования\n",
    "- [x]  Выполнен шаг 3: учтён дисбаланс\n",
    "    - [x]  Применено несколько способов борьбы с дисбалансом\n",
    "    - [x]  Написаны выводы по результатам исследования\n",
    "- [x]  Выполнен шаг 4: проведено тестирование\n",
    "- [x]  Удалось достичь *F1*-меры не менее 0.59\n",
    "- [x]  Исследована метрика *AUC-ROC*"
   ]
  }
 ],
 "metadata": {
  "ExecuteTimeLog": [
   {
    "duration": 1701,
    "start_time": "2022-11-25T20:16:44.459Z"
   },
   {
    "duration": 174,
    "start_time": "2022-11-25T20:16:46.162Z"
   },
   {
    "duration": 23,
    "start_time": "2022-11-25T20:16:46.338Z"
   },
   {
    "duration": 14,
    "start_time": "2022-11-25T20:16:46.415Z"
   },
   {
    "duration": 48,
    "start_time": "2022-11-25T20:16:46.758Z"
   },
   {
    "duration": 48,
    "start_time": "2022-11-25T20:16:51.947Z"
   },
   {
    "duration": 21,
    "start_time": "2022-11-25T20:17:17.342Z"
   },
   {
    "duration": 3,
    "start_time": "2022-11-25T20:17:52.348Z"
   },
   {
    "duration": 5,
    "start_time": "2022-11-25T20:18:06.834Z"
   },
   {
    "duration": 15,
    "start_time": "2022-11-25T20:19:17.970Z"
   },
   {
    "duration": 5,
    "start_time": "2022-11-25T20:19:19.690Z"
   },
   {
    "duration": 30,
    "start_time": "2022-11-25T20:19:20.515Z"
   },
   {
    "duration": 4,
    "start_time": "2022-11-25T20:19:30.411Z"
   },
   {
    "duration": 6,
    "start_time": "2022-11-25T20:20:26.175Z"
   },
   {
    "duration": 7,
    "start_time": "2022-11-25T20:20:31.587Z"
   },
   {
    "duration": 7,
    "start_time": "2022-11-25T20:20:37.931Z"
   },
   {
    "duration": 12,
    "start_time": "2022-11-25T20:20:58.718Z"
   },
   {
    "duration": 3,
    "start_time": "2022-11-25T20:21:04.966Z"
   },
   {
    "duration": 11,
    "start_time": "2022-11-25T20:21:10.090Z"
   },
   {
    "duration": 25,
    "start_time": "2022-11-25T20:21:15.199Z"
   },
   {
    "duration": 19,
    "start_time": "2022-11-25T20:21:23.568Z"
   },
   {
    "duration": 19,
    "start_time": "2022-11-25T20:21:31.593Z"
   },
   {
    "duration": 4,
    "start_time": "2022-11-25T20:21:52.965Z"
   },
   {
    "duration": 369,
    "start_time": "2022-11-25T20:22:02.522Z"
   },
   {
    "duration": 14,
    "start_time": "2022-11-25T20:22:23.869Z"
   },
   {
    "duration": 108,
    "start_time": "2022-11-25T20:22:30.429Z"
   },
   {
    "duration": 99,
    "start_time": "2022-11-25T20:22:40.043Z"
   },
   {
    "duration": 106,
    "start_time": "2022-11-25T20:22:46.190Z"
   },
   {
    "duration": 73,
    "start_time": "2022-11-25T20:22:51.873Z"
   },
   {
    "duration": 91,
    "start_time": "2022-11-25T20:22:56.081Z"
   },
   {
    "duration": 88,
    "start_time": "2022-11-25T20:22:57.445Z"
   },
   {
    "duration": 5,
    "start_time": "2022-11-25T20:23:42.785Z"
   },
   {
    "duration": 7,
    "start_time": "2022-11-25T20:23:53.129Z"
   },
   {
    "duration": 1062,
    "start_time": "2022-11-25T20:23:59.621Z"
   },
   {
    "duration": 143,
    "start_time": "2022-11-25T20:24:14.202Z"
   },
   {
    "duration": 80,
    "start_time": "2022-11-25T20:24:28.961Z"
   },
   {
    "duration": 950,
    "start_time": "2022-11-25T20:24:55.319Z"
   },
   {
    "duration": 10,
    "start_time": "2022-11-25T20:25:00.632Z"
   },
   {
    "duration": 73,
    "start_time": "2022-11-25T20:25:11.229Z"
   },
   {
    "duration": 101,
    "start_time": "2022-11-25T20:25:17.533Z"
   },
   {
    "duration": 64,
    "start_time": "2022-11-25T20:25:37.685Z"
   },
   {
    "duration": 47,
    "start_time": "2022-11-25T20:25:41.175Z"
   },
   {
    "duration": 11,
    "start_time": "2022-11-25T20:26:01.032Z"
   },
   {
    "duration": 14,
    "start_time": "2022-11-25T20:26:07.929Z"
   },
   {
    "duration": 119,
    "start_time": "2022-11-25T20:26:26.505Z"
   },
   {
    "duration": 24,
    "start_time": "2022-11-25T20:33:03.096Z"
   },
   {
    "duration": 10,
    "start_time": "2022-11-25T20:33:11.709Z"
   },
   {
    "duration": 64,
    "start_time": "2022-11-25T20:33:47.792Z"
   },
   {
    "duration": 4,
    "start_time": "2022-11-25T20:33:55.134Z"
   },
   {
    "duration": 151,
    "start_time": "2022-11-25T20:34:01.533Z"
   },
   {
    "duration": 353,
    "start_time": "2022-11-25T20:34:08.744Z"
   },
   {
    "duration": 6,
    "start_time": "2022-11-25T20:44:21.620Z"
   },
   {
    "duration": 5,
    "start_time": "2022-11-25T20:44:30.725Z"
   },
   {
    "duration": 12,
    "start_time": "2022-11-25T20:44:37.009Z"
   },
   {
    "duration": 88,
    "start_time": "2022-11-25T20:44:42.951Z"
   },
   {
    "duration": 14,
    "start_time": "2022-11-25T20:44:51.245Z"
   },
   {
    "duration": 16,
    "start_time": "2022-11-25T20:44:57.929Z"
   },
   {
    "duration": 20,
    "start_time": "2022-11-25T20:45:08.249Z"
   },
   {
    "duration": 104,
    "start_time": "2022-11-25T20:45:15.716Z"
   },
   {
    "duration": 281,
    "start_time": "2022-11-25T20:46:04.891Z"
   },
   {
    "duration": 377,
    "start_time": "2022-11-25T20:46:15.225Z"
   },
   {
    "duration": 47,
    "start_time": "2022-11-25T20:46:35.868Z"
   },
   {
    "duration": 10,
    "start_time": "2022-11-25T20:46:46.783Z"
   },
   {
    "duration": 324,
    "start_time": "2022-11-25T20:46:54.041Z"
   },
   {
    "duration": 26,
    "start_time": "2022-11-25T20:46:59.914Z"
   },
   {
    "duration": 36,
    "start_time": "2022-11-25T20:47:06.675Z"
   },
   {
    "duration": 19,
    "start_time": "2022-11-25T20:47:12.018Z"
   },
   {
    "duration": 302,
    "start_time": "2022-11-25T21:14:53.293Z"
   },
   {
    "duration": 28,
    "start_time": "2022-11-25T21:15:00.766Z"
   },
   {
    "duration": 23,
    "start_time": "2022-11-25T21:15:08.003Z"
   },
   {
    "duration": 9,
    "start_time": "2022-11-25T21:15:30.324Z"
   },
   {
    "duration": 10,
    "start_time": "2022-11-25T21:15:43.903Z"
   },
   {
    "duration": 1530,
    "start_time": "2022-11-26T20:58:24.932Z"
   },
   {
    "duration": 84,
    "start_time": "2022-11-26T20:58:26.464Z"
   },
   {
    "duration": 17,
    "start_time": "2022-11-26T20:58:29.966Z"
   },
   {
    "duration": 13,
    "start_time": "2022-11-26T20:58:35.067Z"
   },
   {
    "duration": 36,
    "start_time": "2022-11-26T20:58:38.075Z"
   },
   {
    "duration": 108,
    "start_time": "2022-11-26T20:58:40.937Z"
   },
   {
    "duration": 10,
    "start_time": "2022-11-26T20:58:44.891Z"
   },
   {
    "duration": 9,
    "start_time": "2022-11-26T21:04:16.048Z"
   },
   {
    "duration": 4,
    "start_time": "2022-11-26T21:04:53.234Z"
   },
   {
    "duration": 5,
    "start_time": "2022-11-26T21:04:55.690Z"
   },
   {
    "duration": 10,
    "start_time": "2022-11-26T21:14:49.532Z"
   },
   {
    "duration": 14,
    "start_time": "2022-11-26T21:15:05.245Z"
   },
   {
    "duration": 4,
    "start_time": "2022-11-26T21:16:01.717Z"
   },
   {
    "duration": 17,
    "start_time": "2022-11-26T21:16:14.079Z"
   },
   {
    "duration": 7,
    "start_time": "2022-11-26T21:16:14.112Z"
   },
   {
    "duration": 3,
    "start_time": "2022-11-26T21:16:30.628Z"
   },
   {
    "duration": 8,
    "start_time": "2022-11-26T21:19:16.379Z"
   },
   {
    "duration": 5,
    "start_time": "2022-11-26T21:19:32.708Z"
   },
   {
    "duration": 6,
    "start_time": "2022-11-26T21:20:04.901Z"
   },
   {
    "duration": 6,
    "start_time": "2022-11-26T21:20:11.090Z"
   },
   {
    "duration": 10,
    "start_time": "2022-11-26T21:21:14.939Z"
   },
   {
    "duration": 3,
    "start_time": "2022-11-26T21:21:18.098Z"
   },
   {
    "duration": 8,
    "start_time": "2022-11-26T21:21:18.881Z"
   },
   {
    "duration": 20,
    "start_time": "2022-11-26T21:21:21.354Z"
   },
   {
    "duration": 17,
    "start_time": "2022-11-26T21:21:23.420Z"
   },
   {
    "duration": 15,
    "start_time": "2022-11-26T21:21:26.435Z"
   },
   {
    "duration": 16,
    "start_time": "2022-11-26T21:22:26.874Z"
   },
   {
    "duration": 3,
    "start_time": "2022-11-26T21:25:39.472Z"
   },
   {
    "duration": 250,
    "start_time": "2022-11-26T21:25:43.224Z"
   },
   {
    "duration": 14,
    "start_time": "2022-11-26T21:26:35.930Z"
   },
   {
    "duration": 143,
    "start_time": "2022-11-26T21:26:46.409Z"
   },
   {
    "duration": 114,
    "start_time": "2022-11-26T21:26:52.609Z"
   },
   {
    "duration": 108,
    "start_time": "2022-11-26T21:28:02.576Z"
   },
   {
    "duration": 105,
    "start_time": "2022-11-26T21:28:08.948Z"
   },
   {
    "duration": 103,
    "start_time": "2022-11-26T21:29:52.592Z"
   },
   {
    "duration": 161,
    "start_time": "2022-11-26T21:30:11.330Z"
   },
   {
    "duration": 41,
    "start_time": "2022-11-26T21:30:22.672Z"
   },
   {
    "duration": 104,
    "start_time": "2022-11-26T21:30:25.967Z"
   },
   {
    "duration": 108,
    "start_time": "2022-11-26T21:30:29.943Z"
   },
   {
    "duration": 4,
    "start_time": "2022-11-26T21:31:12.030Z"
   },
   {
    "duration": 5,
    "start_time": "2022-11-26T21:31:13.178Z"
   },
   {
    "duration": 4,
    "start_time": "2022-11-26T21:32:24.511Z"
   },
   {
    "duration": 38,
    "start_time": "2022-11-26T21:32:31.431Z"
   },
   {
    "duration": 4,
    "start_time": "2022-11-26T21:32:53.800Z"
   },
   {
    "duration": 38,
    "start_time": "2022-11-26T21:32:54.815Z"
   },
   {
    "duration": 4,
    "start_time": "2022-11-26T21:33:27.543Z"
   },
   {
    "duration": 634,
    "start_time": "2022-11-26T21:33:28.846Z"
   },
   {
    "duration": 4,
    "start_time": "2022-11-26T21:33:42.040Z"
   },
   {
    "duration": 742,
    "start_time": "2022-11-26T21:33:43.382Z"
   },
   {
    "duration": 714,
    "start_time": "2022-11-26T21:38:38.309Z"
   },
   {
    "duration": 634,
    "start_time": "2022-11-26T21:51:20.186Z"
   },
   {
    "duration": 10,
    "start_time": "2022-11-26T21:52:47.023Z"
   },
   {
    "duration": 8,
    "start_time": "2022-11-26T21:52:52.888Z"
   },
   {
    "duration": 53,
    "start_time": "2022-11-26T21:53:16.496Z"
   },
   {
    "duration": 644,
    "start_time": "2022-11-26T21:58:27.839Z"
   },
   {
    "duration": 8,
    "start_time": "2022-11-26T21:58:29.326Z"
   },
   {
    "duration": 50,
    "start_time": "2022-11-26T21:58:30.466Z"
   },
   {
    "duration": 36,
    "start_time": "2022-11-26T21:58:53.367Z"
   },
   {
    "duration": 652,
    "start_time": "2022-11-26T22:00:54.114Z"
   },
   {
    "duration": 8,
    "start_time": "2022-11-26T22:00:55.767Z"
   },
   {
    "duration": 8,
    "start_time": "2022-11-26T22:01:16.771Z"
   },
   {
    "duration": 11,
    "start_time": "2022-11-26T22:01:27.093Z"
   },
   {
    "duration": 8,
    "start_time": "2022-11-26T22:01:53.370Z"
   },
   {
    "duration": 32,
    "start_time": "2022-11-26T22:03:00.620Z"
   },
   {
    "duration": 9,
    "start_time": "2022-11-26T22:03:04.579Z"
   },
   {
    "duration": 23,
    "start_time": "2022-11-26T22:03:13.940Z"
   },
   {
    "duration": 8,
    "start_time": "2022-11-26T22:03:15.115Z"
   },
   {
    "duration": 71,
    "start_time": "2022-11-26T22:03:29.252Z"
   },
   {
    "duration": 12,
    "start_time": "2022-11-26T22:03:33.076Z"
   },
   {
    "duration": 4,
    "start_time": "2022-11-26T22:04:00.341Z"
   },
   {
    "duration": 133,
    "start_time": "2022-11-26T22:04:19.053Z"
   },
   {
    "duration": 4,
    "start_time": "2022-11-26T22:04:34.692Z"
   },
   {
    "duration": 119,
    "start_time": "2022-11-26T22:04:35.930Z"
   },
   {
    "duration": 308,
    "start_time": "2022-11-26T22:05:09.035Z"
   },
   {
    "duration": 364,
    "start_time": "2022-11-26T22:05:47.189Z"
   },
   {
    "duration": 10,
    "start_time": "2022-11-26T22:09:09.993Z"
   },
   {
    "duration": 10,
    "start_time": "2022-11-26T22:09:39.037Z"
   },
   {
    "duration": 17,
    "start_time": "2022-11-26T22:11:05.018Z"
   },
   {
    "duration": 4,
    "start_time": "2022-11-26T22:11:27.850Z"
   },
   {
    "duration": 9,
    "start_time": "2022-11-26T22:11:30.289Z"
   },
   {
    "duration": 13,
    "start_time": "2022-11-26T22:11:34.433Z"
   },
   {
    "duration": 7,
    "start_time": "2022-11-26T22:11:36.855Z"
   },
   {
    "duration": 11,
    "start_time": "2022-11-26T22:11:38.067Z"
   },
   {
    "duration": 12,
    "start_time": "2022-11-26T22:11:43.363Z"
   },
   {
    "duration": 91,
    "start_time": "2022-11-26T22:11:58.542Z"
   },
   {
    "duration": 81,
    "start_time": "2022-11-26T22:12:07.976Z"
   },
   {
    "duration": 85,
    "start_time": "2022-11-26T22:12:30.574Z"
   },
   {
    "duration": 113,
    "start_time": "2022-11-26T22:12:43.840Z"
   },
   {
    "duration": 299,
    "start_time": "2022-11-26T22:13:46.832Z"
   },
   {
    "duration": 345,
    "start_time": "2022-11-26T22:14:00.289Z"
   },
   {
    "duration": 41,
    "start_time": "2022-11-26T22:14:32.352Z"
   },
   {
    "duration": 8,
    "start_time": "2022-11-26T22:14:33.776Z"
   },
   {
    "duration": 8,
    "start_time": "2022-11-26T22:14:50.041Z"
   },
   {
    "duration": 9,
    "start_time": "2022-11-26T22:14:56.332Z"
   },
   {
    "duration": 10,
    "start_time": "2022-11-26T22:15:06.998Z"
   },
   {
    "duration": 41,
    "start_time": "2022-11-26T22:15:08.134Z"
   },
   {
    "duration": 9,
    "start_time": "2022-11-26T22:15:09.199Z"
   },
   {
    "duration": 53,
    "start_time": "2022-11-26T22:15:40.119Z"
   },
   {
    "duration": 7,
    "start_time": "2022-11-26T22:15:41.199Z"
   },
   {
    "duration": 262,
    "start_time": "2022-11-26T22:16:27.171Z"
   },
   {
    "duration": 23,
    "start_time": "2022-11-26T22:16:53.888Z"
   },
   {
    "duration": 22,
    "start_time": "2022-11-26T22:16:55.606Z"
   },
   {
    "duration": 218,
    "start_time": "2022-11-26T22:17:10.304Z"
   },
   {
    "duration": 10,
    "start_time": "2022-11-26T22:17:34.238Z"
   },
   {
    "duration": 51,
    "start_time": "2022-11-26T22:17:55.171Z"
   },
   {
    "duration": 12,
    "start_time": "2022-11-26T22:17:56.127Z"
   },
   {
    "duration": 258,
    "start_time": "2022-11-26T22:19:22.621Z"
   },
   {
    "duration": 21,
    "start_time": "2022-11-26T22:19:35.439Z"
   },
   {
    "duration": 8,
    "start_time": "2022-11-26T22:21:14.485Z"
   },
   {
    "duration": 24,
    "start_time": "2022-11-26T22:21:32.766Z"
   },
   {
    "duration": 8,
    "start_time": "2022-11-26T22:22:03.750Z"
   },
   {
    "duration": 10,
    "start_time": "2022-11-26T22:22:05.053Z"
   },
   {
    "duration": 245,
    "start_time": "2022-11-26T22:22:05.988Z"
   },
   {
    "duration": 22,
    "start_time": "2022-11-26T22:22:07.084Z"
   },
   {
    "duration": 19,
    "start_time": "2022-11-26T22:22:43.245Z"
   },
   {
    "duration": 6,
    "start_time": "2022-11-26T22:22:47.292Z"
   },
   {
    "duration": 8,
    "start_time": "2022-11-26T22:23:30.767Z"
   },
   {
    "duration": 243,
    "start_time": "2022-11-26T22:23:32.140Z"
   },
   {
    "duration": 19,
    "start_time": "2022-11-26T22:23:33.156Z"
   },
   {
    "duration": 19,
    "start_time": "2022-11-26T22:24:01.014Z"
   },
   {
    "duration": 17,
    "start_time": "2022-11-26T22:24:05.629Z"
   },
   {
    "duration": 7,
    "start_time": "2022-11-26T22:24:10.231Z"
   },
   {
    "duration": 10,
    "start_time": "2022-11-26T22:24:12.173Z"
   },
   {
    "duration": 242,
    "start_time": "2022-11-26T22:25:27.333Z"
   },
   {
    "duration": 33,
    "start_time": "2022-11-26T22:25:28.756Z"
   },
   {
    "duration": 25,
    "start_time": "2022-11-26T22:25:30.067Z"
   },
   {
    "duration": 1321,
    "start_time": "2022-11-26T22:25:51.373Z"
   },
   {
    "duration": 41,
    "start_time": "2022-11-26T22:25:52.695Z"
   },
   {
    "duration": 18,
    "start_time": "2022-11-26T22:25:52.738Z"
   },
   {
    "duration": 12,
    "start_time": "2022-11-26T22:25:52.759Z"
   },
   {
    "duration": 63,
    "start_time": "2022-11-26T22:25:52.773Z"
   },
   {
    "duration": 12,
    "start_time": "2022-11-26T22:25:52.837Z"
   },
   {
    "duration": 4,
    "start_time": "2022-11-26T22:25:52.851Z"
   },
   {
    "duration": 9,
    "start_time": "2022-11-26T22:25:52.856Z"
   },
   {
    "duration": 20,
    "start_time": "2022-11-26T22:25:52.868Z"
   },
   {
    "duration": 6,
    "start_time": "2022-11-26T22:25:52.891Z"
   },
   {
    "duration": 37,
    "start_time": "2022-11-26T22:25:52.898Z"
   },
   {
    "duration": 4,
    "start_time": "2022-11-26T22:25:52.936Z"
   },
   {
    "duration": 11,
    "start_time": "2022-11-26T22:25:52.942Z"
   },
   {
    "duration": 7,
    "start_time": "2022-11-26T22:25:52.954Z"
   },
   {
    "duration": 9,
    "start_time": "2022-11-26T22:25:52.963Z"
   },
   {
    "duration": 13,
    "start_time": "2022-11-26T22:25:52.973Z"
   },
   {
    "duration": 7,
    "start_time": "2022-11-26T22:25:52.987Z"
   },
   {
    "duration": 29,
    "start_time": "2022-11-26T22:25:52.995Z"
   },
   {
    "duration": 20,
    "start_time": "2022-11-26T22:25:53.026Z"
   },
   {
    "duration": 16,
    "start_time": "2022-11-26T22:25:53.047Z"
   },
   {
    "duration": 16,
    "start_time": "2022-11-26T22:25:53.065Z"
   },
   {
    "duration": 39,
    "start_time": "2022-11-26T22:25:53.082Z"
   },
   {
    "duration": 246,
    "start_time": "2022-11-26T22:25:53.123Z"
   },
   {
    "duration": 59,
    "start_time": "2022-11-26T22:25:53.371Z"
   },
   {
    "duration": 129,
    "start_time": "2022-11-26T22:25:53.521Z"
   },
   {
    "duration": 3,
    "start_time": "2022-11-26T22:25:53.652Z"
   },
   {
    "duration": 8,
    "start_time": "2022-11-26T22:25:53.657Z"
   },
   {
    "duration": 852,
    "start_time": "2022-11-26T22:25:53.669Z"
   },
   {
    "duration": 676,
    "start_time": "2022-11-26T22:25:54.523Z"
   },
   {
    "duration": 21,
    "start_time": "2022-11-26T22:25:55.201Z"
   },
   {
    "duration": 77,
    "start_time": "2022-11-26T22:25:55.225Z"
   },
   {
    "duration": 49,
    "start_time": "2022-11-26T22:25:55.304Z"
   },
   {
    "duration": 7,
    "start_time": "2022-11-26T22:25:55.355Z"
   },
   {
    "duration": 16,
    "start_time": "2022-11-26T22:25:55.364Z"
   },
   {
    "duration": 276,
    "start_time": "2022-11-26T22:25:55.381Z"
   },
   {
    "duration": 0,
    "start_time": "2022-11-26T22:25:55.658Z"
   },
   {
    "duration": 0,
    "start_time": "2022-11-26T22:25:55.659Z"
   },
   {
    "duration": 0,
    "start_time": "2022-11-26T22:25:55.661Z"
   },
   {
    "duration": 0,
    "start_time": "2022-11-26T22:25:55.661Z"
   },
   {
    "duration": 0,
    "start_time": "2022-11-26T22:25:55.663Z"
   },
   {
    "duration": 0,
    "start_time": "2022-11-26T22:25:55.664Z"
   },
   {
    "duration": 0,
    "start_time": "2022-11-26T22:25:55.665Z"
   },
   {
    "duration": 0,
    "start_time": "2022-11-26T22:25:55.666Z"
   },
   {
    "duration": 0,
    "start_time": "2022-11-26T22:25:55.666Z"
   },
   {
    "duration": 0,
    "start_time": "2022-11-26T22:25:55.667Z"
   },
   {
    "duration": 0,
    "start_time": "2022-11-26T22:25:55.669Z"
   },
   {
    "duration": 0,
    "start_time": "2022-11-26T22:25:55.670Z"
   },
   {
    "duration": 0,
    "start_time": "2022-11-26T22:25:55.671Z"
   },
   {
    "duration": 0,
    "start_time": "2022-11-26T22:25:55.672Z"
   },
   {
    "duration": 0,
    "start_time": "2022-11-26T22:25:55.673Z"
   },
   {
    "duration": 0,
    "start_time": "2022-11-26T22:25:55.674Z"
   },
   {
    "duration": 0,
    "start_time": "2022-11-26T22:25:55.675Z"
   },
   {
    "duration": 0,
    "start_time": "2022-11-26T22:25:55.677Z"
   },
   {
    "duration": 0,
    "start_time": "2022-11-26T22:25:55.677Z"
   },
   {
    "duration": 0,
    "start_time": "2022-11-26T22:25:55.679Z"
   },
   {
    "duration": 0,
    "start_time": "2022-11-26T22:25:55.680Z"
   },
   {
    "duration": 0,
    "start_time": "2022-11-26T22:25:55.682Z"
   },
   {
    "duration": 0,
    "start_time": "2022-11-26T22:25:55.721Z"
   },
   {
    "duration": 0,
    "start_time": "2022-11-26T22:25:55.722Z"
   },
   {
    "duration": 0,
    "start_time": "2022-11-26T22:25:55.723Z"
   },
   {
    "duration": 0,
    "start_time": "2022-11-26T22:25:55.724Z"
   },
   {
    "duration": 30,
    "start_time": "2022-11-26T22:27:27.107Z"
   },
   {
    "duration": 1329,
    "start_time": "2022-11-26T22:27:44.340Z"
   },
   {
    "duration": 40,
    "start_time": "2022-11-26T22:27:45.671Z"
   },
   {
    "duration": 24,
    "start_time": "2022-11-26T22:27:45.712Z"
   },
   {
    "duration": 17,
    "start_time": "2022-11-26T22:27:45.738Z"
   },
   {
    "duration": 35,
    "start_time": "2022-11-26T22:27:45.758Z"
   },
   {
    "duration": 10,
    "start_time": "2022-11-26T22:27:45.795Z"
   },
   {
    "duration": 3,
    "start_time": "2022-11-26T22:27:45.806Z"
   },
   {
    "duration": 29,
    "start_time": "2022-11-26T22:27:45.811Z"
   },
   {
    "duration": 14,
    "start_time": "2022-11-26T22:27:45.842Z"
   },
   {
    "duration": 5,
    "start_time": "2022-11-26T22:27:45.858Z"
   },
   {
    "duration": 17,
    "start_time": "2022-11-26T22:27:45.865Z"
   },
   {
    "duration": 3,
    "start_time": "2022-11-26T22:27:45.883Z"
   },
   {
    "duration": 10,
    "start_time": "2022-11-26T22:27:45.888Z"
   },
   {
    "duration": 8,
    "start_time": "2022-11-26T22:27:45.902Z"
   },
   {
    "duration": 20,
    "start_time": "2022-11-26T22:27:45.911Z"
   },
   {
    "duration": 16,
    "start_time": "2022-11-26T22:27:45.933Z"
   },
   {
    "duration": 8,
    "start_time": "2022-11-26T22:27:45.951Z"
   },
   {
    "duration": 13,
    "start_time": "2022-11-26T22:27:45.960Z"
   },
   {
    "duration": 29,
    "start_time": "2022-11-26T22:27:45.974Z"
   },
   {
    "duration": 21,
    "start_time": "2022-11-26T22:27:46.005Z"
   },
   {
    "duration": 15,
    "start_time": "2022-11-26T22:27:46.032Z"
   },
   {
    "duration": 3,
    "start_time": "2022-11-26T22:27:46.049Z"
   },
   {
    "duration": 277,
    "start_time": "2022-11-26T22:27:46.054Z"
   },
   {
    "duration": 97,
    "start_time": "2022-11-26T22:27:46.333Z"
   },
   {
    "duration": 134,
    "start_time": "2022-11-26T22:27:46.433Z"
   },
   {
    "duration": 4,
    "start_time": "2022-11-26T22:27:46.568Z"
   },
   {
    "duration": 10,
    "start_time": "2022-11-26T22:27:46.573Z"
   },
   {
    "duration": 761,
    "start_time": "2022-11-26T22:27:46.585Z"
   },
   {
    "duration": 744,
    "start_time": "2022-11-26T22:27:47.430Z"
   },
   {
    "duration": 8,
    "start_time": "2022-11-26T22:27:48.175Z"
   },
   {
    "duration": 60,
    "start_time": "2022-11-26T22:27:48.184Z"
   },
   {
    "duration": 33,
    "start_time": "2022-11-26T22:27:48.245Z"
   },
   {
    "duration": 7,
    "start_time": "2022-11-26T22:27:48.280Z"
   },
   {
    "duration": 9,
    "start_time": "2022-11-26T22:27:48.288Z"
   },
   {
    "duration": 46,
    "start_time": "2022-11-26T22:27:48.298Z"
   },
   {
    "duration": 84,
    "start_time": "2022-11-26T22:27:48.347Z"
   },
   {
    "duration": 112,
    "start_time": "2022-11-26T22:27:48.433Z"
   },
   {
    "duration": 183,
    "start_time": "2022-11-26T22:27:48.547Z"
   },
   {
    "duration": 127,
    "start_time": "2022-11-26T22:27:48.732Z"
   },
   {
    "duration": 301,
    "start_time": "2022-11-26T22:27:48.860Z"
   },
   {
    "duration": 5,
    "start_time": "2022-11-26T22:27:49.166Z"
   },
   {
    "duration": 14,
    "start_time": "2022-11-26T22:27:49.173Z"
   },
   {
    "duration": 17,
    "start_time": "2022-11-26T22:27:49.189Z"
   },
   {
    "duration": 26,
    "start_time": "2022-11-26T22:27:49.208Z"
   },
   {
    "duration": 7,
    "start_time": "2022-11-26T22:27:49.236Z"
   },
   {
    "duration": 16,
    "start_time": "2022-11-26T22:27:49.245Z"
   },
   {
    "duration": 15,
    "start_time": "2022-11-26T22:27:49.262Z"
   },
   {
    "duration": 118,
    "start_time": "2022-11-26T22:27:49.279Z"
   },
   {
    "duration": 248,
    "start_time": "2022-11-26T22:27:49.399Z"
   },
   {
    "duration": 407,
    "start_time": "2022-11-26T22:27:49.720Z"
   },
   {
    "duration": 215,
    "start_time": "2022-11-26T22:27:50.129Z"
   },
   {
    "duration": 7,
    "start_time": "2022-11-26T22:27:50.346Z"
   },
   {
    "duration": 285,
    "start_time": "2022-11-26T22:27:50.354Z"
   },
   {
    "duration": 19,
    "start_time": "2022-11-26T22:27:50.640Z"
   },
   {
    "duration": 66,
    "start_time": "2022-11-26T22:27:50.661Z"
   },
   {
    "duration": 94,
    "start_time": "2022-11-26T22:27:50.729Z"
   },
   {
    "duration": 428,
    "start_time": "2022-11-26T22:27:50.824Z"
   },
   {
    "duration": 22,
    "start_time": "2022-11-26T22:27:51.253Z"
   },
   {
    "duration": 21,
    "start_time": "2022-11-26T22:27:51.277Z"
   },
   {
    "duration": 22,
    "start_time": "2022-11-26T22:27:51.300Z"
   },
   {
    "duration": 19,
    "start_time": "2022-11-26T22:27:51.325Z"
   },
   {
    "duration": 1289,
    "start_time": "2022-11-26T22:29:07.812Z"
   },
   {
    "duration": 43,
    "start_time": "2022-11-26T22:29:09.103Z"
   },
   {
    "duration": 15,
    "start_time": "2022-11-26T22:29:09.148Z"
   },
   {
    "duration": 11,
    "start_time": "2022-11-26T22:29:09.165Z"
   },
   {
    "duration": 55,
    "start_time": "2022-11-26T22:29:09.178Z"
   },
   {
    "duration": 10,
    "start_time": "2022-11-26T22:29:09.235Z"
   },
   {
    "duration": 3,
    "start_time": "2022-11-26T22:29:09.247Z"
   },
   {
    "duration": 6,
    "start_time": "2022-11-26T22:29:09.251Z"
   },
   {
    "duration": 13,
    "start_time": "2022-11-26T22:29:09.258Z"
   },
   {
    "duration": 4,
    "start_time": "2022-11-26T22:29:09.273Z"
   },
   {
    "duration": 59,
    "start_time": "2022-11-26T22:29:09.279Z"
   },
   {
    "duration": 4,
    "start_time": "2022-11-26T22:29:09.340Z"
   },
   {
    "duration": 14,
    "start_time": "2022-11-26T22:29:09.345Z"
   },
   {
    "duration": 6,
    "start_time": "2022-11-26T22:29:09.361Z"
   },
   {
    "duration": 5,
    "start_time": "2022-11-26T22:29:09.368Z"
   },
   {
    "duration": 11,
    "start_time": "2022-11-26T22:29:09.374Z"
   },
   {
    "duration": 11,
    "start_time": "2022-11-26T22:29:09.386Z"
   },
   {
    "duration": 10,
    "start_time": "2022-11-26T22:29:09.398Z"
   },
   {
    "duration": 24,
    "start_time": "2022-11-26T22:29:09.409Z"
   },
   {
    "duration": 16,
    "start_time": "2022-11-26T22:29:09.434Z"
   },
   {
    "duration": 16,
    "start_time": "2022-11-26T22:29:09.452Z"
   },
   {
    "duration": 4,
    "start_time": "2022-11-26T22:29:09.469Z"
   },
   {
    "duration": 272,
    "start_time": "2022-11-26T22:29:09.474Z"
   },
   {
    "duration": 98,
    "start_time": "2022-11-26T22:29:09.748Z"
   },
   {
    "duration": 176,
    "start_time": "2022-11-26T22:29:09.923Z"
   },
   {
    "duration": 3,
    "start_time": "2022-11-26T22:29:10.100Z"
   },
   {
    "duration": 7,
    "start_time": "2022-11-26T22:29:10.104Z"
   },
   {
    "duration": 724,
    "start_time": "2022-11-26T22:29:10.114Z"
   },
   {
    "duration": 891,
    "start_time": "2022-11-26T22:29:10.840Z"
   },
   {
    "duration": 10,
    "start_time": "2022-11-26T22:29:11.733Z"
   },
   {
    "duration": 54,
    "start_time": "2022-11-26T22:29:11.744Z"
   },
   {
    "duration": 47,
    "start_time": "2022-11-26T22:29:11.800Z"
   },
   {
    "duration": 8,
    "start_time": "2022-11-26T22:29:11.848Z"
   },
   {
    "duration": 7,
    "start_time": "2022-11-26T22:29:11.857Z"
   },
   {
    "duration": 68,
    "start_time": "2022-11-26T22:29:11.865Z"
   },
   {
    "duration": 96,
    "start_time": "2022-11-26T22:29:11.935Z"
   },
   {
    "duration": 12,
    "start_time": "2022-11-26T22:29:12.033Z"
   },
   {
    "duration": 195,
    "start_time": "2022-11-26T22:29:12.047Z"
   },
   {
    "duration": 140,
    "start_time": "2022-11-26T22:29:12.243Z"
   },
   {
    "duration": 348,
    "start_time": "2022-11-26T22:29:12.385Z"
   },
   {
    "duration": 7,
    "start_time": "2022-11-26T22:29:12.734Z"
   },
   {
    "duration": 9,
    "start_time": "2022-11-26T22:29:12.742Z"
   },
   {
    "duration": 15,
    "start_time": "2022-11-26T22:29:12.753Z"
   },
   {
    "duration": 16,
    "start_time": "2022-11-26T22:29:12.769Z"
   },
   {
    "duration": 8,
    "start_time": "2022-11-26T22:29:12.787Z"
   },
   {
    "duration": 36,
    "start_time": "2022-11-26T22:29:12.798Z"
   },
   {
    "duration": 30,
    "start_time": "2022-11-26T22:29:12.836Z"
   },
   {
    "duration": 110,
    "start_time": "2022-11-26T22:29:12.869Z"
   },
   {
    "duration": 250,
    "start_time": "2022-11-26T22:29:12.981Z"
   },
   {
    "duration": 490,
    "start_time": "2022-11-26T22:29:13.233Z"
   },
   {
    "duration": 207,
    "start_time": "2022-11-26T22:29:13.725Z"
   },
   {
    "duration": 10,
    "start_time": "2022-11-26T22:29:13.934Z"
   },
   {
    "duration": 287,
    "start_time": "2022-11-26T22:29:13.946Z"
   },
   {
    "duration": 22,
    "start_time": "2022-11-26T22:29:14.235Z"
   },
   {
    "duration": 79,
    "start_time": "2022-11-26T22:29:14.259Z"
   },
   {
    "duration": 97,
    "start_time": "2022-11-26T22:29:14.341Z"
   },
   {
    "duration": 500,
    "start_time": "2022-11-26T22:29:14.442Z"
   },
   {
    "duration": 22,
    "start_time": "2022-11-26T22:29:14.944Z"
   },
   {
    "duration": 20,
    "start_time": "2022-11-26T22:29:14.967Z"
   },
   {
    "duration": 5,
    "start_time": "2022-11-26T22:29:14.989Z"
   },
   {
    "duration": 137,
    "start_time": "2022-11-26T22:29:14.996Z"
   },
   {
    "duration": 17,
    "start_time": "2022-11-26T22:29:37.715Z"
   },
   {
    "duration": 1334,
    "start_time": "2022-11-26T22:29:44.667Z"
   },
   {
    "duration": 44,
    "start_time": "2022-11-26T22:29:46.003Z"
   },
   {
    "duration": 17,
    "start_time": "2022-11-26T22:29:46.048Z"
   },
   {
    "duration": 12,
    "start_time": "2022-11-26T22:29:46.067Z"
   },
   {
    "duration": 34,
    "start_time": "2022-11-26T22:29:46.081Z"
   },
   {
    "duration": 12,
    "start_time": "2022-11-26T22:29:46.127Z"
   },
   {
    "duration": 3,
    "start_time": "2022-11-26T22:29:46.141Z"
   },
   {
    "duration": 9,
    "start_time": "2022-11-26T22:29:46.146Z"
   },
   {
    "duration": 12,
    "start_time": "2022-11-26T22:29:46.157Z"
   },
   {
    "duration": 6,
    "start_time": "2022-11-26T22:29:46.171Z"
   },
   {
    "duration": 19,
    "start_time": "2022-11-26T22:29:46.179Z"
   },
   {
    "duration": 3,
    "start_time": "2022-11-26T22:29:46.200Z"
   },
   {
    "duration": 27,
    "start_time": "2022-11-26T22:29:46.204Z"
   },
   {
    "duration": 5,
    "start_time": "2022-11-26T22:29:46.235Z"
   },
   {
    "duration": 7,
    "start_time": "2022-11-26T22:29:46.241Z"
   },
   {
    "duration": 16,
    "start_time": "2022-11-26T22:29:46.249Z"
   },
   {
    "duration": 6,
    "start_time": "2022-11-26T22:29:46.266Z"
   },
   {
    "duration": 11,
    "start_time": "2022-11-26T22:29:46.273Z"
   },
   {
    "duration": 23,
    "start_time": "2022-11-26T22:29:46.285Z"
   },
   {
    "duration": 36,
    "start_time": "2022-11-26T22:29:46.309Z"
   },
   {
    "duration": 17,
    "start_time": "2022-11-26T22:29:46.346Z"
   },
   {
    "duration": 4,
    "start_time": "2022-11-26T22:29:46.364Z"
   },
   {
    "duration": 272,
    "start_time": "2022-11-26T22:29:46.369Z"
   },
   {
    "duration": 87,
    "start_time": "2022-11-26T22:29:46.642Z"
   },
   {
    "duration": 202,
    "start_time": "2022-11-26T22:29:46.732Z"
   },
   {
    "duration": 4,
    "start_time": "2022-11-26T22:29:46.935Z"
   },
   {
    "duration": 7,
    "start_time": "2022-11-26T22:29:46.940Z"
   },
   {
    "duration": 776,
    "start_time": "2022-11-26T22:29:46.948Z"
   },
   {
    "duration": 753,
    "start_time": "2022-11-26T22:29:47.727Z"
   },
   {
    "duration": 8,
    "start_time": "2022-11-26T22:29:48.482Z"
   },
   {
    "duration": 70,
    "start_time": "2022-11-26T22:29:48.492Z"
   },
   {
    "duration": 36,
    "start_time": "2022-11-26T22:29:48.564Z"
   },
   {
    "duration": 30,
    "start_time": "2022-11-26T22:29:48.601Z"
   },
   {
    "duration": 8,
    "start_time": "2022-11-26T22:29:48.635Z"
   },
   {
    "duration": 86,
    "start_time": "2022-11-26T22:29:48.644Z"
   },
   {
    "duration": 10,
    "start_time": "2022-11-26T22:29:48.734Z"
   },
   {
    "duration": 23,
    "start_time": "2022-11-26T22:29:48.823Z"
   },
   {
    "duration": 87,
    "start_time": "2022-11-26T22:29:48.848Z"
   },
   {
    "duration": 232,
    "start_time": "2022-11-26T22:29:48.940Z"
   },
   {
    "duration": 275,
    "start_time": "2022-11-26T22:29:49.174Z"
   },
   {
    "duration": 5,
    "start_time": "2022-11-26T22:29:49.452Z"
   },
   {
    "duration": 15,
    "start_time": "2022-11-26T22:29:49.458Z"
   },
   {
    "duration": 17,
    "start_time": "2022-11-26T22:29:49.474Z"
   },
   {
    "duration": 17,
    "start_time": "2022-11-26T22:29:49.493Z"
   },
   {
    "duration": 6,
    "start_time": "2022-11-26T22:29:49.512Z"
   },
   {
    "duration": 24,
    "start_time": "2022-11-26T22:29:49.519Z"
   },
   {
    "duration": 10,
    "start_time": "2022-11-26T22:29:49.544Z"
   },
   {
    "duration": 116,
    "start_time": "2022-11-26T22:29:49.556Z"
   },
   {
    "duration": 260,
    "start_time": "2022-11-26T22:29:49.673Z"
   },
   {
    "duration": 488,
    "start_time": "2022-11-26T22:29:49.940Z"
   },
   {
    "duration": 206,
    "start_time": "2022-11-26T22:29:50.430Z"
   },
   {
    "duration": 9,
    "start_time": "2022-11-26T22:29:50.637Z"
   },
   {
    "duration": 273,
    "start_time": "2022-11-26T22:29:50.648Z"
   },
   {
    "duration": 23,
    "start_time": "2022-11-26T22:29:50.931Z"
   },
   {
    "duration": 86,
    "start_time": "2022-11-26T22:29:50.955Z"
   },
   {
    "duration": 103,
    "start_time": "2022-11-26T22:29:51.043Z"
   },
   {
    "duration": 416,
    "start_time": "2022-11-26T22:29:51.231Z"
   },
   {
    "duration": 21,
    "start_time": "2022-11-26T22:29:51.649Z"
   },
   {
    "duration": 19,
    "start_time": "2022-11-26T22:29:51.671Z"
   },
   {
    "duration": 5,
    "start_time": "2022-11-26T22:29:51.692Z"
   },
   {
    "duration": 29,
    "start_time": "2022-11-26T22:29:51.698Z"
   },
   {
    "duration": 1224,
    "start_time": "2022-11-26T22:49:32.770Z"
   },
   {
    "duration": 39,
    "start_time": "2022-11-26T22:49:33.996Z"
   },
   {
    "duration": 15,
    "start_time": "2022-11-26T22:49:34.038Z"
   },
   {
    "duration": 12,
    "start_time": "2022-11-26T22:49:34.055Z"
   },
   {
    "duration": 54,
    "start_time": "2022-11-26T22:49:34.068Z"
   },
   {
    "duration": 10,
    "start_time": "2022-11-26T22:49:34.124Z"
   },
   {
    "duration": 3,
    "start_time": "2022-11-26T22:49:34.136Z"
   },
   {
    "duration": 7,
    "start_time": "2022-11-26T22:49:34.140Z"
   },
   {
    "duration": 12,
    "start_time": "2022-11-26T22:49:34.149Z"
   },
   {
    "duration": 6,
    "start_time": "2022-11-26T22:49:34.162Z"
   },
   {
    "duration": 22,
    "start_time": "2022-11-26T22:49:34.170Z"
   },
   {
    "duration": 29,
    "start_time": "2022-11-26T22:49:34.193Z"
   },
   {
    "duration": 7,
    "start_time": "2022-11-26T22:49:34.225Z"
   },
   {
    "duration": 6,
    "start_time": "2022-11-26T22:49:34.233Z"
   },
   {
    "duration": 5,
    "start_time": "2022-11-26T22:49:34.240Z"
   },
   {
    "duration": 10,
    "start_time": "2022-11-26T22:49:34.247Z"
   },
   {
    "duration": 8,
    "start_time": "2022-11-26T22:49:34.258Z"
   },
   {
    "duration": 11,
    "start_time": "2022-11-26T22:49:34.268Z"
   },
   {
    "duration": 42,
    "start_time": "2022-11-26T22:49:34.280Z"
   },
   {
    "duration": 16,
    "start_time": "2022-11-26T22:49:34.323Z"
   },
   {
    "duration": 17,
    "start_time": "2022-11-26T22:49:34.340Z"
   },
   {
    "duration": 3,
    "start_time": "2022-11-26T22:49:34.358Z"
   },
   {
    "duration": 268,
    "start_time": "2022-11-26T22:49:34.363Z"
   },
   {
    "duration": 95,
    "start_time": "2022-11-26T22:49:34.633Z"
   },
   {
    "duration": 216,
    "start_time": "2022-11-26T22:49:34.730Z"
   },
   {
    "duration": 2,
    "start_time": "2022-11-26T22:49:34.948Z"
   },
   {
    "duration": 6,
    "start_time": "2022-11-26T22:49:34.952Z"
   },
   {
    "duration": 715,
    "start_time": "2022-11-26T22:49:34.959Z"
   },
   {
    "duration": 725,
    "start_time": "2022-11-26T22:49:35.722Z"
   },
   {
    "duration": 8,
    "start_time": "2022-11-26T22:49:36.449Z"
   },
   {
    "duration": 64,
    "start_time": "2022-11-26T22:49:36.459Z"
   },
   {
    "duration": 33,
    "start_time": "2022-11-26T22:49:36.525Z"
   },
   {
    "duration": 8,
    "start_time": "2022-11-26T22:49:36.559Z"
   },
   {
    "duration": 14,
    "start_time": "2022-11-26T22:49:36.568Z"
   },
   {
    "duration": 41,
    "start_time": "2022-11-26T22:49:36.584Z"
   },
   {
    "duration": 97,
    "start_time": "2022-11-26T22:49:36.627Z"
   },
   {
    "duration": 96,
    "start_time": "2022-11-26T22:49:36.726Z"
   },
   {
    "duration": 5,
    "start_time": "2022-11-26T22:49:36.824Z"
   },
   {
    "duration": 120,
    "start_time": "2022-11-26T22:49:36.921Z"
   },
   {
    "duration": 285,
    "start_time": "2022-11-26T22:49:37.045Z"
   },
   {
    "duration": 4,
    "start_time": "2022-11-26T22:49:37.332Z"
   },
   {
    "duration": 8,
    "start_time": "2022-11-26T22:49:37.338Z"
   },
   {
    "duration": 12,
    "start_time": "2022-11-26T22:49:37.347Z"
   },
   {
    "duration": 14,
    "start_time": "2022-11-26T22:49:37.360Z"
   },
   {
    "duration": 5,
    "start_time": "2022-11-26T22:49:37.376Z"
   },
   {
    "duration": 9,
    "start_time": "2022-11-26T22:49:37.383Z"
   },
   {
    "duration": 28,
    "start_time": "2022-11-26T22:49:37.393Z"
   },
   {
    "duration": 114,
    "start_time": "2022-11-26T22:49:37.422Z"
   },
   {
    "duration": 234,
    "start_time": "2022-11-26T22:49:37.537Z"
   },
   {
    "duration": 400,
    "start_time": "2022-11-26T22:49:37.822Z"
   },
   {
    "duration": 214,
    "start_time": "2022-11-26T22:49:38.224Z"
   },
   {
    "duration": 8,
    "start_time": "2022-11-26T22:49:38.440Z"
   },
   {
    "duration": 275,
    "start_time": "2022-11-26T22:49:38.450Z"
   },
   {
    "duration": 24,
    "start_time": "2022-11-26T22:49:38.726Z"
   },
   {
    "duration": 71,
    "start_time": "2022-11-26T22:49:38.751Z"
   },
   {
    "duration": 104,
    "start_time": "2022-11-26T22:49:38.824Z"
   },
   {
    "duration": 426,
    "start_time": "2022-11-26T22:49:38.930Z"
   },
   {
    "duration": 22,
    "start_time": "2022-11-26T22:49:39.358Z"
   },
   {
    "duration": 20,
    "start_time": "2022-11-26T22:49:39.382Z"
   },
   {
    "duration": 20,
    "start_time": "2022-11-26T22:49:39.404Z"
   },
   {
    "duration": 10,
    "start_time": "2022-11-26T22:49:39.425Z"
   },
   {
    "duration": 47,
    "start_time": "2022-11-28T20:10:21.041Z"
   },
   {
    "duration": 6,
    "start_time": "2022-11-28T20:10:29.574Z"
   },
   {
    "duration": 7,
    "start_time": "2022-11-28T20:10:54.301Z"
   },
   {
    "duration": 7,
    "start_time": "2022-11-28T20:13:17.502Z"
   },
   {
    "duration": 945,
    "start_time": "2022-11-28T20:13:48.165Z"
   },
   {
    "duration": 1515,
    "start_time": "2022-11-28T20:14:23.685Z"
   },
   {
    "duration": 82,
    "start_time": "2022-11-28T20:14:25.202Z"
   },
   {
    "duration": 17,
    "start_time": "2022-11-28T20:14:25.285Z"
   },
   {
    "duration": 12,
    "start_time": "2022-11-28T20:14:25.304Z"
   },
   {
    "duration": 36,
    "start_time": "2022-11-28T20:14:25.318Z"
   },
   {
    "duration": 9,
    "start_time": "2022-11-28T20:14:25.356Z"
   },
   {
    "duration": 2,
    "start_time": "2022-11-28T20:14:25.367Z"
   },
   {
    "duration": 28,
    "start_time": "2022-11-28T20:14:25.370Z"
   },
   {
    "duration": 15,
    "start_time": "2022-11-28T20:14:25.399Z"
   },
   {
    "duration": 8,
    "start_time": "2022-11-28T20:14:25.417Z"
   },
   {
    "duration": 25,
    "start_time": "2022-11-28T20:14:25.426Z"
   },
   {
    "duration": 11,
    "start_time": "2022-11-28T20:14:25.452Z"
   },
   {
    "duration": 11,
    "start_time": "2022-11-28T20:14:25.464Z"
   },
   {
    "duration": 15,
    "start_time": "2022-11-28T20:14:25.476Z"
   },
   {
    "duration": 6,
    "start_time": "2022-11-28T20:14:25.493Z"
   },
   {
    "duration": 24,
    "start_time": "2022-11-28T20:14:25.500Z"
   },
   {
    "duration": 7,
    "start_time": "2022-11-28T20:14:25.525Z"
   },
   {
    "duration": 11,
    "start_time": "2022-11-28T20:14:25.533Z"
   },
   {
    "duration": 20,
    "start_time": "2022-11-28T20:14:25.546Z"
   },
   {
    "duration": 14,
    "start_time": "2022-11-28T20:14:25.568Z"
   },
   {
    "duration": 16,
    "start_time": "2022-11-28T20:14:25.583Z"
   },
   {
    "duration": 4,
    "start_time": "2022-11-28T20:14:25.600Z"
   },
   {
    "duration": 244,
    "start_time": "2022-11-28T20:14:25.605Z"
   },
   {
    "duration": 10,
    "start_time": "2022-11-28T20:14:25.898Z"
   },
   {
    "duration": 206,
    "start_time": "2022-11-28T20:14:25.911Z"
   },
   {
    "duration": 3,
    "start_time": "2022-11-28T20:14:26.118Z"
   },
   {
    "duration": 6,
    "start_time": "2022-11-28T20:14:26.122Z"
   },
   {
    "duration": 690,
    "start_time": "2022-11-28T20:14:26.131Z"
   },
   {
    "duration": 727,
    "start_time": "2022-11-28T20:14:26.898Z"
   },
   {
    "duration": 7,
    "start_time": "2022-11-28T20:14:27.627Z"
   },
   {
    "duration": 62,
    "start_time": "2022-11-28T20:14:27.636Z"
   },
   {
    "duration": 137,
    "start_time": "2022-11-28T20:14:27.700Z"
   },
   {
    "duration": 32,
    "start_time": "2022-11-28T20:14:27.838Z"
   },
   {
    "duration": 6,
    "start_time": "2022-11-28T20:14:27.872Z"
   },
   {
    "duration": 7,
    "start_time": "2022-11-28T20:14:27.896Z"
   },
   {
    "duration": 28,
    "start_time": "2022-11-28T20:14:27.904Z"
   },
   {
    "duration": 101,
    "start_time": "2022-11-28T20:14:27.999Z"
   },
   {
    "duration": 10,
    "start_time": "2022-11-28T20:14:28.102Z"
   },
   {
    "duration": 91,
    "start_time": "2022-11-28T20:14:28.114Z"
   },
   {
    "duration": 211,
    "start_time": "2022-11-28T20:14:28.207Z"
   },
   {
    "duration": 296,
    "start_time": "2022-11-28T20:14:28.420Z"
   },
   {
    "duration": 6,
    "start_time": "2022-11-28T20:14:28.718Z"
   },
   {
    "duration": 7,
    "start_time": "2022-11-28T20:14:28.725Z"
   },
   {
    "duration": 15,
    "start_time": "2022-11-28T20:14:28.733Z"
   },
   {
    "duration": 13,
    "start_time": "2022-11-28T20:14:28.749Z"
   },
   {
    "duration": 6,
    "start_time": "2022-11-28T20:14:28.763Z"
   },
   {
    "duration": 29,
    "start_time": "2022-11-28T20:14:28.770Z"
   },
   {
    "duration": 9,
    "start_time": "2022-11-28T20:14:28.801Z"
   },
   {
    "duration": 114,
    "start_time": "2022-11-28T20:14:28.812Z"
   },
   {
    "duration": 231,
    "start_time": "2022-11-28T20:14:28.928Z"
   },
   {
    "duration": 398,
    "start_time": "2022-11-28T20:14:29.202Z"
   },
   {
    "duration": 217,
    "start_time": "2022-11-28T20:14:29.605Z"
   },
   {
    "duration": 7,
    "start_time": "2022-11-28T20:14:29.824Z"
   },
   {
    "duration": 283,
    "start_time": "2022-11-28T20:14:29.833Z"
   },
   {
    "duration": 22,
    "start_time": "2022-11-28T20:14:30.117Z"
   },
   {
    "duration": 59,
    "start_time": "2022-11-28T20:14:30.140Z"
   },
   {
    "duration": 100,
    "start_time": "2022-11-28T20:14:30.204Z"
   },
   {
    "duration": 499,
    "start_time": "2022-11-28T20:14:30.306Z"
   },
   {
    "duration": 23,
    "start_time": "2022-11-28T20:14:30.807Z"
   },
   {
    "duration": 63,
    "start_time": "2022-11-28T20:14:30.832Z"
   },
   {
    "duration": 6,
    "start_time": "2022-11-28T20:14:30.896Z"
   },
   {
    "duration": 13,
    "start_time": "2022-11-28T20:14:30.903Z"
   },
   {
    "duration": 171,
    "start_time": "2022-11-28T20:15:38.038Z"
   },
   {
    "duration": 33,
    "start_time": "2022-11-28T20:33:22.502Z"
   },
   {
    "duration": 1212,
    "start_time": "2022-11-28T20:35:54.653Z"
   },
   {
    "duration": 42,
    "start_time": "2022-11-28T20:35:55.867Z"
   },
   {
    "duration": 18,
    "start_time": "2022-11-28T20:35:55.911Z"
   },
   {
    "duration": 13,
    "start_time": "2022-11-28T20:35:55.931Z"
   },
   {
    "duration": 60,
    "start_time": "2022-11-28T20:35:55.946Z"
   },
   {
    "duration": 12,
    "start_time": "2022-11-28T20:35:56.008Z"
   },
   {
    "duration": 5,
    "start_time": "2022-11-28T20:35:56.022Z"
   },
   {
    "duration": 10,
    "start_time": "2022-11-28T20:35:56.029Z"
   },
   {
    "duration": 19,
    "start_time": "2022-11-28T20:35:56.040Z"
   },
   {
    "duration": 6,
    "start_time": "2022-11-28T20:35:56.063Z"
   },
   {
    "duration": 49,
    "start_time": "2022-11-28T20:35:56.070Z"
   },
   {
    "duration": 4,
    "start_time": "2022-11-28T20:35:56.122Z"
   },
   {
    "duration": 11,
    "start_time": "2022-11-28T20:35:56.129Z"
   },
   {
    "duration": 6,
    "start_time": "2022-11-28T20:35:56.142Z"
   },
   {
    "duration": 8,
    "start_time": "2022-11-28T20:35:56.150Z"
   },
   {
    "duration": 15,
    "start_time": "2022-11-28T20:35:56.160Z"
   },
   {
    "duration": 3,
    "start_time": "2022-11-28T20:35:56.198Z"
   },
   {
    "duration": 11,
    "start_time": "2022-11-28T20:35:56.203Z"
   },
   {
    "duration": 21,
    "start_time": "2022-11-28T20:35:56.215Z"
   },
   {
    "duration": 16,
    "start_time": "2022-11-28T20:35:56.237Z"
   },
   {
    "duration": 44,
    "start_time": "2022-11-28T20:35:56.254Z"
   },
   {
    "duration": 4,
    "start_time": "2022-11-28T20:35:56.300Z"
   },
   {
    "duration": 243,
    "start_time": "2022-11-28T20:35:56.305Z"
   },
   {
    "duration": 10,
    "start_time": "2022-11-28T20:35:56.600Z"
   },
   {
    "duration": 218,
    "start_time": "2022-11-28T20:35:56.611Z"
   },
   {
    "duration": 2,
    "start_time": "2022-11-28T20:35:56.831Z"
   },
   {
    "duration": 9,
    "start_time": "2022-11-28T20:35:56.835Z"
   },
   {
    "duration": 751,
    "start_time": "2022-11-28T20:35:56.848Z"
   },
   {
    "duration": 740,
    "start_time": "2022-11-28T20:35:57.601Z"
   },
   {
    "duration": 8,
    "start_time": "2022-11-28T20:35:58.342Z"
   },
   {
    "duration": 66,
    "start_time": "2022-11-28T20:35:58.351Z"
   },
   {
    "duration": 35,
    "start_time": "2022-11-28T20:35:58.418Z"
   },
   {
    "duration": 7,
    "start_time": "2022-11-28T20:35:58.455Z"
   },
   {
    "duration": 8,
    "start_time": "2022-11-28T20:35:58.464Z"
   },
   {
    "duration": 123,
    "start_time": "2022-11-28T20:35:58.474Z"
   },
   {
    "duration": 100,
    "start_time": "2022-11-28T20:35:58.599Z"
   },
   {
    "duration": 12,
    "start_time": "2022-11-28T20:35:58.701Z"
   },
   {
    "duration": 88,
    "start_time": "2022-11-28T20:35:58.715Z"
   },
   {
    "duration": 229,
    "start_time": "2022-11-28T20:35:58.806Z"
   },
   {
    "duration": 5,
    "start_time": "2022-11-28T20:35:59.036Z"
   },
   {
    "duration": 8,
    "start_time": "2022-11-28T20:35:59.043Z"
   },
   {
    "duration": 13,
    "start_time": "2022-11-28T20:35:59.052Z"
   },
   {
    "duration": 12,
    "start_time": "2022-11-28T20:35:59.066Z"
   },
   {
    "duration": 18,
    "start_time": "2022-11-28T20:35:59.080Z"
   },
   {
    "duration": 11,
    "start_time": "2022-11-28T20:35:59.100Z"
   },
   {
    "duration": 10,
    "start_time": "2022-11-28T20:35:59.113Z"
   },
   {
    "duration": 125,
    "start_time": "2022-11-28T20:35:59.124Z"
   },
   {
    "duration": 249,
    "start_time": "2022-11-28T20:35:59.251Z"
   },
   {
    "duration": 500,
    "start_time": "2022-11-28T20:35:59.502Z"
   },
   {
    "duration": 227,
    "start_time": "2022-11-28T20:36:00.005Z"
   },
   {
    "duration": 8,
    "start_time": "2022-11-28T20:36:00.233Z"
   },
   {
    "duration": 274,
    "start_time": "2022-11-28T20:36:00.242Z"
   },
   {
    "duration": 21,
    "start_time": "2022-11-28T20:36:00.518Z"
   },
   {
    "duration": 58,
    "start_time": "2022-11-28T20:36:00.541Z"
   },
   {
    "duration": 102,
    "start_time": "2022-11-28T20:36:00.604Z"
   },
   {
    "duration": 420,
    "start_time": "2022-11-28T20:36:00.709Z"
   },
   {
    "duration": 21,
    "start_time": "2022-11-28T20:36:01.131Z"
   },
   {
    "duration": 19,
    "start_time": "2022-11-28T20:36:01.153Z"
   },
   {
    "duration": 23,
    "start_time": "2022-11-28T20:36:01.174Z"
   },
   {
    "duration": 8,
    "start_time": "2022-11-28T20:36:01.199Z"
   },
   {
    "duration": 114,
    "start_time": "2022-11-28T20:36:57.919Z"
   },
   {
    "duration": 116,
    "start_time": "2022-11-28T20:46:56.444Z"
   },
   {
    "duration": 231,
    "start_time": "2022-11-28T20:58:31.205Z"
   },
   {
    "duration": 21,
    "start_time": "2022-11-28T20:58:33.747Z"
   },
   {
    "duration": 21,
    "start_time": "2022-11-28T20:58:35.315Z"
   },
   {
    "duration": 22,
    "start_time": "2022-11-28T20:58:37.379Z"
   },
   {
    "duration": 6,
    "start_time": "2022-11-28T20:58:39.514Z"
   },
   {
    "duration": 8,
    "start_time": "2022-11-28T20:58:41.469Z"
   },
   {
    "duration": 236,
    "start_time": "2022-11-28T21:00:40.299Z"
   },
   {
    "duration": 309,
    "start_time": "2022-11-28T21:00:47.076Z"
   },
   {
    "duration": 62,
    "start_time": "2022-11-28T21:01:43.601Z"
   },
   {
    "duration": 54,
    "start_time": "2022-11-28T21:02:01.442Z"
   },
   {
    "duration": 236,
    "start_time": "2022-11-28T21:02:31.985Z"
   },
   {
    "duration": 23,
    "start_time": "2022-11-28T21:02:37.961Z"
   },
   {
    "duration": 20,
    "start_time": "2022-11-28T21:02:39.274Z"
   },
   {
    "duration": 6,
    "start_time": "2022-11-28T21:02:40.658Z"
   },
   {
    "duration": 9,
    "start_time": "2022-11-28T21:02:42.962Z"
   },
   {
    "duration": 112,
    "start_time": "2022-11-28T21:07:26.247Z"
   },
   {
    "duration": 119,
    "start_time": "2022-11-28T21:10:54.406Z"
   },
   {
    "duration": 116,
    "start_time": "2022-11-28T21:11:10.519Z"
   },
   {
    "duration": 315,
    "start_time": "2022-11-28T21:18:47.547Z"
   },
   {
    "duration": 119,
    "start_time": "2022-11-28T21:18:58.868Z"
   },
   {
    "duration": 290,
    "start_time": "2022-11-28T21:21:00.811Z"
   },
   {
    "duration": 319,
    "start_time": "2022-11-28T21:21:15.548Z"
   },
   {
    "duration": 181,
    "start_time": "2022-11-28T21:22:04.611Z"
   },
   {
    "duration": 220,
    "start_time": "2022-11-28T21:22:07.363Z"
   },
   {
    "duration": 214,
    "start_time": "2022-11-28T21:22:21.204Z"
   },
   {
    "duration": 134,
    "start_time": "2022-11-28T21:22:35.445Z"
   },
   {
    "duration": 113,
    "start_time": "2022-11-28T21:23:32.555Z"
   },
   {
    "duration": 185,
    "start_time": "2022-11-28T21:23:57.417Z"
   },
   {
    "duration": 189,
    "start_time": "2022-11-28T21:24:49.417Z"
   },
   {
    "duration": 4,
    "start_time": "2022-11-28T21:26:55.976Z"
   },
   {
    "duration": 5,
    "start_time": "2022-11-28T21:27:00.384Z"
   },
   {
    "duration": 62,
    "start_time": "2022-11-28T21:53:39.902Z"
   },
   {
    "duration": 67,
    "start_time": "2022-11-28T21:53:55.679Z"
   },
   {
    "duration": 9,
    "start_time": "2022-11-28T21:54:32.885Z"
   },
   {
    "duration": 7,
    "start_time": "2022-11-28T21:55:45.647Z"
   },
   {
    "duration": 9,
    "start_time": "2022-11-28T21:55:48.144Z"
   },
   {
    "duration": 8,
    "start_time": "2022-11-28T21:55:50.517Z"
   },
   {
    "duration": 34,
    "start_time": "2022-11-28T21:57:24.349Z"
   },
   {
    "duration": 54,
    "start_time": "2022-11-28T22:01:53.919Z"
   },
   {
    "duration": 615,
    "start_time": "2022-11-28T22:01:54.991Z"
   },
   {
    "duration": 8,
    "start_time": "2022-11-28T22:01:56.666Z"
   },
   {
    "duration": 50,
    "start_time": "2022-11-28T22:01:57.692Z"
   },
   {
    "duration": 9,
    "start_time": "2022-11-28T22:02:26.387Z"
   },
   {
    "duration": 17,
    "start_time": "2022-11-28T22:02:37.382Z"
   },
   {
    "duration": 14,
    "start_time": "2022-11-28T22:03:44.371Z"
   },
   {
    "duration": 17,
    "start_time": "2022-11-28T22:03:51.114Z"
   },
   {
    "duration": 137,
    "start_time": "2022-11-28T22:04:01.282Z"
   },
   {
    "duration": 635,
    "start_time": "2022-11-28T22:04:35.346Z"
   },
   {
    "duration": 753,
    "start_time": "2022-11-28T22:04:39.837Z"
   },
   {
    "duration": 787,
    "start_time": "2022-11-28T22:04:49.636Z"
   },
   {
    "duration": 605,
    "start_time": "2022-11-28T22:04:57.131Z"
   },
   {
    "duration": 641,
    "start_time": "2022-11-28T22:04:59.746Z"
   },
   {
    "duration": 634,
    "start_time": "2022-11-28T22:05:03.634Z"
   },
   {
    "duration": 144,
    "start_time": "2022-11-28T22:05:13.258Z"
   },
   {
    "duration": 136,
    "start_time": "2022-11-28T22:05:15.969Z"
   },
   {
    "duration": 287,
    "start_time": "2022-11-28T22:05:35.443Z"
   },
   {
    "duration": 613,
    "start_time": "2022-11-28T22:06:07.834Z"
   },
   {
    "duration": 180,
    "start_time": "2022-11-28T22:10:39.672Z"
   },
   {
    "duration": 113,
    "start_time": "2022-11-28T22:10:56.120Z"
   },
   {
    "duration": 1445,
    "start_time": "2022-11-29T18:51:12.556Z"
   },
   {
    "duration": 162,
    "start_time": "2022-11-29T18:51:14.003Z"
   },
   {
    "duration": 19,
    "start_time": "2022-11-29T18:51:14.167Z"
   },
   {
    "duration": 15,
    "start_time": "2022-11-29T18:51:14.188Z"
   },
   {
    "duration": 36,
    "start_time": "2022-11-29T18:51:14.204Z"
   },
   {
    "duration": 10,
    "start_time": "2022-11-29T18:51:14.241Z"
   },
   {
    "duration": 3,
    "start_time": "2022-11-29T18:51:14.253Z"
   },
   {
    "duration": 12,
    "start_time": "2022-11-29T18:51:14.257Z"
   },
   {
    "duration": 14,
    "start_time": "2022-11-29T18:51:14.270Z"
   },
   {
    "duration": 19,
    "start_time": "2022-11-29T18:51:14.286Z"
   },
   {
    "duration": 20,
    "start_time": "2022-11-29T18:51:14.307Z"
   },
   {
    "duration": 4,
    "start_time": "2022-11-29T18:51:14.328Z"
   },
   {
    "duration": 9,
    "start_time": "2022-11-29T18:51:14.333Z"
   },
   {
    "duration": 6,
    "start_time": "2022-11-29T18:51:14.343Z"
   },
   {
    "duration": 5,
    "start_time": "2022-11-29T18:51:14.350Z"
   },
   {
    "duration": 16,
    "start_time": "2022-11-29T18:51:14.356Z"
   },
   {
    "duration": 2,
    "start_time": "2022-11-29T18:51:14.405Z"
   },
   {
    "duration": 16,
    "start_time": "2022-11-29T18:51:14.408Z"
   },
   {
    "duration": 24,
    "start_time": "2022-11-29T18:51:14.425Z"
   },
   {
    "duration": 15,
    "start_time": "2022-11-29T18:51:14.451Z"
   },
   {
    "duration": 14,
    "start_time": "2022-11-29T18:51:14.468Z"
   },
   {
    "duration": 23,
    "start_time": "2022-11-29T18:51:14.483Z"
   },
   {
    "duration": 298,
    "start_time": "2022-11-29T18:51:14.507Z"
   },
   {
    "duration": 9,
    "start_time": "2022-11-29T18:51:14.807Z"
   },
   {
    "duration": 133,
    "start_time": "2022-11-29T18:51:14.905Z"
   },
   {
    "duration": 3,
    "start_time": "2022-11-29T18:51:15.039Z"
   },
   {
    "duration": 14,
    "start_time": "2022-11-29T18:51:15.043Z"
   },
   {
    "duration": 750,
    "start_time": "2022-11-29T18:51:15.060Z"
   },
   {
    "duration": 762,
    "start_time": "2022-11-29T18:51:15.813Z"
   },
   {
    "duration": 7,
    "start_time": "2022-11-29T18:51:16.576Z"
   },
   {
    "duration": 63,
    "start_time": "2022-11-29T18:51:16.585Z"
   },
   {
    "duration": 34,
    "start_time": "2022-11-29T18:51:16.650Z"
   },
   {
    "duration": 23,
    "start_time": "2022-11-29T18:51:16.685Z"
   },
   {
    "duration": 8,
    "start_time": "2022-11-29T18:51:16.709Z"
   },
   {
    "duration": 87,
    "start_time": "2022-11-29T18:51:16.718Z"
   },
   {
    "duration": 98,
    "start_time": "2022-11-29T18:51:16.807Z"
   },
   {
    "duration": 11,
    "start_time": "2022-11-29T18:51:16.907Z"
   },
   {
    "duration": 91,
    "start_time": "2022-11-29T18:51:16.920Z"
   },
   {
    "duration": 214,
    "start_time": "2022-11-29T18:51:17.016Z"
   },
   {
    "duration": 5,
    "start_time": "2022-11-29T18:51:17.232Z"
   },
   {
    "duration": 7,
    "start_time": "2022-11-29T18:51:17.239Z"
   },
   {
    "duration": 13,
    "start_time": "2022-11-29T18:51:17.247Z"
   },
   {
    "duration": 16,
    "start_time": "2022-11-29T18:51:17.262Z"
   },
   {
    "duration": 28,
    "start_time": "2022-11-29T18:51:17.280Z"
   },
   {
    "duration": 13,
    "start_time": "2022-11-29T18:51:17.309Z"
   },
   {
    "duration": 12,
    "start_time": "2022-11-29T18:51:17.324Z"
   },
   {
    "duration": 171,
    "start_time": "2022-11-29T18:51:17.339Z"
   },
   {
    "duration": 293,
    "start_time": "2022-11-29T18:51:17.513Z"
   },
   {
    "duration": 498,
    "start_time": "2022-11-29T18:51:17.807Z"
   },
   {
    "duration": 133,
    "start_time": "2022-11-29T18:51:18.307Z"
   },
   {
    "duration": 8,
    "start_time": "2022-11-29T18:51:18.442Z"
   },
   {
    "duration": 280,
    "start_time": "2022-11-29T18:51:18.451Z"
   },
   {
    "duration": 19,
    "start_time": "2022-11-29T18:51:18.732Z"
   },
   {
    "duration": 58,
    "start_time": "2022-11-29T18:51:18.753Z"
   },
   {
    "duration": 200,
    "start_time": "2022-11-29T18:51:18.814Z"
   },
   {
    "duration": 440,
    "start_time": "2022-11-29T18:51:19.016Z"
   },
   {
    "duration": 21,
    "start_time": "2022-11-29T18:51:19.457Z"
   },
   {
    "duration": 28,
    "start_time": "2022-11-29T18:51:19.479Z"
   },
   {
    "duration": 5,
    "start_time": "2022-11-29T18:51:19.508Z"
   },
   {
    "duration": 46,
    "start_time": "2022-11-29T18:51:19.514Z"
   },
   {
    "duration": 1317,
    "start_time": "2022-11-29T19:07:34.180Z"
   },
   {
    "duration": 103,
    "start_time": "2022-11-29T19:07:35.499Z"
   },
   {
    "duration": 22,
    "start_time": "2022-11-29T19:07:35.604Z"
   },
   {
    "duration": 20,
    "start_time": "2022-11-29T19:07:35.628Z"
   },
   {
    "duration": 37,
    "start_time": "2022-11-29T19:07:35.650Z"
   },
   {
    "duration": 25,
    "start_time": "2022-11-29T19:07:35.689Z"
   },
   {
    "duration": 7,
    "start_time": "2022-11-29T19:07:35.715Z"
   },
   {
    "duration": 9,
    "start_time": "2022-11-29T19:07:35.724Z"
   },
   {
    "duration": 39,
    "start_time": "2022-11-29T19:07:35.735Z"
   },
   {
    "duration": 9,
    "start_time": "2022-11-29T19:07:35.776Z"
   },
   {
    "duration": 30,
    "start_time": "2022-11-29T19:07:35.786Z"
   },
   {
    "duration": 3,
    "start_time": "2022-11-29T19:07:35.818Z"
   },
   {
    "duration": 16,
    "start_time": "2022-11-29T19:07:35.822Z"
   },
   {
    "duration": 12,
    "start_time": "2022-11-29T19:07:35.840Z"
   },
   {
    "duration": 20,
    "start_time": "2022-11-29T19:07:35.854Z"
   },
   {
    "duration": 24,
    "start_time": "2022-11-29T19:07:35.876Z"
   },
   {
    "duration": 9,
    "start_time": "2022-11-29T19:07:35.901Z"
   },
   {
    "duration": 18,
    "start_time": "2022-11-29T19:07:35.912Z"
   },
   {
    "duration": 22,
    "start_time": "2022-11-29T19:07:35.931Z"
   },
   {
    "duration": 18,
    "start_time": "2022-11-29T19:07:35.955Z"
   },
   {
    "duration": 30,
    "start_time": "2022-11-29T19:07:35.975Z"
   },
   {
    "duration": 4,
    "start_time": "2022-11-29T19:07:36.007Z"
   },
   {
    "duration": 402,
    "start_time": "2022-11-29T19:07:36.013Z"
   },
   {
    "duration": 92,
    "start_time": "2022-11-29T19:07:36.419Z"
   },
   {
    "duration": 143,
    "start_time": "2022-11-29T19:07:36.512Z"
   },
   {
    "duration": 3,
    "start_time": "2022-11-29T19:07:36.657Z"
   },
   {
    "duration": 17,
    "start_time": "2022-11-29T19:07:36.662Z"
   },
   {
    "duration": 823,
    "start_time": "2022-11-29T19:07:36.683Z"
   },
   {
    "duration": 869,
    "start_time": "2022-11-29T19:07:37.509Z"
   },
   {
    "duration": 8,
    "start_time": "2022-11-29T19:07:38.380Z"
   },
   {
    "duration": 103,
    "start_time": "2022-11-29T19:07:38.390Z"
   },
   {
    "duration": 50,
    "start_time": "2022-11-29T19:07:38.495Z"
   },
   {
    "duration": 9,
    "start_time": "2022-11-29T19:07:38.547Z"
   },
   {
    "duration": 25,
    "start_time": "2022-11-29T19:07:38.558Z"
   },
   {
    "duration": 133,
    "start_time": "2022-11-29T19:07:38.584Z"
   },
   {
    "duration": 91,
    "start_time": "2022-11-29T19:07:38.722Z"
   },
   {
    "duration": 87,
    "start_time": "2022-11-29T19:07:38.821Z"
   },
   {
    "duration": 115,
    "start_time": "2022-11-29T19:07:38.911Z"
   },
   {
    "duration": 154,
    "start_time": "2022-11-29T19:07:39.028Z"
   },
   {
    "duration": 7,
    "start_time": "2022-11-29T19:07:39.184Z"
   },
   {
    "duration": 141,
    "start_time": "2022-11-29T19:07:39.192Z"
   },
   {
    "duration": 0,
    "start_time": "2022-11-29T19:07:39.335Z"
   },
   {
    "duration": 0,
    "start_time": "2022-11-29T19:07:39.336Z"
   },
   {
    "duration": 0,
    "start_time": "2022-11-29T19:07:39.337Z"
   },
   {
    "duration": 0,
    "start_time": "2022-11-29T19:07:39.338Z"
   },
   {
    "duration": 0,
    "start_time": "2022-11-29T19:07:39.339Z"
   },
   {
    "duration": 0,
    "start_time": "2022-11-29T19:07:39.340Z"
   },
   {
    "duration": 0,
    "start_time": "2022-11-29T19:07:39.341Z"
   },
   {
    "duration": 0,
    "start_time": "2022-11-29T19:07:39.342Z"
   },
   {
    "duration": 0,
    "start_time": "2022-11-29T19:07:39.343Z"
   },
   {
    "duration": 0,
    "start_time": "2022-11-29T19:07:39.345Z"
   },
   {
    "duration": 0,
    "start_time": "2022-11-29T19:07:39.346Z"
   },
   {
    "duration": 0,
    "start_time": "2022-11-29T19:07:39.347Z"
   },
   {
    "duration": 0,
    "start_time": "2022-11-29T19:07:39.348Z"
   },
   {
    "duration": 0,
    "start_time": "2022-11-29T19:07:39.349Z"
   },
   {
    "duration": 0,
    "start_time": "2022-11-29T19:07:39.350Z"
   },
   {
    "duration": 0,
    "start_time": "2022-11-29T19:07:39.351Z"
   },
   {
    "duration": 0,
    "start_time": "2022-11-29T19:07:39.352Z"
   },
   {
    "duration": 0,
    "start_time": "2022-11-29T19:07:39.353Z"
   },
   {
    "duration": 1311,
    "start_time": "2022-11-29T19:08:44.023Z"
   },
   {
    "duration": 40,
    "start_time": "2022-11-29T19:08:45.336Z"
   },
   {
    "duration": 16,
    "start_time": "2022-11-29T19:08:45.378Z"
   },
   {
    "duration": 19,
    "start_time": "2022-11-29T19:08:45.396Z"
   },
   {
    "duration": 49,
    "start_time": "2022-11-29T19:08:45.417Z"
   },
   {
    "duration": 11,
    "start_time": "2022-11-29T19:08:45.467Z"
   },
   {
    "duration": 3,
    "start_time": "2022-11-29T19:08:45.480Z"
   },
   {
    "duration": 9,
    "start_time": "2022-11-29T19:08:45.485Z"
   },
   {
    "duration": 19,
    "start_time": "2022-11-29T19:08:45.496Z"
   },
   {
    "duration": 10,
    "start_time": "2022-11-29T19:08:45.518Z"
   },
   {
    "duration": 18,
    "start_time": "2022-11-29T19:08:45.529Z"
   },
   {
    "duration": 4,
    "start_time": "2022-11-29T19:08:45.548Z"
   },
   {
    "duration": 7,
    "start_time": "2022-11-29T19:08:45.554Z"
   },
   {
    "duration": 7,
    "start_time": "2022-11-29T19:08:45.563Z"
   },
   {
    "duration": 8,
    "start_time": "2022-11-29T19:08:45.572Z"
   },
   {
    "duration": 32,
    "start_time": "2022-11-29T19:08:45.581Z"
   },
   {
    "duration": 7,
    "start_time": "2022-11-29T19:08:45.615Z"
   },
   {
    "duration": 12,
    "start_time": "2022-11-29T19:08:45.624Z"
   },
   {
    "duration": 35,
    "start_time": "2022-11-29T19:08:45.637Z"
   },
   {
    "duration": 21,
    "start_time": "2022-11-29T19:08:45.673Z"
   },
   {
    "duration": 22,
    "start_time": "2022-11-29T19:08:45.696Z"
   },
   {
    "duration": 4,
    "start_time": "2022-11-29T19:08:45.719Z"
   },
   {
    "duration": 285,
    "start_time": "2022-11-29T19:08:45.724Z"
   },
   {
    "duration": 94,
    "start_time": "2022-11-29T19:08:46.012Z"
   },
   {
    "duration": 155,
    "start_time": "2022-11-29T19:08:46.108Z"
   },
   {
    "duration": 3,
    "start_time": "2022-11-29T19:08:46.265Z"
   },
   {
    "duration": 12,
    "start_time": "2022-11-29T19:08:46.271Z"
   },
   {
    "duration": 821,
    "start_time": "2022-11-29T19:08:46.288Z"
   },
   {
    "duration": 829,
    "start_time": "2022-11-29T19:08:47.112Z"
   },
   {
    "duration": 8,
    "start_time": "2022-11-29T19:08:47.943Z"
   },
   {
    "duration": 68,
    "start_time": "2022-11-29T19:08:47.953Z"
   },
   {
    "duration": 37,
    "start_time": "2022-11-29T19:08:48.022Z"
   },
   {
    "duration": 8,
    "start_time": "2022-11-29T19:08:48.061Z"
   },
   {
    "duration": 39,
    "start_time": "2022-11-29T19:08:48.071Z"
   },
   {
    "duration": 92,
    "start_time": "2022-11-29T19:08:48.112Z"
   },
   {
    "duration": 12,
    "start_time": "2022-11-29T19:08:48.206Z"
   },
   {
    "duration": 17,
    "start_time": "2022-11-29T19:08:48.304Z"
   },
   {
    "duration": 190,
    "start_time": "2022-11-29T19:08:48.323Z"
   },
   {
    "duration": 142,
    "start_time": "2022-11-29T19:08:48.515Z"
   },
   {
    "duration": 5,
    "start_time": "2022-11-29T19:08:48.658Z"
   },
   {
    "duration": 14,
    "start_time": "2022-11-29T19:08:48.664Z"
   },
   {
    "duration": 19,
    "start_time": "2022-11-29T19:08:48.680Z"
   },
   {
    "duration": 14,
    "start_time": "2022-11-29T19:08:48.701Z"
   },
   {
    "duration": 8,
    "start_time": "2022-11-29T19:08:48.717Z"
   },
   {
    "duration": 14,
    "start_time": "2022-11-29T19:08:48.726Z"
   },
   {
    "duration": 10,
    "start_time": "2022-11-29T19:08:48.742Z"
   },
   {
    "duration": 135,
    "start_time": "2022-11-29T19:08:48.754Z"
   },
   {
    "duration": 321,
    "start_time": "2022-11-29T19:08:48.891Z"
   },
   {
    "duration": 410,
    "start_time": "2022-11-29T19:08:49.213Z"
   },
   {
    "duration": 209,
    "start_time": "2022-11-29T19:08:49.625Z"
   },
   {
    "duration": 8,
    "start_time": "2022-11-29T19:08:49.836Z"
   },
   {
    "duration": 284,
    "start_time": "2022-11-29T19:08:49.845Z"
   },
   {
    "duration": 27,
    "start_time": "2022-11-29T19:08:50.131Z"
   },
   {
    "duration": 146,
    "start_time": "2022-11-29T19:08:50.160Z"
   },
   {
    "duration": 96,
    "start_time": "2022-11-29T19:08:50.310Z"
   },
   {
    "duration": 134,
    "start_time": "2022-11-29T19:08:50.408Z"
   },
   {
    "duration": 0,
    "start_time": "2022-11-29T19:08:50.543Z"
   },
   {
    "duration": 0,
    "start_time": "2022-11-29T19:08:50.545Z"
   },
   {
    "duration": 0,
    "start_time": "2022-11-29T19:08:50.546Z"
   },
   {
    "duration": 0,
    "start_time": "2022-11-29T19:08:50.547Z"
   },
   {
    "duration": 253,
    "start_time": "2022-11-29T19:10:27.972Z"
   },
   {
    "duration": 26,
    "start_time": "2022-11-29T19:10:30.211Z"
   },
   {
    "duration": 21,
    "start_time": "2022-11-29T19:10:31.803Z"
   },
   {
    "duration": 5,
    "start_time": "2022-11-29T19:10:32.684Z"
   },
   {
    "duration": 8,
    "start_time": "2022-11-29T19:10:34.077Z"
   },
   {
    "duration": 14,
    "start_time": "2022-11-29T19:15:51.802Z"
   },
   {
    "duration": 127,
    "start_time": "2022-11-29T19:25:39.279Z"
   },
   {
    "duration": 195,
    "start_time": "2022-11-29T19:26:27.154Z"
   },
   {
    "duration": 145,
    "start_time": "2022-11-29T19:26:28.678Z"
   },
   {
    "duration": 81,
    "start_time": "2022-11-29T19:29:55.872Z"
   },
   {
    "duration": 70,
    "start_time": "2022-11-29T19:29:58.125Z"
   },
   {
    "duration": 691,
    "start_time": "2022-11-29T19:32:16.878Z"
   },
   {
    "duration": 162,
    "start_time": "2022-11-29T19:35:03.284Z"
   },
   {
    "duration": 51,
    "start_time": "2022-11-29T19:35:39.484Z"
   },
   {
    "duration": 49,
    "start_time": "2022-11-29T19:35:55.892Z"
   },
   {
    "duration": 38,
    "start_time": "2022-11-29T19:36:05.020Z"
   },
   {
    "duration": 23,
    "start_time": "2022-11-29T19:36:10.132Z"
   },
   {
    "duration": 26,
    "start_time": "2022-11-29T19:36:42.277Z"
   },
   {
    "duration": 18,
    "start_time": "2022-11-29T19:37:24.412Z"
   },
   {
    "duration": 12,
    "start_time": "2022-11-29T19:37:42.026Z"
   },
   {
    "duration": 10,
    "start_time": "2022-11-29T19:39:49.394Z"
   },
   {
    "duration": 194,
    "start_time": "2022-11-29T19:40:04.315Z"
   },
   {
    "duration": 85,
    "start_time": "2022-11-29T19:41:05.811Z"
   },
   {
    "duration": 10244,
    "start_time": "2022-11-29T19:42:29.394Z"
   },
   {
    "duration": 26,
    "start_time": "2022-11-29T19:45:33.281Z"
   },
   {
    "duration": 30,
    "start_time": "2022-11-29T19:45:37.816Z"
   },
   {
    "duration": 21,
    "start_time": "2022-11-29T19:45:49.911Z"
   },
   {
    "duration": 223,
    "start_time": "2022-11-29T19:45:50.688Z"
   },
   {
    "duration": 700,
    "start_time": "2022-11-29T19:45:57.121Z"
   },
   {
    "duration": 302,
    "start_time": "2022-11-29T19:45:58.687Z"
   },
   {
    "duration": 22,
    "start_time": "2022-11-29T19:46:08.056Z"
   },
   {
    "duration": 279,
    "start_time": "2022-11-29T19:46:17.682Z"
   },
   {
    "duration": 1406,
    "start_time": "2022-11-29T19:46:26.789Z"
   },
   {
    "duration": 47,
    "start_time": "2022-11-29T19:46:28.197Z"
   },
   {
    "duration": 19,
    "start_time": "2022-11-29T19:46:28.249Z"
   },
   {
    "duration": 13,
    "start_time": "2022-11-29T19:46:28.270Z"
   },
   {
    "duration": 37,
    "start_time": "2022-11-29T19:46:28.285Z"
   },
   {
    "duration": 14,
    "start_time": "2022-11-29T19:46:28.324Z"
   },
   {
    "duration": 4,
    "start_time": "2022-11-29T19:46:28.339Z"
   },
   {
    "duration": 9,
    "start_time": "2022-11-29T19:46:28.344Z"
   },
   {
    "duration": 16,
    "start_time": "2022-11-29T19:46:28.355Z"
   },
   {
    "duration": 7,
    "start_time": "2022-11-29T19:46:28.372Z"
   },
   {
    "duration": 24,
    "start_time": "2022-11-29T19:46:28.404Z"
   },
   {
    "duration": 5,
    "start_time": "2022-11-29T19:46:28.430Z"
   },
   {
    "duration": 11,
    "start_time": "2022-11-29T19:46:28.436Z"
   },
   {
    "duration": 8,
    "start_time": "2022-11-29T19:46:28.449Z"
   },
   {
    "duration": 8,
    "start_time": "2022-11-29T19:46:28.459Z"
   },
   {
    "duration": 75,
    "start_time": "2022-11-29T19:46:28.469Z"
   },
   {
    "duration": 6,
    "start_time": "2022-11-29T19:46:28.545Z"
   },
   {
    "duration": 15,
    "start_time": "2022-11-29T19:46:28.553Z"
   },
   {
    "duration": 23,
    "start_time": "2022-11-29T19:46:28.569Z"
   },
   {
    "duration": 18,
    "start_time": "2022-11-29T19:46:28.594Z"
   },
   {
    "duration": 17,
    "start_time": "2022-11-29T19:46:28.614Z"
   },
   {
    "duration": 5,
    "start_time": "2022-11-29T19:46:28.633Z"
   },
   {
    "duration": 379,
    "start_time": "2022-11-29T19:46:28.639Z"
   },
   {
    "duration": 89,
    "start_time": "2022-11-29T19:46:29.020Z"
   },
   {
    "duration": 146,
    "start_time": "2022-11-29T19:46:29.111Z"
   },
   {
    "duration": 3,
    "start_time": "2022-11-29T19:46:29.259Z"
   },
   {
    "duration": 5,
    "start_time": "2022-11-29T19:46:29.266Z"
   },
   {
    "duration": 833,
    "start_time": "2022-11-29T19:46:29.272Z"
   },
   {
    "duration": 714,
    "start_time": "2022-11-29T19:46:30.107Z"
   },
   {
    "duration": 325,
    "start_time": "2022-11-29T19:46:30.823Z"
   },
   {
    "duration": 0,
    "start_time": "2022-11-29T19:46:31.149Z"
   },
   {
    "duration": 0,
    "start_time": "2022-11-29T19:46:31.150Z"
   },
   {
    "duration": 0,
    "start_time": "2022-11-29T19:46:31.151Z"
   },
   {
    "duration": 0,
    "start_time": "2022-11-29T19:46:31.152Z"
   },
   {
    "duration": 0,
    "start_time": "2022-11-29T19:46:31.153Z"
   },
   {
    "duration": 0,
    "start_time": "2022-11-29T19:46:31.154Z"
   },
   {
    "duration": 0,
    "start_time": "2022-11-29T19:46:31.155Z"
   },
   {
    "duration": 0,
    "start_time": "2022-11-29T19:46:31.156Z"
   },
   {
    "duration": 0,
    "start_time": "2022-11-29T19:46:31.157Z"
   },
   {
    "duration": 0,
    "start_time": "2022-11-29T19:46:31.159Z"
   },
   {
    "duration": 0,
    "start_time": "2022-11-29T19:46:31.159Z"
   },
   {
    "duration": 0,
    "start_time": "2022-11-29T19:46:31.161Z"
   },
   {
    "duration": 0,
    "start_time": "2022-11-29T19:46:31.162Z"
   },
   {
    "duration": 0,
    "start_time": "2022-11-29T19:46:31.163Z"
   },
   {
    "duration": 0,
    "start_time": "2022-11-29T19:46:31.164Z"
   },
   {
    "duration": 0,
    "start_time": "2022-11-29T19:46:31.165Z"
   },
   {
    "duration": 0,
    "start_time": "2022-11-29T19:46:31.166Z"
   },
   {
    "duration": 0,
    "start_time": "2022-11-29T19:46:31.168Z"
   },
   {
    "duration": 0,
    "start_time": "2022-11-29T19:46:31.168Z"
   },
   {
    "duration": 0,
    "start_time": "2022-11-29T19:46:31.169Z"
   },
   {
    "duration": 0,
    "start_time": "2022-11-29T19:46:31.204Z"
   },
   {
    "duration": 0,
    "start_time": "2022-11-29T19:46:31.206Z"
   },
   {
    "duration": 0,
    "start_time": "2022-11-29T19:46:31.207Z"
   },
   {
    "duration": 0,
    "start_time": "2022-11-29T19:46:31.208Z"
   },
   {
    "duration": 0,
    "start_time": "2022-11-29T19:46:31.210Z"
   },
   {
    "duration": 0,
    "start_time": "2022-11-29T19:46:31.211Z"
   },
   {
    "duration": 0,
    "start_time": "2022-11-29T19:46:31.213Z"
   },
   {
    "duration": 0,
    "start_time": "2022-11-29T19:46:31.214Z"
   },
   {
    "duration": 0,
    "start_time": "2022-11-29T19:46:31.215Z"
   },
   {
    "duration": 0,
    "start_time": "2022-11-29T19:46:31.217Z"
   },
   {
    "duration": 0,
    "start_time": "2022-11-29T19:46:31.218Z"
   },
   {
    "duration": 0,
    "start_time": "2022-11-29T19:46:31.219Z"
   },
   {
    "duration": 0,
    "start_time": "2022-11-29T19:46:31.219Z"
   },
   {
    "duration": 0,
    "start_time": "2022-11-29T19:46:31.221Z"
   },
   {
    "duration": 189,
    "start_time": "2022-11-29T19:47:07.285Z"
   },
   {
    "duration": 300,
    "start_time": "2022-11-29T19:47:48.192Z"
   },
   {
    "duration": 73,
    "start_time": "2022-11-29T19:48:26.559Z"
   },
   {
    "duration": 233,
    "start_time": "2022-11-29T19:48:32.654Z"
   },
   {
    "duration": 121,
    "start_time": "2022-11-29T19:49:05.141Z"
   },
   {
    "duration": 4822,
    "start_time": "2022-11-29T19:49:11.416Z"
   },
   {
    "duration": 3995,
    "start_time": "2022-11-29T19:51:27.469Z"
   },
   {
    "duration": 5,
    "start_time": "2022-11-29T20:02:28.890Z"
   },
   {
    "duration": 49,
    "start_time": "2022-11-29T20:02:28.897Z"
   },
   {
    "duration": 13,
    "start_time": "2022-11-29T20:02:28.948Z"
   },
   {
    "duration": 16,
    "start_time": "2022-11-29T20:02:28.962Z"
   },
   {
    "duration": 47,
    "start_time": "2022-11-29T20:02:28.980Z"
   },
   {
    "duration": 10,
    "start_time": "2022-11-29T20:02:29.029Z"
   },
   {
    "duration": 23,
    "start_time": "2022-11-29T20:02:29.041Z"
   },
   {
    "duration": 9,
    "start_time": "2022-11-29T20:02:29.066Z"
   },
   {
    "duration": 43,
    "start_time": "2022-11-29T20:02:29.077Z"
   },
   {
    "duration": 4,
    "start_time": "2022-11-29T20:02:29.121Z"
   },
   {
    "duration": 26,
    "start_time": "2022-11-29T20:02:29.128Z"
   },
   {
    "duration": 4,
    "start_time": "2022-11-29T20:02:29.156Z"
   },
   {
    "duration": 11,
    "start_time": "2022-11-29T20:02:29.162Z"
   },
   {
    "duration": 36,
    "start_time": "2022-11-29T20:02:29.175Z"
   },
   {
    "duration": 8,
    "start_time": "2022-11-29T20:02:29.212Z"
   },
   {
    "duration": 16,
    "start_time": "2022-11-29T20:02:29.222Z"
   },
   {
    "duration": 6,
    "start_time": "2022-11-29T20:02:29.240Z"
   },
   {
    "duration": 10,
    "start_time": "2022-11-29T20:02:29.248Z"
   },
   {
    "duration": 55,
    "start_time": "2022-11-29T20:02:29.260Z"
   },
   {
    "duration": 24,
    "start_time": "2022-11-29T20:02:29.317Z"
   },
   {
    "duration": 23,
    "start_time": "2022-11-29T20:02:29.344Z"
   },
   {
    "duration": 6,
    "start_time": "2022-11-29T20:02:29.368Z"
   },
   {
    "duration": 269,
    "start_time": "2022-11-29T20:02:29.375Z"
   },
   {
    "duration": 64,
    "start_time": "2022-11-29T20:02:29.648Z"
   },
   {
    "duration": 202,
    "start_time": "2022-11-29T20:02:29.714Z"
   },
   {
    "duration": 3,
    "start_time": "2022-11-29T20:02:29.917Z"
   },
   {
    "duration": 36,
    "start_time": "2022-11-29T20:02:29.922Z"
   },
   {
    "duration": 846,
    "start_time": "2022-11-29T20:02:29.959Z"
   },
   {
    "duration": 748,
    "start_time": "2022-11-29T20:02:30.813Z"
   },
   {
    "duration": 4772,
    "start_time": "2022-11-29T20:02:31.563Z"
   },
   {
    "duration": 3748,
    "start_time": "2022-11-29T20:02:36.337Z"
   },
   {
    "duration": 18,
    "start_time": "2022-11-29T20:02:40.087Z"
   },
   {
    "duration": 51,
    "start_time": "2022-11-29T20:02:40.107Z"
   },
   {
    "duration": 49,
    "start_time": "2022-11-29T20:02:40.159Z"
   },
   {
    "duration": 149,
    "start_time": "2022-11-29T20:02:40.210Z"
   },
   {
    "duration": 9,
    "start_time": "2022-11-29T20:02:40.361Z"
   },
   {
    "duration": 31,
    "start_time": "2022-11-29T20:02:40.372Z"
   },
   {
    "duration": 89,
    "start_time": "2022-11-29T20:02:40.405Z"
   },
   {
    "duration": 117,
    "start_time": "2022-11-29T20:02:40.506Z"
   },
   {
    "duration": 86,
    "start_time": "2022-11-29T20:02:40.624Z"
   },
   {
    "duration": 113,
    "start_time": "2022-11-29T20:02:40.712Z"
   },
   {
    "duration": 193,
    "start_time": "2022-11-29T20:02:40.826Z"
   },
   {
    "duration": 209,
    "start_time": "2022-11-29T20:02:41.021Z"
   },
   {
    "duration": 127,
    "start_time": "2022-11-29T20:02:41.232Z"
   },
   {
    "duration": 5,
    "start_time": "2022-11-29T20:02:41.360Z"
   },
   {
    "duration": 72,
    "start_time": "2022-11-29T20:02:41.366Z"
   },
   {
    "duration": 62,
    "start_time": "2022-11-29T20:02:41.439Z"
   },
   {
    "duration": 60,
    "start_time": "2022-11-29T20:02:41.503Z"
   },
   {
    "duration": 44,
    "start_time": "2022-11-29T20:02:41.565Z"
   },
   {
    "duration": 75,
    "start_time": "2022-11-29T20:02:41.611Z"
   },
   {
    "duration": 29,
    "start_time": "2022-11-29T20:02:41.688Z"
   },
   {
    "duration": 172,
    "start_time": "2022-11-29T20:02:41.719Z"
   },
   {
    "duration": 311,
    "start_time": "2022-11-29T20:02:41.893Z"
   },
   {
    "duration": 425,
    "start_time": "2022-11-29T20:02:42.206Z"
   },
   {
    "duration": 131,
    "start_time": "2022-11-29T20:02:42.710Z"
   },
   {
    "duration": 8,
    "start_time": "2022-11-29T20:02:42.842Z"
   },
   {
    "duration": 285,
    "start_time": "2022-11-29T20:02:42.851Z"
   },
   {
    "duration": 25,
    "start_time": "2022-11-29T20:02:43.138Z"
   },
   {
    "duration": 146,
    "start_time": "2022-11-29T20:02:43.165Z"
   },
   {
    "duration": 98,
    "start_time": "2022-11-29T20:02:43.313Z"
   },
   {
    "duration": 446,
    "start_time": "2022-11-29T20:02:43.414Z"
   },
   {
    "duration": 24,
    "start_time": "2022-11-29T20:02:43.862Z"
   },
   {
    "duration": 38,
    "start_time": "2022-11-29T20:02:43.887Z"
   },
   {
    "duration": 8,
    "start_time": "2022-11-29T20:02:43.926Z"
   },
   {
    "duration": 22,
    "start_time": "2022-11-29T20:02:43.936Z"
   },
   {
    "duration": 1355,
    "start_time": "2022-11-29T20:02:46.343Z"
   },
   {
    "duration": 41,
    "start_time": "2022-11-29T20:02:47.700Z"
   },
   {
    "duration": 23,
    "start_time": "2022-11-29T20:02:47.743Z"
   },
   {
    "duration": 25,
    "start_time": "2022-11-29T20:02:47.769Z"
   },
   {
    "duration": 56,
    "start_time": "2022-11-29T20:02:47.795Z"
   },
   {
    "duration": 15,
    "start_time": "2022-11-29T20:02:47.852Z"
   },
   {
    "duration": 4,
    "start_time": "2022-11-29T20:02:47.869Z"
   },
   {
    "duration": 12,
    "start_time": "2022-11-29T20:02:47.874Z"
   },
   {
    "duration": 27,
    "start_time": "2022-11-29T20:02:47.905Z"
   },
   {
    "duration": 29,
    "start_time": "2022-11-29T20:02:47.935Z"
   },
   {
    "duration": 41,
    "start_time": "2022-11-29T20:02:47.966Z"
   },
   {
    "duration": 26,
    "start_time": "2022-11-29T20:02:48.009Z"
   },
   {
    "duration": 12,
    "start_time": "2022-11-29T20:02:48.037Z"
   },
   {
    "duration": 16,
    "start_time": "2022-11-29T20:02:48.050Z"
   },
   {
    "duration": 12,
    "start_time": "2022-11-29T20:02:48.067Z"
   },
   {
    "duration": 17,
    "start_time": "2022-11-29T20:02:48.080Z"
   },
   {
    "duration": 14,
    "start_time": "2022-11-29T20:02:48.099Z"
   },
   {
    "duration": 22,
    "start_time": "2022-11-29T20:02:48.115Z"
   },
   {
    "duration": 38,
    "start_time": "2022-11-29T20:02:48.138Z"
   },
   {
    "duration": 28,
    "start_time": "2022-11-29T20:02:48.178Z"
   },
   {
    "duration": 19,
    "start_time": "2022-11-29T20:02:48.208Z"
   },
   {
    "duration": 4,
    "start_time": "2022-11-29T20:02:48.228Z"
   },
   {
    "duration": 289,
    "start_time": "2022-11-29T20:02:48.234Z"
   },
   {
    "duration": 102,
    "start_time": "2022-11-29T20:02:48.604Z"
   },
   {
    "duration": 150,
    "start_time": "2022-11-29T20:02:48.708Z"
   },
   {
    "duration": 4,
    "start_time": "2022-11-29T20:02:48.861Z"
   },
   {
    "duration": 16,
    "start_time": "2022-11-29T20:02:48.867Z"
   },
   {
    "duration": 819,
    "start_time": "2022-11-29T20:02:48.889Z"
   },
   {
    "duration": 787,
    "start_time": "2022-11-29T20:02:49.711Z"
   },
   {
    "duration": 4762,
    "start_time": "2022-11-29T20:02:50.504Z"
   },
   {
    "duration": 3809,
    "start_time": "2022-11-29T20:02:55.267Z"
   },
   {
    "duration": 9,
    "start_time": "2022-11-29T20:02:59.078Z"
   },
   {
    "duration": 47,
    "start_time": "2022-11-29T20:02:59.089Z"
   },
   {
    "duration": 34,
    "start_time": "2022-11-29T20:02:59.138Z"
   },
   {
    "duration": 156,
    "start_time": "2022-11-29T20:02:59.174Z"
   },
   {
    "duration": 8,
    "start_time": "2022-11-29T20:02:59.332Z"
   },
   {
    "duration": 28,
    "start_time": "2022-11-29T20:02:59.342Z"
   },
   {
    "duration": 135,
    "start_time": "2022-11-29T20:02:59.372Z"
   },
   {
    "duration": 103,
    "start_time": "2022-11-29T20:02:59.510Z"
   },
   {
    "duration": 19,
    "start_time": "2022-11-29T20:02:59.615Z"
   },
   {
    "duration": 83,
    "start_time": "2022-11-29T20:02:59.636Z"
   },
   {
    "duration": 154,
    "start_time": "2022-11-29T20:02:59.805Z"
   },
   {
    "duration": 129,
    "start_time": "2022-11-29T20:02:59.960Z"
   },
   {
    "duration": 207,
    "start_time": "2022-11-29T20:03:00.090Z"
   },
   {
    "duration": 10,
    "start_time": "2022-11-29T20:03:00.298Z"
   },
   {
    "duration": 31,
    "start_time": "2022-11-29T20:03:00.310Z"
   },
   {
    "duration": 42,
    "start_time": "2022-11-29T20:03:00.343Z"
   },
   {
    "duration": 34,
    "start_time": "2022-11-29T20:03:00.387Z"
   },
   {
    "duration": 40,
    "start_time": "2022-11-29T20:03:00.422Z"
   },
   {
    "duration": 35,
    "start_time": "2022-11-29T20:03:00.463Z"
   },
   {
    "duration": 38,
    "start_time": "2022-11-29T20:03:00.499Z"
   },
   {
    "duration": 167,
    "start_time": "2022-11-29T20:03:00.539Z"
   },
   {
    "duration": 301,
    "start_time": "2022-11-29T20:03:00.708Z"
   },
   {
    "duration": 497,
    "start_time": "2022-11-29T20:03:01.011Z"
   },
   {
    "duration": 129,
    "start_time": "2022-11-29T20:03:01.510Z"
   },
   {
    "duration": 9,
    "start_time": "2022-11-29T20:03:01.641Z"
   },
   {
    "duration": 314,
    "start_time": "2022-11-29T20:03:01.652Z"
   },
   {
    "duration": 23,
    "start_time": "2022-11-29T20:03:01.968Z"
   },
   {
    "duration": 118,
    "start_time": "2022-11-29T20:03:01.992Z"
   },
   {
    "duration": 99,
    "start_time": "2022-11-29T20:03:02.112Z"
   },
   {
    "duration": 372,
    "start_time": "2022-11-29T20:03:02.213Z"
   },
   {
    "duration": 37,
    "start_time": "2022-11-29T20:03:02.586Z"
   },
   {
    "duration": 26,
    "start_time": "2022-11-29T20:03:02.625Z"
   },
   {
    "duration": 8,
    "start_time": "2022-11-29T20:03:02.653Z"
   },
   {
    "duration": 25,
    "start_time": "2022-11-29T20:03:02.662Z"
   },
   {
    "duration": 57,
    "start_time": "2022-12-06T20:07:25.485Z"
   },
   {
    "duration": 49,
    "start_time": "2022-12-06T20:07:35.648Z"
   },
   {
    "duration": 40,
    "start_time": "2022-12-06T20:07:44.893Z"
   },
   {
    "duration": 60,
    "start_time": "2022-12-06T20:08:12.232Z"
   },
   {
    "duration": 47,
    "start_time": "2022-12-06T20:08:25.031Z"
   },
   {
    "duration": 42,
    "start_time": "2022-12-06T20:10:27.122Z"
   },
   {
    "duration": 8,
    "start_time": "2022-12-06T20:35:52.415Z"
   },
   {
    "duration": 6,
    "start_time": "2022-12-06T20:35:53.357Z"
   },
   {
    "duration": 1435,
    "start_time": "2022-12-06T20:37:18.886Z"
   },
   {
    "duration": 85,
    "start_time": "2022-12-06T20:37:20.323Z"
   },
   {
    "duration": 18,
    "start_time": "2022-12-06T20:37:20.410Z"
   },
   {
    "duration": 16,
    "start_time": "2022-12-06T20:37:20.430Z"
   },
   {
    "duration": 41,
    "start_time": "2022-12-06T20:37:20.447Z"
   },
   {
    "duration": 10,
    "start_time": "2022-12-06T20:37:20.489Z"
   },
   {
    "duration": 24,
    "start_time": "2022-12-06T20:37:20.500Z"
   },
   {
    "duration": 9,
    "start_time": "2022-12-06T20:37:20.526Z"
   },
   {
    "duration": 14,
    "start_time": "2022-12-06T20:37:20.536Z"
   },
   {
    "duration": 10,
    "start_time": "2022-12-06T20:37:20.553Z"
   },
   {
    "duration": 22,
    "start_time": "2022-12-06T20:37:20.564Z"
   },
   {
    "duration": 3,
    "start_time": "2022-12-06T20:37:20.588Z"
   },
   {
    "duration": 10,
    "start_time": "2022-12-06T20:37:20.592Z"
   },
   {
    "duration": 20,
    "start_time": "2022-12-06T20:37:20.603Z"
   },
   {
    "duration": 5,
    "start_time": "2022-12-06T20:37:20.625Z"
   },
   {
    "duration": 21,
    "start_time": "2022-12-06T20:37:20.632Z"
   },
   {
    "duration": 11,
    "start_time": "2022-12-06T20:37:20.655Z"
   },
   {
    "duration": 23,
    "start_time": "2022-12-06T20:37:20.668Z"
   },
   {
    "duration": 24,
    "start_time": "2022-12-06T20:37:20.692Z"
   },
   {
    "duration": 22,
    "start_time": "2022-12-06T20:37:20.718Z"
   },
   {
    "duration": 35,
    "start_time": "2022-12-06T20:37:20.742Z"
   },
   {
    "duration": 4,
    "start_time": "2022-12-06T20:37:20.778Z"
   },
   {
    "duration": 241,
    "start_time": "2022-12-06T20:37:20.784Z"
   },
   {
    "duration": 95,
    "start_time": "2022-12-06T20:37:21.028Z"
   },
   {
    "duration": 214,
    "start_time": "2022-12-06T20:37:21.125Z"
   },
   {
    "duration": 3,
    "start_time": "2022-12-06T20:37:21.340Z"
   },
   {
    "duration": 7,
    "start_time": "2022-12-06T20:37:21.344Z"
   },
   {
    "duration": 773,
    "start_time": "2022-12-06T20:37:21.355Z"
   },
   {
    "duration": 753,
    "start_time": "2022-12-06T20:37:22.130Z"
   },
   {
    "duration": 4755,
    "start_time": "2022-12-06T20:37:22.884Z"
   },
   {
    "duration": 3624,
    "start_time": "2022-12-06T20:37:27.640Z"
   },
   {
    "duration": 9,
    "start_time": "2022-12-06T20:37:31.266Z"
   },
   {
    "duration": 49,
    "start_time": "2022-12-06T20:37:31.277Z"
   },
   {
    "duration": 41,
    "start_time": "2022-12-06T20:37:31.328Z"
   },
   {
    "duration": 157,
    "start_time": "2022-12-06T20:37:31.371Z"
   },
   {
    "duration": 8,
    "start_time": "2022-12-06T20:37:31.530Z"
   },
   {
    "duration": 11,
    "start_time": "2022-12-06T20:37:31.540Z"
   },
   {
    "duration": 71,
    "start_time": "2022-12-06T20:37:31.552Z"
   },
   {
    "duration": 3814,
    "start_time": "2022-12-06T20:37:31.624Z"
   },
   {
    "duration": 0,
    "start_time": "2022-12-06T20:37:35.440Z"
   },
   {
    "duration": 0,
    "start_time": "2022-12-06T20:37:35.441Z"
   },
   {
    "duration": 0,
    "start_time": "2022-12-06T20:37:35.442Z"
   },
   {
    "duration": 0,
    "start_time": "2022-12-06T20:37:35.443Z"
   },
   {
    "duration": 0,
    "start_time": "2022-12-06T20:37:35.445Z"
   },
   {
    "duration": 0,
    "start_time": "2022-12-06T20:37:35.446Z"
   },
   {
    "duration": 0,
    "start_time": "2022-12-06T20:37:35.451Z"
   },
   {
    "duration": 0,
    "start_time": "2022-12-06T20:37:35.452Z"
   },
   {
    "duration": 0,
    "start_time": "2022-12-06T20:37:35.453Z"
   },
   {
    "duration": 0,
    "start_time": "2022-12-06T20:37:35.455Z"
   },
   {
    "duration": 0,
    "start_time": "2022-12-06T20:37:35.456Z"
   },
   {
    "duration": 0,
    "start_time": "2022-12-06T20:37:35.457Z"
   },
   {
    "duration": 0,
    "start_time": "2022-12-06T20:37:35.458Z"
   },
   {
    "duration": 0,
    "start_time": "2022-12-06T20:37:35.460Z"
   },
   {
    "duration": 0,
    "start_time": "2022-12-06T20:37:35.462Z"
   },
   {
    "duration": 0,
    "start_time": "2022-12-06T20:37:35.463Z"
   },
   {
    "duration": 0,
    "start_time": "2022-12-06T20:37:35.464Z"
   },
   {
    "duration": 0,
    "start_time": "2022-12-06T20:37:35.466Z"
   },
   {
    "duration": 0,
    "start_time": "2022-12-06T20:37:35.468Z"
   },
   {
    "duration": 0,
    "start_time": "2022-12-06T20:37:35.469Z"
   },
   {
    "duration": 0,
    "start_time": "2022-12-06T20:37:35.471Z"
   },
   {
    "duration": 0,
    "start_time": "2022-12-06T20:37:35.472Z"
   },
   {
    "duration": 0,
    "start_time": "2022-12-06T20:37:35.473Z"
   },
   {
    "duration": 0,
    "start_time": "2022-12-06T20:37:35.474Z"
   },
   {
    "duration": 0,
    "start_time": "2022-12-06T20:37:35.522Z"
   },
   {
    "duration": 0,
    "start_time": "2022-12-06T20:37:35.532Z"
   },
   {
    "duration": 0,
    "start_time": "2022-12-06T20:37:35.533Z"
   },
   {
    "duration": 12337,
    "start_time": "2022-12-06T20:39:44.085Z"
   },
   {
    "duration": 11785,
    "start_time": "2022-12-06T20:40:01.837Z"
   },
   {
    "duration": 3247,
    "start_time": "2022-12-06T20:41:46.076Z"
   },
   {
    "duration": 12642,
    "start_time": "2022-12-06T20:41:51.580Z"
   },
   {
    "duration": 9,
    "start_time": "2022-12-06T20:52:50.016Z"
   },
   {
    "duration": 9,
    "start_time": "2022-12-06T20:56:13.367Z"
   },
   {
    "duration": 1301,
    "start_time": "2022-12-06T20:56:19.126Z"
   },
   {
    "duration": 38,
    "start_time": "2022-12-06T20:56:20.429Z"
   },
   {
    "duration": 15,
    "start_time": "2022-12-06T20:56:20.469Z"
   },
   {
    "duration": 11,
    "start_time": "2022-12-06T20:56:20.486Z"
   },
   {
    "duration": 38,
    "start_time": "2022-12-06T20:56:20.498Z"
   },
   {
    "duration": 9,
    "start_time": "2022-12-06T20:56:20.538Z"
   },
   {
    "duration": 3,
    "start_time": "2022-12-06T20:56:20.549Z"
   },
   {
    "duration": 8,
    "start_time": "2022-12-06T20:56:20.553Z"
   },
   {
    "duration": 27,
    "start_time": "2022-12-06T20:56:20.562Z"
   },
   {
    "duration": 7,
    "start_time": "2022-12-06T20:56:20.592Z"
   },
   {
    "duration": 25,
    "start_time": "2022-12-06T20:56:20.600Z"
   },
   {
    "duration": 3,
    "start_time": "2022-12-06T20:56:20.627Z"
   },
   {
    "duration": 11,
    "start_time": "2022-12-06T20:56:20.632Z"
   },
   {
    "duration": 5,
    "start_time": "2022-12-06T20:56:20.644Z"
   },
   {
    "duration": 10,
    "start_time": "2022-12-06T20:56:20.651Z"
   },
   {
    "duration": 13,
    "start_time": "2022-12-06T20:56:20.663Z"
   },
   {
    "duration": 13,
    "start_time": "2022-12-06T20:56:20.677Z"
   },
   {
    "duration": 10,
    "start_time": "2022-12-06T20:56:20.691Z"
   },
   {
    "duration": 26,
    "start_time": "2022-12-06T20:56:20.702Z"
   },
   {
    "duration": 17,
    "start_time": "2022-12-06T20:56:20.730Z"
   },
   {
    "duration": 15,
    "start_time": "2022-12-06T20:56:20.748Z"
   },
   {
    "duration": 3,
    "start_time": "2022-12-06T20:56:20.765Z"
   },
   {
    "duration": 264,
    "start_time": "2022-12-06T20:56:20.770Z"
   },
   {
    "duration": 92,
    "start_time": "2022-12-06T20:56:21.036Z"
   },
   {
    "duration": 212,
    "start_time": "2022-12-06T20:56:21.129Z"
   },
   {
    "duration": 3,
    "start_time": "2022-12-06T20:56:21.342Z"
   },
   {
    "duration": 7,
    "start_time": "2022-12-06T20:56:21.347Z"
   },
   {
    "duration": 765,
    "start_time": "2022-12-06T20:56:21.358Z"
   },
   {
    "duration": 752,
    "start_time": "2022-12-06T20:56:22.126Z"
   },
   {
    "duration": 4665,
    "start_time": "2022-12-06T20:56:22.880Z"
   },
   {
    "duration": 3636,
    "start_time": "2022-12-06T20:56:27.547Z"
   },
   {
    "duration": 8,
    "start_time": "2022-12-06T20:56:31.184Z"
   },
   {
    "duration": 42,
    "start_time": "2022-12-06T20:56:31.193Z"
   },
   {
    "duration": 33,
    "start_time": "2022-12-06T20:56:31.237Z"
   },
   {
    "duration": 152,
    "start_time": "2022-12-06T20:56:31.272Z"
   },
   {
    "duration": 7,
    "start_time": "2022-12-06T20:56:31.426Z"
   },
   {
    "duration": 13,
    "start_time": "2022-12-06T20:56:31.435Z"
   },
   {
    "duration": 73,
    "start_time": "2022-12-06T20:56:31.450Z"
   },
   {
    "duration": 12301,
    "start_time": "2022-12-06T20:56:31.525Z"
   },
   {
    "duration": 95,
    "start_time": "2022-12-06T20:56:43.828Z"
   },
   {
    "duration": 12,
    "start_time": "2022-12-06T20:56:43.924Z"
   },
   {
    "duration": 94,
    "start_time": "2022-12-06T20:56:44.028Z"
   },
   {
    "duration": 127,
    "start_time": "2022-12-06T20:56:44.124Z"
   },
   {
    "duration": 120,
    "start_time": "2022-12-06T20:56:44.253Z"
   },
   {
    "duration": 196,
    "start_time": "2022-12-06T20:56:44.375Z"
   },
   {
    "duration": 7,
    "start_time": "2022-12-06T20:56:44.573Z"
   },
   {
    "duration": 14,
    "start_time": "2022-12-06T20:56:44.582Z"
   },
   {
    "duration": 13,
    "start_time": "2022-12-06T20:56:44.598Z"
   },
   {
    "duration": 22,
    "start_time": "2022-12-06T20:56:44.613Z"
   },
   {
    "duration": 7,
    "start_time": "2022-12-06T20:56:44.637Z"
   },
   {
    "duration": 11,
    "start_time": "2022-12-06T20:56:44.646Z"
   },
   {
    "duration": 10,
    "start_time": "2022-12-06T20:56:44.659Z"
   },
   {
    "duration": 146,
    "start_time": "2022-12-06T20:56:44.670Z"
   },
   {
    "duration": 246,
    "start_time": "2022-12-06T20:56:44.821Z"
   },
   {
    "duration": 500,
    "start_time": "2022-12-06T20:56:45.122Z"
   },
   {
    "duration": 133,
    "start_time": "2022-12-06T20:56:45.625Z"
   },
   {
    "duration": 108,
    "start_time": "2022-12-06T20:56:45.760Z"
   },
   {
    "duration": 0,
    "start_time": "2022-12-06T20:56:45.869Z"
   },
   {
    "duration": 0,
    "start_time": "2022-12-06T20:56:45.870Z"
   },
   {
    "duration": 1,
    "start_time": "2022-12-06T20:56:45.871Z"
   },
   {
    "duration": 0,
    "start_time": "2022-12-06T20:56:45.873Z"
   },
   {
    "duration": 0,
    "start_time": "2022-12-06T20:56:45.873Z"
   },
   {
    "duration": 0,
    "start_time": "2022-12-06T20:56:45.874Z"
   },
   {
    "duration": 0,
    "start_time": "2022-12-06T20:56:45.875Z"
   },
   {
    "duration": 0,
    "start_time": "2022-12-06T20:56:45.877Z"
   },
   {
    "duration": 0,
    "start_time": "2022-12-06T20:56:45.877Z"
   },
   {
    "duration": 0,
    "start_time": "2022-12-06T20:56:45.879Z"
   },
   {
    "duration": 9,
    "start_time": "2022-12-06T20:57:58.118Z"
   },
   {
    "duration": 20,
    "start_time": "2022-12-06T20:59:04.526Z"
   },
   {
    "duration": 41,
    "start_time": "2022-12-06T20:59:05.951Z"
   },
   {
    "duration": 7,
    "start_time": "2022-12-06T21:00:41.293Z"
   },
   {
    "duration": 8,
    "start_time": "2022-12-06T21:00:44.415Z"
   },
   {
    "duration": 20,
    "start_time": "2022-12-06T21:00:47.486Z"
   },
   {
    "duration": 41,
    "start_time": "2022-12-06T21:00:48.308Z"
   },
   {
    "duration": 10,
    "start_time": "2022-12-06T21:03:48.098Z"
   },
   {
    "duration": 9,
    "start_time": "2022-12-06T21:05:03.802Z"
   },
   {
    "duration": 119,
    "start_time": "2022-12-06T21:05:51.244Z"
   },
   {
    "duration": 259,
    "start_time": "2022-12-06T21:05:53.141Z"
   },
   {
    "duration": 20,
    "start_time": "2022-12-06T21:09:32.926Z"
   },
   {
    "duration": 21,
    "start_time": "2022-12-06T21:09:43.274Z"
   },
   {
    "duration": 22,
    "start_time": "2022-12-06T21:10:00.338Z"
   },
   {
    "duration": 20,
    "start_time": "2022-12-06T21:10:05.395Z"
   },
   {
    "duration": 22,
    "start_time": "2022-12-06T21:10:16.978Z"
   },
   {
    "duration": 21,
    "start_time": "2022-12-06T21:10:18.621Z"
   },
   {
    "duration": 15,
    "start_time": "2022-12-06T21:21:41.777Z"
   },
   {
    "duration": 33,
    "start_time": "2022-12-06T21:22:03.824Z"
   },
   {
    "duration": 111,
    "start_time": "2022-12-06T21:22:33.009Z"
   },
   {
    "duration": 18,
    "start_time": "2022-12-06T21:23:05.120Z"
   },
   {
    "duration": 18,
    "start_time": "2022-12-06T21:23:13.737Z"
   },
   {
    "duration": 72,
    "start_time": "2022-12-06T21:23:14.649Z"
   },
   {
    "duration": 10,
    "start_time": "2022-12-06T21:23:46.942Z"
   },
   {
    "duration": 8,
    "start_time": "2022-12-06T21:23:49.177Z"
   },
   {
    "duration": 1237,
    "start_time": "2022-12-06T21:24:53.062Z"
   },
   {
    "duration": 39,
    "start_time": "2022-12-06T21:24:54.301Z"
   },
   {
    "duration": 16,
    "start_time": "2022-12-06T21:24:54.342Z"
   },
   {
    "duration": 22,
    "start_time": "2022-12-06T21:24:54.360Z"
   },
   {
    "duration": 44,
    "start_time": "2022-12-06T21:24:54.384Z"
   },
   {
    "duration": 10,
    "start_time": "2022-12-06T21:24:54.430Z"
   },
   {
    "duration": 4,
    "start_time": "2022-12-06T21:24:54.441Z"
   },
   {
    "duration": 23,
    "start_time": "2022-12-06T21:24:54.447Z"
   },
   {
    "duration": 16,
    "start_time": "2022-12-06T21:24:54.471Z"
   },
   {
    "duration": 7,
    "start_time": "2022-12-06T21:24:54.490Z"
   },
   {
    "duration": 26,
    "start_time": "2022-12-06T21:24:54.498Z"
   },
   {
    "duration": 3,
    "start_time": "2022-12-06T21:24:54.526Z"
   },
   {
    "duration": 9,
    "start_time": "2022-12-06T21:24:54.530Z"
   },
   {
    "duration": 9,
    "start_time": "2022-12-06T21:24:54.540Z"
   },
   {
    "duration": 13,
    "start_time": "2022-12-06T21:24:54.551Z"
   },
   {
    "duration": 25,
    "start_time": "2022-12-06T21:24:54.565Z"
   },
   {
    "duration": 20,
    "start_time": "2022-12-06T21:24:54.591Z"
   },
   {
    "duration": 12,
    "start_time": "2022-12-06T21:24:54.613Z"
   },
   {
    "duration": 36,
    "start_time": "2022-12-06T21:24:54.626Z"
   },
   {
    "duration": 15,
    "start_time": "2022-12-06T21:24:54.664Z"
   },
   {
    "duration": 26,
    "start_time": "2022-12-06T21:24:54.681Z"
   },
   {
    "duration": 12,
    "start_time": "2022-12-06T21:24:54.709Z"
   },
   {
    "duration": 300,
    "start_time": "2022-12-06T21:24:54.723Z"
   },
   {
    "duration": 95,
    "start_time": "2022-12-06T21:24:55.026Z"
   },
   {
    "duration": 130,
    "start_time": "2022-12-06T21:24:55.123Z"
   },
   {
    "duration": 4,
    "start_time": "2022-12-06T21:24:55.254Z"
   },
   {
    "duration": 7,
    "start_time": "2022-12-06T21:24:55.259Z"
   },
   {
    "duration": 754,
    "start_time": "2022-12-06T21:24:55.269Z"
   },
   {
    "duration": 780,
    "start_time": "2022-12-06T21:24:56.025Z"
   },
   {
    "duration": 4747,
    "start_time": "2022-12-06T21:24:56.806Z"
   },
   {
    "duration": 3686,
    "start_time": "2022-12-06T21:25:01.555Z"
   },
   {
    "duration": 8,
    "start_time": "2022-12-06T21:25:05.242Z"
   },
   {
    "duration": 27,
    "start_time": "2022-12-06T21:25:05.252Z"
   },
   {
    "duration": 52,
    "start_time": "2022-12-06T21:25:05.281Z"
   },
   {
    "duration": 178,
    "start_time": "2022-12-06T21:25:05.335Z"
   },
   {
    "duration": 12,
    "start_time": "2022-12-06T21:25:05.515Z"
   },
   {
    "duration": 8,
    "start_time": "2022-12-06T21:25:05.528Z"
   },
   {
    "duration": 84,
    "start_time": "2022-12-06T21:25:05.537Z"
   },
   {
    "duration": 12298,
    "start_time": "2022-12-06T21:25:05.624Z"
   },
   {
    "duration": 98,
    "start_time": "2022-12-06T21:25:17.925Z"
   },
   {
    "duration": 14,
    "start_time": "2022-12-06T21:25:18.025Z"
   },
   {
    "duration": 89,
    "start_time": "2022-12-06T21:25:18.042Z"
   },
   {
    "duration": 133,
    "start_time": "2022-12-06T21:25:18.221Z"
   },
   {
    "duration": 131,
    "start_time": "2022-12-06T21:25:18.355Z"
   },
   {
    "duration": 197,
    "start_time": "2022-12-06T21:25:18.488Z"
   },
   {
    "duration": 5,
    "start_time": "2022-12-06T21:25:18.687Z"
   },
   {
    "duration": 30,
    "start_time": "2022-12-06T21:25:18.694Z"
   },
   {
    "duration": 35,
    "start_time": "2022-12-06T21:25:18.725Z"
   },
   {
    "duration": 20,
    "start_time": "2022-12-06T21:25:18.762Z"
   },
   {
    "duration": 12,
    "start_time": "2022-12-06T21:25:18.784Z"
   },
   {
    "duration": 13,
    "start_time": "2022-12-06T21:25:18.798Z"
   },
   {
    "duration": 12,
    "start_time": "2022-12-06T21:25:18.812Z"
   },
   {
    "duration": 120,
    "start_time": "2022-12-06T21:25:18.825Z"
   },
   {
    "duration": 277,
    "start_time": "2022-12-06T21:25:18.947Z"
   },
   {
    "duration": 405,
    "start_time": "2022-12-06T21:25:19.229Z"
   },
   {
    "duration": 211,
    "start_time": "2022-12-06T21:25:19.637Z"
   },
   {
    "duration": 19,
    "start_time": "2022-12-06T21:25:19.850Z"
   },
   {
    "duration": 7,
    "start_time": "2022-12-06T21:25:19.870Z"
   },
   {
    "duration": 7,
    "start_time": "2022-12-06T21:25:19.879Z"
   },
   {
    "duration": 286,
    "start_time": "2022-12-06T21:25:19.887Z"
   },
   {
    "duration": 130,
    "start_time": "2022-12-06T21:25:20.174Z"
   },
   {
    "duration": 27,
    "start_time": "2022-12-06T21:25:20.305Z"
   },
   {
    "duration": 20,
    "start_time": "2022-12-06T21:25:20.333Z"
   },
   {
    "duration": 68,
    "start_time": "2022-12-06T21:25:20.355Z"
   },
   {
    "duration": 195,
    "start_time": "2022-12-06T21:25:20.425Z"
   },
   {
    "duration": 105,
    "start_time": "2022-12-06T21:25:20.623Z"
   },
   {
    "duration": 191,
    "start_time": "2022-12-06T21:25:20.730Z"
   },
   {
    "duration": 340,
    "start_time": "2022-12-06T21:25:20.927Z"
   },
   {
    "duration": 23,
    "start_time": "2022-12-06T21:25:21.269Z"
   },
   {
    "duration": 29,
    "start_time": "2022-12-06T21:25:21.293Z"
   },
   {
    "duration": 5,
    "start_time": "2022-12-06T21:25:21.324Z"
   },
   {
    "duration": 15,
    "start_time": "2022-12-06T21:25:21.330Z"
   }
  ],
  "kernelspec": {
   "display_name": "Python 3 (ipykernel)",
   "language": "python",
   "name": "python3"
  },
  "language_info": {
   "codemirror_mode": {
    "name": "ipython",
    "version": 3
   },
   "file_extension": ".py",
   "mimetype": "text/x-python",
   "name": "python",
   "nbconvert_exporter": "python",
   "pygments_lexer": "ipython3",
   "version": "3.9.12"
  },
  "toc": {
   "base_numbering": 1,
   "nav_menu": {},
   "number_sections": true,
   "sideBar": true,
   "skip_h1_title": true,
   "title_cell": "Содержание",
   "title_sidebar": "Contents",
   "toc_cell": true,
   "toc_position": {},
   "toc_section_display": true,
   "toc_window_display": true
  }
 },
 "nbformat": 4,
 "nbformat_minor": 2
}
